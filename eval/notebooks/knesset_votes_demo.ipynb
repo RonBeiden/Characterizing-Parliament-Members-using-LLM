import pandas as pd
import numpy as np

def normalize_english_names(df2):
    """
    Step 1: Replace blank spaces with underscores in the english_name column of original
    
    Args:
        df2: DataFrame from original
    
    Returns:
        DataFrame with normalized english_name column
    """
    df2_copy = df2.copy()
    df2_copy['english_name'] = df2_copy['english_name'].str.replace(' ', '_')
    print(f"Step 1: Normalized {len(df2_copy)} english names (spaces → underscores)")
    return df2_copy

def convert_response_to_votes(df1):
    """
    Step 2: Convert Hebrew Response column to voted_pro and voted_aginst columns
    
    Args:
        df1: DataFrame from bot with Name and Response columns
    
    Returns:
        DataFrame with added voted_pro and voted_aginst columns
    """
    df1_copy = df1.copy()
    
    # Initialize the new columns
    df1_copy['voted_pro'] = 0
    df1_copy['voted_aginst'] = 0
    
    # Convert Hebrew responses
    for idx, row in df1_copy.iterrows():
        response = row['Response'].strip() if pd.notna(row['Response']) else ''
        
        if response == 'בעד':  # Pro/For
            df1_copy.at[idx, 'voted_pro'] = 1
            df1_copy.at[idx, 'voted_aginst'] = 0
        elif response == 'נגד':  # Against
            df1_copy.at[idx, 'voted_pro'] = 0
            df1_copy.at[idx, 'voted_aginst'] = 1
        else:
            # Handle unexpected values - set both to 0
            df1_copy.at[idx, 'voted_pro'] = 0
            df1_copy.at[idx, 'voted_aginst'] = 0
            if response:  # Only warn if there's actually a value
                print(f"Warning: Unexpected response '{response}' for {row['Name']}")
    
    pro_count = df1_copy['voted_pro'].sum()
    against_count = df1_copy['voted_aginst'].sum()
    print(f"Step 2: Converted responses - Pro: {pro_count}, Against: {against_count}")
    
    return df1_copy

def analyze_law_passage(df1_converted, df2_normalized):
    """
    Step 3: Analyze if the law passed in both CSVs (more voted_pro than voted_aginst)
    
    Args:
        df1_converted: bot with converted vote columns
        df2_normalized: original with normalized names
    
    Returns:
        Dictionary with analysis results
    """
    # bot analysis
    bot_pro = df1_converted['voted_pro'].sum()
    bot_against = df1_converted['voted_aginst'].sum()
    bot_passed = bot_pro > bot_against
    
    # original analysis
    original_pro = df2_normalized['voted_pro'].sum()
    original_against = df2_normalized['voted_aginst'].sum()
    original_passed = original_pro > original_against
    
    # Agreement check
    both_agree = bot_passed == original_passed
    
    results = {
        'bot': {
            'pro_votes': int(bot_pro),
            'against_votes': int(bot_against),
            'total_votes': len(df1_converted),
            'law_passed': bot_passed
        },
        'original': {
            'pro_votes': int(original_pro),
            'against_votes': int(original_against),
            'total_votes': len(df2_normalized),
            'law_passed': original_passed
        },
        'agreement': {
            'both_agree_on_result': both_agree,
            'both_passed': bot_passed and original_passed,
            'both_failed': not bot_passed and not original_passed
        }
    }
    
    print(f"Step 3: Law passage analysis completed")
    print(f"  bot: {bot_pro} pro, {bot_against} against → {'PASSED' if bot_passed else 'FAILED'}")
    print(f"  original: {original_pro} pro, {original_against} against → {'PASSED' if original_passed else 'FAILED'}")
    print(f"  Agreement: {'YES' if both_agree else 'NO'}")
    
    return results

def find_mismatches(df1_converted, df2_normalized):
    """
    Step 4: Find and print mismatches between the two files for the same names
    
    Args:
        df1_converted: bot with converted vote columns
        df2_normalized: original with normalized names
    
    Returns:
        List of mismatch details
    """
    mismatches = []
    
    # Create lookup dictionary for original using english_name as key
    original_lookup = {}
    for _, row in df2_normalized.iterrows():
        original_lookup[row['english_name']] = {
            'voted_pro': row['voted_pro'],
            'voted_aginst': row['voted_aginst']
        }
    
    # Check each person in bot
    for _, row1 in df1_converted.iterrows():
        name = row1['Name']
        
        if name in original_lookup:
            original_data = original_lookup[name]
            
            # Compare votes
            bot_pro = row1['voted_pro']
            bot_against = row1['voted_aginst']
            original_pro = original_data['voted_pro']
            original_against = original_data['voted_aginst']
            
            # Check for mismatches
            if bot_pro != original_pro or bot_against != original_against:
                mismatch = {
                    'name': name,
                    'bot_pro': bot_pro,
                    'bot_against': bot_against,
                    'original_pro': original_pro,
                    'original_against': original_against,
                    'differences': []
                }
                
                if bot_pro != original_pro:
                    mismatch['differences'].append(f"Pro votes: bot={bot_pro}, original={original_pro}")
                if bot_against != original_against:
                    mismatch['differences'].append(f"Against votes: bot={bot_against}, original={original_against}")
                
                mismatches.append(mismatch)
        else:
            # Name in bot but not in original
            mismatch = {
                'name': name,
                'bot_pro': row1['voted_pro'],
                'bot_against': row1['voted_aginst'],
                'original_pro': 'NOT_FOUND',
                'original_against': 'NOT_FOUND',
                'differences': ['Name exists in bot but not in original']
            }
            mismatches.append(mismatch)
    
    # Check for names in original but not in bot
    bot_names = set(df1_converted['Name'])
    for english_name in original_lookup.keys():
        if english_name not in bot_names:
            original_data = original_lookup[english_name]
            mismatch = {
                'name': english_name,
                'bot_pro': 'NOT_FOUND',
                'bot_against': 'NOT_FOUND',
                'original_pro': original_data['voted_pro'],
                'original_against': original_data['voted_aginst'],
                'differences': ['Name exists in original but not in bot']
            }
            mismatches.append(mismatch)
    
    print(f"Step 4: Found {len(mismatches)} mismatches")
    return mismatches

def categorize_mismatches(mismatches):
    """
    Categorize mismatches into different types
    
    Args:
        mismatches: List of mismatch dictionaries from find_mismatches()
    
    Returns:
        Dictionary with categorized mismatches
    """
    missing_from_bot = []  # Names in original but not in bot
    missing_from_original = []  # Names in bot but not in original
    voting_disagreements = []  # Names in both files but with different votes
    
    for mismatch in mismatches:
        if mismatch['bot_pro'] == 'NOT_FOUND':
            missing_from_bot.append(mismatch['name'])
        elif mismatch['original_pro'] == 'NOT_FOUND':
            missing_from_original.append(mismatch['name'])
        else:
            voting_disagreements.append(mismatch['name'])
    
    return {
        'missing_from_bot': missing_from_bot,
        'missing_from_original': missing_from_original,
        'voting_disagreements': voting_disagreements
    }

def print_mismatch_lists(categorized_mismatches):
    """
    Print organized lists of mismatched names by category
    
    Args:
        categorized_mismatches: Dictionary from categorize_mismatches()
    """
    print("=" * 60)
    print("MISMATCH LISTS BY CATEGORY")
    print("=" * 60)
    
    # Names missing from bot (exist in original only)
    missing_bot = categorized_mismatches['missing_from_bot']
    if missing_bot:
        print(f"\n📋 NAMES MISSING FROM bot ({len(missing_bot)} names):")
        print("   (These names exist in original but not in bot)")
        for i, name in enumerate(missing_bot, 1):
            print(f"   {i:2d}. {name}")
    else:
        print(f"\n📋 NAMES MISSING FROM bot: None")
    
    # Names missing from original (exist in bot only)
    missing_original = categorized_mismatches['missing_from_original']
    if missing_original:
        print(f"\n📋 NAMES MISSING FROM original ({len(missing_original)} names):")
        print("   (These names exist in bot but not in original)")
        for i, name in enumerate(missing_original, 1):
            print(f"   {i:2d}. {name}")
    else:
        print(f"\n📋 NAMES MISSING FROM original: None")
    
    # Names with voting disagreements
    disagreements = categorized_mismatches['voting_disagreements']
    if disagreements:
        print(f"\n🗳️  VOTING DISAGREEMENTS ({len(disagreements)} names):")
        print("   (These names exist in both files but have different votes)")
        for i, name in enumerate(disagreements, 1):
            print(f"   {i:2d}. {name}")
    else:
        print(f"\n🗳️  VOTING DISAGREEMENTS: None")


def main(bot_path, original_path):
    """
    Main function that executes all steps
    """
    # File paths - update these with your actual file paths
         
    try:
        # Load the CSV files
        print("Loading CSV files...")
        df1 = pd.read_csv(bot_path)
        df2 = pd.read_csv(original_path)
        
        # Clean column names (remove extra whitespace)
        df1.columns = df1.columns.str.strip()
        df2.columns = df2.columns.str.strip()
        
        print(f"Loaded bot: {df1.shape[0]} rows")
        print(f"Loaded original: {df2.shape[0]} rows")
        print()
        
        # Step 1: Normalize english names in original
        df2_normalized = normalize_english_names(df2)
        
        # Step 2: Convert Response to vote columns in bot
        df1_converted = convert_response_to_votes(df1)
        
        # Step 3: Analyze law passage
        analysis_results = analyze_law_passage(df1_converted, df2_normalized)
        
        # Step 4: Find mismatches
        mismatches = find_mismatches(df1_converted, df2_normalized)
        
        # Categorize mismatches
        categorized_mismatches = categorize_mismatches(mismatches)
        
        # Print ALL mismatched names first
        print()
        # print_all_mismatched_names(categorized_mismatches)
        
        # Print the organized mismatch lists by category
        print()
        print_mismatch_lists(categorized_mismatches)
        
        # Print the detailed mismatch report
        print()
        # print_mismatches(mismatches)
        
        # Print summary
        print("=" * 60)
        print("SUMMARY")
        print("=" * 60)
        print(f"bot Result: {'PASSED' if analysis_results['bot']['law_passed'] else 'FAILED'} "
              f"({analysis_results['bot']['pro_votes']} pro, {analysis_results['bot']['against_votes']} against)")
        print(f"original Result: {'PASSED' if analysis_results['original']['law_passed'] else 'FAILED'} "
              f"({analysis_results['original']['pro_votes']} pro, {analysis_results['original']['against_votes']} against)")
        print(f"Both files agree: {'YES' if analysis_results['agreement']['both_agree_on_result'] else 'NO'}")
        print(f"Total mismatches: {len(mismatches)}")
        
        return analysis_results, mismatches, categorized_mismatches
        
    except FileNotFoundError as e:
        print(f"Error: Could not find CSV file - {e}")
        print("Please make sure both CSV files exist and update the file paths in the main() function.")
    except Exception as e:
        print(f"Error: {e}")

if __name__ == "__main__":
    bot_path = "חוק לתיקון פקודת המשטרה (מס' 37)_bot.csv"
    original_path = "חוק לתיקון פקודת המשטרה (מס' 37).csv" 
    main(bot_path, original_path)
