{
 "cells": [
  {
   "cell_type": "code",
   "execution_count": null,
   "metadata": {},
   "outputs": [],
   "source": []
  },
  {
   "cell_type": "code",
   "execution_count": null,
   "metadata": {},
   "outputs": [],
   "source": [
    "from transformers import pipeline\n",
    "import pdfplumber\n",
    "\n",
    "# Load a pre-trained open-source model\n",
    "# Replace with your choice of free LLM (e.g., 'EleutherAI/gpt-j-6B' or 'meta-llama/Llama-2-7b-chat-hf')\n",
    "summarizer = pipeline(\"text2text-generation\", model=\"google/flan-t5-base\")\n",
    "\n",
    "# Function to extract text and process in batches\n",
    "def process_pdf_with_free_llm(pdf_path, batch_size=2):\n",
    "    results = []\n",
    "    with pdfplumber.open(pdf_path) as pdf:\n",
    "        text_batches = [\n",
    "            \"\\n\".join([pdf.pages[i].extract_text() for i in range(start, min(start + batch_size, len(pdf.pages)))])\n",
    "            for start in range(0, len(pdf.pages), batch_size)\n",
    "        ]\n",
    "\n",
    "    for idx, batch in enumerate(text_batches):\n",
    "        # Prompt for the open-source model\n",
    "        prompt = f\"\"\"\n",
    "        Extract and organize the text by speaker. \n",
    "        Summarize each speaker's points, and analyze the overall topic. \n",
    "        Input:\n",
    "        {batch[::-1]}\n",
    "        \"\"\"\n",
    "        result = summarizer(prompt, max_length=1024, truncation=True)[0][\"generated_text\"]\n",
    "        results.append({\"batch\": idx + 1, \"result\": result})\n",
    "    return results\n",
    "\n",
    "# Process the uploaded PDF\n",
    "pdf_path = \"downloads/25_ptv_5176143.pdf\"\n",
    "output = process_pdf_with_free_llm(pdf_path)\n",
    "\n",
    "# Save or display the output\n",
    "for item in output:\n",
    "    print(f\"Batch {item['batch']}:\\n{item['result']}\\n\")\n"
   ]
  },
  {
   "cell_type": "code",
   "execution_count": 35,
   "metadata": {},
   "outputs": [
    {
     "data": {
      "text/plain": [
       "[{'batch': 1,\n",
       "  'result': '                                                                                                                                                                                                                                                                                                                                                                                                                                                                                                                               '},\n",
       " {'batch': 2,\n",
       "  'result': '                                                                                                                                                                                                                                                                                                                                                                                                                                                                                                                               '},\n",
       " {'batch': 3,\n",
       "  'result': '                                                                                                                                                                                                                                                                                                                                                                                                                                                                                                                               '},\n",
       " {'batch': 4,\n",
       "  'result': '                                                                                                                                                                                                                                                                                                                                                                                                                                                                                                                               '},\n",
       " {'batch': 5,\n",
       "  'result': '                                                                                                                                                                                                                                                                                                                                                                                                                                                                                                                               '},\n",
       " {'batch': 6,\n",
       "  'result': '                                                                                                                                                                                                                                                                                                                                                                                                                                                                                                                               '},\n",
       " {'batch': 7,\n",
       "  'result': '                                                                                                                                                                                                                                                                                                                                                                                                                                                                                                                               '},\n",
       " {'batch': 8,\n",
       "  'result': '                                                                                                                                                                                                                                                                                                                                                                                                                                                                                                                               '},\n",
       " {'batch': 9,\n",
       "  'result': '                                                                                                                                                                                                                                                                                                                                                                                                                                                                                                                               '},\n",
       " {'batch': 10,\n",
       "  'result': '                                                                                                                                                                                                                                                                                                                                                                                                                                                                                                                               '},\n",
       " {'batch': 11,\n",
       "  'result': '                                                                                                                                                                                                                                                                                                                                                                                                                                                                                                                               '},\n",
       " {'batch': 12,\n",
       "  'result': '                                                                                                                                                                                                                                                                                                                                                                                                                                                                                                                               '},\n",
       " {'batch': 13,\n",
       "  'result': '                                                                                                                                                                                                                                                                                                                                                                                                                                                                                                                               '},\n",
       " {'batch': 14,\n",
       "  'result': '                                                                                                                                                                                                                                                                                                                                                                                                                                                                                                                               '},\n",
       " {'batch': 15,\n",
       "  'result': '                                                                                                                                                                                                                                                                                                                                                                                                                                                                                                                               '},\n",
       " {'batch': 16,\n",
       "  'result': '                                                                                                                                                                                                                                                                                                                                                                                                                                                                                                                               '},\n",
       " {'batch': 17,\n",
       "  'result': '                                                                                                                                                                                                                                                                                                                                                                                                                                                                                                                               '}]"
      ]
     },
     "execution_count": 35,
     "metadata": {},
     "output_type": "execute_result"
    }
   ],
   "source": [
    "output"
   ]
  }
 ],
 "metadata": {
  "kernelspec": {
   "display_name": "Python 3",
   "language": "python",
   "name": "python3"
  },
  "language_info": {
   "codemirror_mode": {
    "name": "ipython",
    "version": 3
   },
   "file_extension": ".py",
   "mimetype": "text/x-python",
   "name": "python",
   "nbconvert_exporter": "python",
   "pygments_lexer": "ipython3",
   "version": "3.10.0"
  }
 },
 "nbformat": 4,
 "nbformat_minor": 2
}
