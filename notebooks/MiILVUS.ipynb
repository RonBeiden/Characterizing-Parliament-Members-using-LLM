{
 "cells": [
  {
   "cell_type": "code",
   "execution_count": null,
   "metadata": {},
   "outputs": [],
   "source": [
    "%pip install \"pymilvus==2.2.11\""
   ]
  },
  {
   "cell_type": "code",
   "execution_count": 1,
   "metadata": {},
   "outputs": [
    {
     "name": "stdout",
     "output_type": "stream",
     "text": [
      "Connection successful!\n"
     ]
    }
   ],
   "source": [
    "from pymilvus import connections\n",
    "\n",
    "try:\n",
    "    connections.connect(alias=\"default\", host=\"127.0.0.1\", port=\"19530\")\n",
    "    print(\"Connection successful!\")\n",
    "except Exception as e:\n",
    "    print(f\"Connection failed: {e}\")\n"
   ]
  },
  {
   "cell_type": "code",
   "execution_count": 6,
   "metadata": {},
   "outputs": [
    {
     "name": "stdout",
     "output_type": "stream",
     "text": [
      "Available collections: ['Ahmed_Tibi', 'Almog_Cohen', 'Tzvi_Sukkot', 'Nir_Barkat_23', 'Aryeh_Deri_25', 'Moshe_Abutbul', 'Ofir_Akunis_25', 'Yuli_Edelstein', 'Orna_Barbivai', 'Yaakov_Asher_20', 'Merav_Cohen_21', 'Benjamin_Netanyahu_22', 'Orit_Struk_21', 'Itamar_Ben_Gvir', 'Danny_Danon_23', 'Yoav_Kisch_23', 'Michael_Biton', 'Sharon_Nir', 'Moshe_Arbel_24', 'Michael_Biton_24', 'Nir_Barkat_21', 'Chaim_Katz_23', 'Uri_Maklev_21', 'Ron_Katz_25', 'Tatyana_Mazerski_25', 'Yifat_Shasha_Biton_24', 'Elazar_Stern_21', 'Yisrael_Eichler_16', 'Ofer_Katz_22', 'Miri_Regev_25', 'Debbie_Biton', 'Merav_Michaeli', 'Orit_Struk', 'Mati_Herchevi', 'Efrat_Marom', 'Chaim_Katz_25', 'Naama_Lazimi_25', 'Benjamin_Netanyahu_15', 'Orit_Struk_24', 'Gideon_Saar_25', 'Yoav_Gallant', 'Idit_Silman', 'Miki_Zohar_21', 'Miki_Zohar_25', 'Micha_Malchieli_25', 'Yuli_Edelstein_14', 'Debbie_Biton_25', 'Yoav_Gallant_18', 'Amichai_Chikli_24', 'Amichai_Chikli_25', 'Tsega_Maleko_25', 'Benjamin_Netanyahu_20', 'Hamad_Amar_25', 'Aryeh_Deri', 'Nir_Barkat_22', 'Gila_Gamliel_17', 'Merav_Michaeli_21', 'Amichai_Eliyahu', 'Yuli_Edelstein_19', 'Moshe_Gafni_20', 'Yaakov_Margi_23', 'Yoel_Razvozov_20', 'David_Amsalem', 'Meir_Porush_20', 'Miki_Zohar_23', 'Chaim_Katz_22', 'Orit_Struk_22', 'Orit_Struk_23', 'Karine_Elharrar', 'Merav_Ben_Ari_24', 'Sheshon_Guetta_22', 'Ahmed_Tibi_19', 'Merav_Cohen_20', 'Merav_Cohen_25', 'Yaakov_Margi_20', 'Kati_Shtrit_25', 'Hili_Trooper_20', 'Yariv_Levin_22', 'Gideon_Saar_22', 'Yuli_Edelstein_23', 'Idit_Silman_25', 'Chaim_Katz_17', 'Elazar_Stern_22', 'Idan_Rol', 'Karine_Elharrar_24', 'Moshe_Gafni_21', 'Israel_Katz_24', 'Micha_Malchieli_20', 'Aida_Sliman_25', 'Uriel_Buso', 'Ofir_Akunis_21', 'Uri_Maklev_18', 'Ayman_Odeh_23', 'Oded_Forer_22', 'Osher_Shkalim_25', 'Sheshon_Guetta', 'Yoav_Kisch', 'Meir_Porush', 'Itamar_Ben_Gvir_21', 'Yoav_Kisch_25', 'Meir_Porush_16', 'Yair_Lapid_19', 'Yoav_Segalovitz_25', 'Miki_Zohar', 'Yoav_Gallant_24', 'Eli_Dallal_23', 'Aryeh_Deri_24', 'Eli_Cohen_21', 'Miki_Zohar_24', 'Ofer_Kasif_25', 'Hamad_Amar_22', 'Miri_Regev_20', 'Danny_Danon_24', 'Sharon_Haskel_22', 'Israel_Katz_20', 'Yitzhak_Pindros_25', 'Avigdor_Lieberman', 'Gila_Gamliel_19', 'Israel_Katz_25', 'Yair_Lapid_21', 'Yurai_Herzan', 'Moshe_Solomon', 'David_Bitan_20', 'Avigdor_Lieberman_17', 'Ayman_Odeh_18', 'Yisrael_Eichler', 'Yaakov_Asher_25', 'Eli_Dallal_24', 'Hamad_Amar_24', 'Amir_Ohana_22', 'Yisrael_Eichler_24', 'Walid_Al_Huashla_25', 'Hava_Atiya', 'Gideon_Saar_19', 'Ayman_Odeh_22', 'Gilad_Kriv_25', 'Yifat_Shasha_Biton_21', 'Iman_Yassin', 'Amir_Ohana_20', 'Moshe_Arbel_21', 'Ram_Ben_Barak_20', 'David_Amsalem_21', 'Miri_Regev_22', 'Efrat_Marom_25', 'Eli_Cohen_22', 'Chaim_Katz_21', 'Shalom_Danino', 'Yaakov_Margi', 'Yariv_Levin', 'Yisrael_Eichler_17', 'Zeev_Elkin_18', 'Moshe_Arbel_23', 'Meir_Cohen_17', 'Meir_Porush_18', 'Yoav_Ben_Tzur_24', 'Uri_Maklev_19', 'Ron_Katz_21', 'Yurai_Herzan_25', 'Orit_Struk_20', 'Michal_Veldigar', 'Yuli_Edelstein_20', 'Avi_Dichter_22', 'Ahmed_Tibi_23', 'Israel_Katz_22', 'Youssef_Atauna_25', 'Naor_Shiri_25', 'Aida_Sliman_24', 'Hamad_Amar', 'Yinon_Azulai_21', 'Bezalel_Smotrich_20', 'Ofer_Kasif_24', 'Avi_Dichter', 'Yitzhak_Goldknopf', 'Yulia_Malinovsky', 'Tali_Gottlieb_25', 'Mai_Golan_23', 'Moshe_Gafni_19', 'Yitzhak_Kreiser_25', 'Merav_Ben_Ari', 'Ayman_Odeh', 'Ariel_Kalner', 'Avigdor_Lieberman_19', 'Avigdor_Lieberman_25', 'Danny_Danon_25', 'Sharon_Haskel_20', 'Eli_Cohen_24', 'Yaakov_Margi_25', 'Mati_Herchevi_25', 'David_Bitan', 'Karine_Elharrar_22', 'Meir_Porush_14', 'Meir_Porush_17', 'Mansour_Abbas_24', 'Moshe_Fassel', 'Sheshon_Guetta_24', 'Chaim_Katz_15', 'Gila_Gamliel', 'Yisrael_Eichler_20', 'Yisrael_Eichler_21', 'Ram_Ben_Barak_23', 'Yuli_Edelstein_21', 'Merav_Ben_Ari_21', 'Aryeh_Deri_18', 'Moshe_Tor_Paz_25', 'Ahmed_Tibi_20', 'Miki_Levy_21', 'Benjamin_Netanyahu_24', 'Nir_Barkat', 'Amir_Ohana_23', 'Zeev_Elkin_23', 'Orna_Barbivai_23', 'Yoel_Razvozov_18', 'Yitzhak_Kreiser', 'Orna_Barbivai_24', 'Yoav_Gallant_19', 'Benny_Gantz_21', 'Yitzhak_Vserloff_25', 'Ofer_Kasif_20', 'Ofer_Katz_21', 'Avigdor_Lieberman_23', 'Orna_Barbivai_20', 'Moshe_Gafni_16', 'Yonatan_Mishraki_25', 'Avi_Maoz', 'Limor_Son_Har_Melech', 'David_Bitan_24', 'Moshe_Gafni_22', 'Amit_Halevi_25', 'David_Amsalem_22', 'Ofir_Akunis_22', 'Israel_Katz_18', 'Israel_Katz_23', 'Chaim_Katz', 'Aida_Sliman', 'Eli_Dallal_25', 'Yoav_Ben_Tzur_23', 'Ron_Dermer', 'Ofir_Akunis', 'Haim_Biton', 'Yoav_Kisch_24', 'Merav_Ben_Ari_23', 'Nir_Barkat_24', 'Gila_Gamliel_23', 'Sharon_Haskel_23', 'Gadi_Eisenkot', 'Meir_Cohen', 'Itamar_Ben_Gvir_23', 'Gideon_Saar_20', 'Gadi_Eisenkot_25', 'Karine_Elharrar_19', 'Ofer_Katz_20', 'Yair_Lapid_25', 'Yifat_Shasha_Biton_20', 'Meir_Cohen_25', 'Ron_Katz_20', 'Merav_Michaeli_24', 'Bezalel_Smotrich', 'Yevgeny_Sova', 'Yinon_Azulai_24', 'Aryeh_Deri_17', 'Aryeh_Deri_20', 'Amichai_Eliyahu_25', 'Chaim_Katz_19', 'Israel_Katz_19', 'Merav_Michaeli_22', 'Sheshon_Guetta_23', 'Yoav_Gallant_20', 'Matan_Kahane_24', 'Walid_Taha', 'Yitzhak_Pindros', 'Aryeh_Deri_23', 'Gideon_Saar_17', 'Benny_Gantz_20', 'Ahmed_Tibi_18', 'Merav_Cohen_22', 'Merav_Cohen_23', 'Miki_Levy_18', 'Yair_Lapid_23', 'Yaakov_Asher_19', 'Danny_Danon_19', 'Meir_Cohen_20', 'Yoav_Kisch_20', 'Yoav_Kisch_22', 'Miki_Zohar_22', 'Yair_Lapid_22', 'Matan_Kahane', 'Youssef_Atauna', 'Zeev_Elkin_22', 'Meir_Cohen_19', 'Oded_Forer_24', 'Dan_Illouz', 'Ram_Ben_Barak', 'Matan_Kahane_22', 'Yinon_Azulai', 'Avraham_Betzalel', 'Micha_Malchieli', 'Benjamin_Netanyahu', 'Yaakov_Asher_24', 'Ram_Ben_Barak_24', 'Ahmed_Tibi_22', 'Miki_Zohar_20', 'Yuli_Edelstein_16', 'Itamar_Ben_Gvir_25', 'Chaim_Katz_24', 'Pnina_Tamno', 'Merav_Ben_Ari_22', 'Orna_Barbivai_21', 'Danny_Danon_20', 'Eli_Cohen_20', 'Israel_Katz_17', 'Oded_Forer_25', 'Ohad_Tal', 'Moshe_Abutbul_23', 'Mai_Golan_25', 'Simon_Davidson_25', 'Aryeh_Deri_22', 'Hili_Trooper_25', 'Ayman_Odeh_20', 'Aida_Sliman_20', 'Alon_Shuster', 'David_Bitan_21', 'Yoel_Razvozov_21', 'Uri_Maklev', 'Yuli_Edelstein_25', 'Yinon_Azulai_22', 'Karine_Elharrar_20', 'Shalom_Danino_25', 'Merav_Michaeli_25', 'Micha_Malchieli_23', 'Idan_Rol_25', 'Ofer_Katz', 'Ofer_Super', 'Zeev_Elkin_24', 'Vladimir_Beliak_25', 'Danny_Danon_21', 'Walid_Taha_22', 'Yaakov_Tesler_25', 'Yariv_Levin_25', 'Avigdor_Lieberman_24', 'Moshe_Arbel_22', 'Avichay_Buaron_25', 'Orna_Barbivai_25', 'Mai_Golan_20', 'Gila_Gamliel_24', 'Benny_Gantz', 'Ofir_Akunis_20', 'Ofir_Akunis_23', 'Miri_Regev_21', 'Miri_Regev_24', 'Miki_Levy', 'Yariv_Levin_24', 'Tali_Gottlieb', 'Moshe_Gafni', 'Yinon_Azulai_20', 'Karine_Elharrar_21', 'David_Bitan_23', 'Benny_Gantz_23', 'Ayman_Odeh_21', 'Zeev_Elkin', 'Eli_Dallal', 'Yonatan_Mishraki', 'Uriel_Buso_23', 'Ram_Ben_Barak_22', 'Moshe_Gafni_23', 'David_Amsalem_23', 'Avichay_Buaron', 'Chanoch_Melibitzki', 'Kati_Shtrit', 'Yisrael_Eichler_22', 'Sharon_Haskel_25', 'Elazar_Stern_20', 'Shelly_Tal_Miron_25', 'Micha_Malchieli_21', 'Hava_Atiya_25', 'Hamad_Amar_23', 'Zeev_Elkin_19', 'Walid_Taha_24', 'Yoav_Ben_Tzur_21', 'Yoav_Ben_Tzur_22', 'Uri_Maklev_17', 'Yaakov_Margi_21', 'Chanoch_Melibitzki_25', 'Amit_Halevi', 'Erez_Malul', 'Yuli_Edelstein_22', 'Mai_Golan_24', 'Danny_Danon_17', 'Michal_Veldigar_25', 'Iman_Yassin_25', 'Walid_Taha_20', 'Chaim_Katz_16', 'Yaakov_Margi_19', 'Yoel_Razvozov_17', 'Moshe_Fassel_25', 'Ariel_Kalner_25', 'Moshe_Saada', 'Boaz_Bismuth_25', 'Ofer_Kasif_21', 'Ofir_Akunis_19', 'Avigdor_Lieberman_18', 'Yaakov_Asher', 'Aryeh_Deri_21', 'Yaakov_Tesler', 'Gilad_Kriv', 'Pnina_Tamno_25', 'Ram_Ben_Barak_25', 'Yoav_Gallant_21', 'Yoav_Gallant_23', 'Meir_Porush_15', 'Israel_Katz_21', 'Miki_Levy_19', 'Ayman_Odeh_19', 'Miri_Regev_18', 'Elazar_Stern_25', 'Smicha_Rothman', 'David_Bitan_19', 'Ofer_Kasif_23', 'Gideon_Saar', 'Moshe_Abutbul_24', 'Uriel_Buso_24', 'Sheshon_Guetta_25', 'Mai_Golan_22', 'Walid_Taha_25', 'Orit_Struk_25', 'Gila_Gamliel_25', 'David_Amsalem_24', 'Yair_Lapid_24', 'Gideon_Saar_21', 'Benny_Gantz_25', 'Eli_Cohen_23', 'Yulia_Malinovsky_25', 'Miri_Regev_19', 'Ron_Katz', 'Bezalel_Smotrich_23', 'Benjamin_Netanyahu_25', 'Tzvika_Fogel_25', 'Yuli_Edelstein_24', 'Gila_Gamliel_22', 'Avi_Dichter_24', 'Aryeh_Deri_13', 'Eli_Cohen_25', 'Uri_Maklev_24', 'Moshe_Abutbul_25', 'Benjamin_Netanyahu_21', 'Walid_Al_Huashla', 'Israel_Katz', 'Eliahu_Ravivo', 'Bezalel_Smotrich_22', 'Mai_Golan_21', 'Danny_Danon_18', 'Yoel_Razvozov_24', 'Avigdor_Lieberman_21', 'Merav_Michaeli_23', 'Smicha_Rothman_25', 'Amir_Ohana_25', 'Yifat_Shasha_Biton_23', 'Yaakov_Asher_22', 'Uriel_Buso_25', 'Moshe_Gafni_25', 'Sharon_Haskel_21', 'Ofir_Akunis_24', 'Boaz_Toporovsky', 'Michael_Biton_25', 'Itamar_Ben_Gvir_20', 'Meir_Cohen_24', 'Amir_Ohana', 'Yinon_Azulai_23', 'Avi_Dichter_18', 'Meir_Porush_24', 'Uri_Maklev_22', 'Moshe_Solomon_25', 'Dan_Illouz_25', 'Merav_Ben_Ari_20', 'Bezalel_Smotrich_21', 'Boaz_Toporovsky_25', 'Naama_Lazimi', 'Moshe_Gafni_24', 'Meir_Cohen_18', 'Yoav_Ben_Tzur_20', 'Danny_Danon', 'Tzvika_Fogel', 'Miri_Regev', 'Elazar_Stern', 'Yoav_Gallant_22', 'Yoav_Gallant_25', 'David_Amsalem_20', 'Yoav_Ben_Tzur_19', 'Elazar_Stern_24', 'Yoel_Razvozov', 'Benny_Gantz_22', 'Avi_Dichter_19', 'Meir_Porush_25', 'Ofer_Katz_24', 'Miki_Levy_22', 'Ayman_Odeh_24', 'Yifat_Shasha_Biton_25', 'Moshe_Gafni_18', 'Yaakov_Margi_22', 'Avigdor_Lieberman_16', 'Osher_Shkalim', 'Zeev_Elkin_20', 'Ram_Ben_Barak_21', 'Yoel_Razvozov_19', 'Yariv_Levin_20', 'Gideon_Saar_23', 'Simon_Davidson', 'David_Bitan_25', 'Orna_Barbivai_22', 'Aryeh_Deri_14', 'Aryeh_Deri_15', 'Benjamin_Netanyahu_18', 'Yevgeny_Sova_25', 'Eli_Dallal_20', 'Meir_Porush_19', 'Benjamin_Netanyahu_19', 'Orit_Prakash_Cohen_25', 'Miri_Regev_23', 'Merav_Cohen', 'Oded_Forer', 'Yuli_Edelstein_17', 'Walid_Taha_23', 'Meir_Cohen_22', 'Simon_Moshiashvili_25', 'Mai_Golan', 'Yair_Lapid', 'Yisrael_Eichler_25', 'Nissim_Wattoori_25', 'Yoel_Razvozov_22', 'Oded_Forer_20', 'Avigdor_Lieberman_20', 'Yair_Lapid_20', 'Tsega_Maleko', 'Yasmin_Friedman', 'Naor_Shiri', 'Amir_Ohana_24', 'Karine_Elharrar_25', 'Hili_Trooper_23', 'Meir_Porush_23', 'Yoav_Ben_Tzur_25', 'Yariv_Levin_21', 'Oded_Forer_21', 'Moshe_Roth_25', 'Yosef_Tayeb', 'Micha_Malchieli_22', 'Yasmin_Friedman_25', 'Yaakov_Asher_23', 'Nir_Barkat_25', 'Eli_Dallal_21', 'Yoav_Kisch_21', 'Idit_Silman_24', 'Yoel_Razvozov_23', 'Mansour_Abbas_25', 'Oded_Forer_23', 'Shlomo_Karai_25', 'Yaakov_Asher_21', 'Ron_Dermer_25', 'Benjamin_Netanyahu_23', 'Moshe_Tor_Paz', 'Yinon_Azulai_25', 'Moshe_Arbel', 'Moshe_Arbel_25', 'Eliyahu_Beruchi_25', 'Ofer_Katz_23', 'Simon_Moshiashvili', 'Shelly_Tal_Miron', 'Merav_Ben_Ari_25', 'Avi_Dichter_20', 'Yosef_Tayeb_25', 'Hili_Trooper_24', 'Almog_Cohen_25', 'Avraham_Betzalel_23', 'Avraham_Betzalel_25', 'Benjamin_Netanyahu_17', 'Nissim_Wattoori', 'Yisrael_Eichler_19', 'Karine_Elharrar_23', 'Ahmed_Tibi_24', 'Matan_Kahane_20', 'Ofer_Kasif_22', 'Sharon_Haskel', 'Orit_Prakash_Cohen', 'Yifat_Shasha_Biton', 'Miki_Levy_20', 'Miki_Levy_25', 'Yariv_Levin_23', 'Ofer_Super_25', 'Ayman_Odeh_25', 'Yitzhak_Vserloff', 'Mansour_Abbas', 'Hili_Trooper_21', 'Uri_Maklev_25', 'Ron_Katz_24', 'Avi_Dichter_21', 'Avi_Dichter_23', 'Avi_Dichter_25', 'David_Amsalem_25', 'Merav_Michaeli_20', 'Yifat_Shasha_Biton_22', 'Tatyana_Mazerski', 'Yisrael_Eichler_23', 'Meir_Porush_21', 'Matan_Kahane_25', 'Avigdor_Lieberman_22', 'Aida_Sliman_22', 'Aida_Sliman_23', 'Gila_Gamliel_18', 'Moshe_Gafni_17', 'Michal_Shir_Sagman_25', 'Michal_Shir_Sagman', 'Haim_Biton_25', 'Yoel_Razvozov_25', 'Avi_Maoz_25', 'Sharon_Nir_25', 'David_Bitan_22', 'Itamar_Ben_Gvir_24', 'Ahmed_Tibi_25', 'Meir_Cohen_23', 'Erez_Malul_25', 'Benjamin_Netanyahu_16', 'Amir_Ohana_21', 'Zeev_Elkin_21', 'Michael_Biton_23', 'Meir_Porush_22', 'Moshe_Roth', 'Benny_Gantz_24', 'Tzvi_Sukkot_25', 'Gideon_Saar_24', 'Elazar_Stern_23', 'Eli_Dallal_22', 'Ohad_Tal_25', 'Ofir_Akunis_18', 'Ofer_Kasif', 'Zeev_Elkin_25', 'Bezalel_Smotrich_24', 'Merav_Cohen_24', 'Hamad_Amar_20', 'Alon_Shuster_25', 'Hili_Trooper', 'Amichai_Chikli', 'Sharon_Haskel_24', 'Yitzhak_Goldknopf_25', 'Ron_Katz_22', 'Limor_Son_Har_Melech_25', 'Yoav_Segalovitz', 'Aryeh_Deri_16', 'Meir_Cohen_21', 'Chaim_Katz_18', 'Yoav_Ben_Tzur', 'Yuli_Edelstein_15', 'Ahmed_Tibi_21', 'Matan_Kahane_23', 'Miki_Levy_24', 'Boaz_Bismuth', 'Eliyahu_Beruchi', 'Nir_Barkat_20', 'Gila_Gamliel_21', 'Aryeh_Deri_19', 'Avraham_Betzalel_24', 'Yaakov_Margi_24', 'Aida_Sliman_21', 'Ron_Katz_23', 'Moshe_Saada_25', 'Shlomo_Karai', 'Bezalel_Smotrich_25', 'Uri_Maklev_20', 'Miki_Levy_23', 'Micha_Malchieli_24', 'Gideon_Saar_18', 'Vladimir_Beliak', 'Eli_Cohen', 'Hili_Trooper_22', 'Ofer_Katz_25', 'Eliahu_Ravivo_25', 'Gila_Gamliel_20', 'Chaim_Katz_20', 'Itamar_Ben_Gvir_22', 'Uri_Maklev_23']\n"
     ]
    }
   ],
   "source": [
    "from pymilvus import utility\n",
    "collections = utility.list_collections()\n",
    "print(\"Available collections:\", collections)\n",
    "\n",
    "# for collection_name in collections:\n",
    "#   utility.drop_collection(collection_name)\n",
    "# print(\"All collections have been dropped.\")\n",
    "\n",
    "# collections = utility.list_collections()\n",
    "# print(\"Available collections:\", collections)"
   ]
  },
  {
   "cell_type": "code",
   "execution_count": 7,
   "metadata": {},
   "outputs": [
    {
     "data": {
      "text/plain": [
       "677"
      ]
     },
     "execution_count": 7,
     "metadata": {},
     "output_type": "execute_result"
    }
   ],
   "source": [
    "len(collections)"
   ]
  },
  {
   "cell_type": "code",
   "execution_count": null,
   "metadata": {},
   "outputs": [],
   "source": [
    "from sentence_transformers import SentenceTransformer, util\n",
    "\n",
    "# Load a pre-trained sentence embedding model\n",
    "model = SentenceTransformer('all-MiniLM-L6-v2')  # Small and fast, good for semantic tasks\n",
    "\n",
    "# Example answers\n",
    "answer_bot = \"We should focus on improving public health and education.\"\n",
    "answer_real = \"I believe that investing in healthcare and schools is vital for our future.\"\n",
    "\n",
    "# Get embeddings\n",
    "embedding_bot = model.encode(answer_bot, convert_to_tensor=True)\n",
    "embedding_real = model.encode(answer_real, convert_to_tensor=True)\n",
    "\n",
    "# Compute cosine similarity\n",
    "similarity = util.pytorch_cos_sim(embedding_bot, embedding_real).item()\n",
    "\n",
    "print(f\"Semantic similarity score: {similarity:.4f}\")\n"
   ]
  },
  {
   "cell_type": "code",
   "execution_count": null,
   "metadata": {},
   "outputs": [],
   "source": [
    "answer_real = \"אנחנו אומרים בצורה ברורה כל מה שקרה במסגרת הממשלה זאת אחריות הממשלה והמדינה, פרקטית זה אומר שתקום ועדת חקירה שתבחן מי אשם ומי הוביל למחדל הנורא הזה\"\n",
    "answer_bot = \"אני אומרת בבירור שהמחדל הוא תוצאה של כישלון קולקטיבי של הממשלה כולה. יש לנו חובה להילחם על ביטחון האזרחים ולא ניתן להאשים רק צד אחד. אנחנו נדרשים לחקור לעומק ולהבטיח שלא יחזור על עצמו.\"\n",
    "# Get embeddings\n",
    "embedding_bot = model.encode(answer_bot, convert_to_tensor=True)\n",
    "embedding_real = model.encode(answer_real, convert_to_tensor=True)\n",
    "\n",
    "# Compute cosine similarity\n",
    "similarity = util.pytorch_cos_sim(embedding_bot, embedding_real).item()\n",
    "\n",
    "print(f\"Semantic similarity score: {similarity:.4f}\")"
   ]
  },
  {
   "cell_type": "code",
   "execution_count": null,
   "metadata": {},
   "outputs": [],
   "source": [
    "from pymilvus import Collection\n",
    "\n",
    "def get_unindexed_collections():\n",
    "    return [name for name in utility.list_collections() if not Collection(name).has_index()]\n",
    "print(\"Unindexed collections:\", get_unindexed_collections())\n"
   ]
  },
  {
   "cell_type": "code",
   "execution_count": null,
   "metadata": {},
   "outputs": [],
   "source": [
    "def collection_exists(collection_name):\n",
    "    return utility.has_collection(collection_name)\n",
    "collection_exists(\"Yasser_Hujirat\")"
   ]
  },
  {
   "cell_type": "code",
   "execution_count": null,
   "metadata": {},
   "outputs": [],
   "source": [
    "lastic_ip = '34.0.64.248:9200'\n",
    "kibana_ip = '34.0.64.248:5601'\n",
    "es_username = 'user'\n",
    "es_password = 'knesset'\n",
    "\n",
    "from elasticsearch import Elasticsearch\n",
    "\n",
    "# es = Elasticsearch(f'http://{elastic_ip}',http_auth=(es_username, es_password), timeout=1000000)\n",
    "# resp = es.search(index=\"all_features_sentences\", body={\"query\":{\"match_all\": {}}})\n",
    "# print(\"Got %d Hits:\" % resp['hits']['total']['value'])\n",
    "# for hit in resp['hits']['hits']:\n",
    "#    print(\"id: %(sentence_id)s: speaker_name: %(speaker_name)s: sentence_text: %(sentence_text)s\" % hit[\"_source\"])\n"
   ]
  },
  {
   "cell_type": "code",
   "execution_count": null,
   "metadata": {},
   "outputs": [],
   "source": [
    "from elasticsearch import Elasticsearch\n",
    "\n",
    "es = Elasticsearch(f'http://{elastic_ip}', basic_auth=(es_username, es_password), request_timeout=500)\n",
    "data_q =[]\n",
    "# Query definition\n",
    "query = {\n",
    "    \"query\": {\n",
    "        \"bool\": {\n",
    "            \"must\": [\n",
    "                {\"match\": {\"speaker_name\": \"איתמר בן גביר\"}}\n",
    "            ],\n",
    "            \"filter\": {\n",
    "                \"script\": {\n",
    "                    \"script\": {\n",
    "                        \"source\": \"doc['sentence_text.keyword'].size() > 0 && doc['sentence_text.keyword'].value.length() > 10\"\n",
    "                    }\n",
    "                }\n",
    "            }\n",
    "        }\n",
    "    }\n",
    "}\n",
    "\n",
    "# Initialize scroll\n",
    "resp = es.search(index=\"all_features_sentences\", body=query, scroll=\"2m\", size=1000)\n",
    "\n",
    "# Retrieve the scroll ID and first batch of hits\n",
    "scroll_id = resp['_scroll_id']\n",
    "hits = resp['hits']['hits']\n",
    "\n",
    "total_hits = 0\n",
    "while total_hits<4000:\n",
    "    for hit in hits:\n",
    "      data_q.append(\"%(sentence_text)s\" % hit[\"_source\"])\n",
    "      #print(\"%(sentence_text)s\" % hit[\"_source\"])\n",
    "\n",
    "    total_hits += len(hits)\n",
    "\n",
    "    # Fetch the next batch\n",
    "    resp = es.scroll(scroll_id=scroll_id, scroll=\"2m\")\n",
    "    scroll_id = resp['_scroll_id']\n",
    "    hits = resp['hits']['hits']\n",
    "\n",
    "print(f\"Total results retrieved: {total_hits}\")\n",
    "\n",
    "# Clear the scroll to free resources\n",
    "es.clear_scroll(scroll_id=scroll_id)\n"
   ]
  },
  {
   "cell_type": "code",
   "execution_count": null,
   "metadata": {},
   "outputs": [],
   "source": [
    "import re\n",
    "\n",
    "# for i in range(len(data_q)):\n",
    "#     data_q[i] = re.sub(r'[^א-ת ]', '', data_q[i]).strip()\n"
   ]
  },
  {
   "cell_type": "code",
   "execution_count": null,
   "metadata": {},
   "outputs": [],
   "source": [
    "from sentence_transformers import SentenceTransformer\n",
    "\n",
    "# Initialize the embedding model\n",
    "embedding_fn = SentenceTransformer(\"paraphrase-multilingual-MiniLM-L12-v2\")\n",
    "\n",
    "# Encode the documents\n",
    "docs = data_q.copy()\n",
    "vectors = embedding_fn.encode(docs)  # Encode into vectors\n",
    "print(\"Dim:\", len(vectors[0]), vectors[0].shape)  # Dim: 768\n"
   ]
  },
  {
   "cell_type": "code",
   "execution_count": null,
   "metadata": {},
   "outputs": [],
   "source": [
    "data = [\n",
    "    {\"id\": i, \"vector\": vectors[i], \"text\": docs[i]}\n",
    "    for i in range(len(vectors))\n",
    "]\n",
    "print(\"Data has\", len(data), \"entities, each with fields:\", data[0].keys())\n",
    "print(\"Vector dim:\", len(data[0][\"vector\"]))\n"
   ]
  },
  {
   "cell_type": "code",
   "execution_count": null,
   "metadata": {},
   "outputs": [],
   "source": [
    "from pymilvus import FieldSchema, CollectionSchema, DataType, Collection\n",
    "\n",
    "# Define the collection schema\n",
    "fields = [\n",
    "    FieldSchema(name=\"id\", dtype=DataType.INT64, is_primary=True),\n",
    "    FieldSchema(name=\"vector\", dtype=DataType.FLOAT_VECTOR, dim=len(vectors[0])),\n",
    "    FieldSchema(name=\"text\", dtype=DataType.VARCHAR, max_length=512),\n",
    "]\n",
    "schema = CollectionSchema(fields, description=\"Demo collection for quotes of Miri Regev\")\n",
    "\n",
    "# Create or load the collection\n",
    "collection_name = \"Miri_Regev\"\n",
    "collection = Collection(name=collection_name, schema=schema)\n"
   ]
  },
  {
   "cell_type": "code",
   "execution_count": null,
   "metadata": {},
   "outputs": [],
   "source": [
    "# Milvus expects the data in columns (field-wise)\n",
    "field_data = [\n",
    "    [entity[\"id\"] for entity in data],  # IDs\n",
    "    [entity[\"vector\"] for entity in data],  # Vectors\n",
    "    [entity[\"text\"] for entity in data],  # Text\n",
    "]\n",
    "\n",
    "# Insert the data\n",
    "res = collection.insert(field_data)\n",
    "print(f\"Inserted {len(field_data[0])} entities into {collection_name}.\")\n"
   ]
  },
  {
   "cell_type": "code",
   "execution_count": null,
   "metadata": {},
   "outputs": [],
   "source": [
    "# Create an index\n",
    "\n",
    "index_params = {\n",
    "    \"index_type\": \"IVF_FLAT\",\n",
    "    \"metric_type\": \"L2\",\n",
    "    \"params\": {\"nlist\": 128},\n",
    "}\n",
    "collection.create_index(field_name=\"vector\", index_params=index_params)\n",
    "print(\"Index created.\")\n"
   ]
  },
  {
   "cell_type": "code",
   "execution_count": null,
   "metadata": {},
   "outputs": [],
   "source": [
    "from pymilvus import list_collections\n",
    "\n",
    "collections = list_collections()\n",
    "print(\"Collections in Milvus:\", collections)\n"
   ]
  },
  {
   "cell_type": "code",
   "execution_count": null,
   "metadata": {},
   "outputs": [],
   "source": [
    "collection = Collection(name=\"Miri_Regev_quotes\")\n"
   ]
  },
  {
   "cell_type": "code",
   "execution_count": null,
   "metadata": {},
   "outputs": [],
   "source": [
    "collection.load()\n",
    "\n",
    "# Define a query vector (e.g., embedding for a new query)\n",
    "query_vector = embedding_fn.encode([\"מה דעתה תחבורה ציבורית?\"])[0]\n",
    "\n",
    "# Perform the search\n",
    "search_params = {\"metric_type\": \"L2\", \"params\": {\"nprobe\": 10}}\n",
    "results = collection.search(\n",
    "    data=[query_vector],  # Query vector\n",
    "    anns_field=\"vector\",\n",
    "    param=search_params,\n",
    "    limit=15,  # Number of top matches\n",
    "    output_fields=[\"text\"],  # Include the text field in results\n",
    ")\n",
    "\n",
    "# Display results\n",
    "for result in results:\n",
    "    for hit in result:\n",
    "        print(f\"Text: {hit.entity.get('text')}\")\n",
    "\n",
    "\n"
   ]
  },
  {
   "cell_type": "code",
   "execution_count": null,
   "metadata": {},
   "outputs": [],
   "source": [
    "def retrive_quotes(KNS_name, knesset_number):\n",
    "    es = Elasticsearch(f'http://{elastic_ip}', basic_auth=(es_username, es_password), request_timeout=500)\n",
    "    data_q = []\n",
    "\n",
    "    query = {\n",
    "        \"query\": {\n",
    "            \"bool\": {\n",
    "                \"must\": [\n",
    "                    {\"match\": {\"speaker_name\": KNS_name}},\n",
    "                    {\"match\": {\"knesset_number\": knesset_number}}\n",
    "                ],\n",
    "                \"filter\": {\n",
    "                    \"script\": {\n",
    "                        \"script\": {\n",
    "                            \"source\": \"doc['sentence_text.keyword'].size() > 0 && doc['sentence_text.keyword'].value.length() > 30\"\n",
    "                        }\n",
    "                    }\n",
    "                }\n",
    "            }\n",
    "        }\n",
    "    }\n",
    "\n",
    "    # Initialize scroll\n",
    "    resp = es.search(index=\"all_features_sentences\", body=query, scroll=\"2m\", size=4000)\n",
    "\n",
    "    # Retrieve the scroll ID and first batch of hits\n",
    "    scroll_id = resp['_scroll_id']\n",
    "    hits = resp['hits']['hits']\n",
    "\n",
    "    while hits:\n",
    "        for hit in hits:\n",
    "            data_q.append(\"%(sentence_text)s\" % hit[\"_source\"])\n",
    "        # Fetch the next batch\n",
    "        resp = es.scroll(scroll_id=scroll_id, scroll=\"2m\")\n",
    "        scroll_id = resp['_scroll_id']\n",
    "        hits = resp['hits']['hits']\n",
    "\n",
    "    print(f\"Total results retrieved: {len(data_q)}\")\n",
    "\n",
    "    # Clear the scroll to free resources\n",
    "    es.clear_scroll(scroll_id=scroll_id)\n",
    "\n",
    "    for i in range(len(data_q)):\n",
    "        data_q[i] = re.sub(r'[^א-ת ]', '', data_q[i]).strip()\n",
    "\n",
    "    return data_q\n"
   ]
  },
  {
   "cell_type": "code",
   "execution_count": null,
   "metadata": {},
   "outputs": [],
   "source": [
    "retrive_quotes(\"מירי רגב\", \"23\")"
   ]
  },
  {
   "cell_type": "code",
   "execution_count": null,
   "metadata": {},
   "outputs": [],
   "source": [
    "from elasticsearch import Elasticsearch\n",
    "import re\n",
    "\n",
    "def retrive_quotes(KNS_name, knesset_number):\n",
    "\n",
    "    es = Elasticsearch(f'http://{elastic_ip}', basic_auth=(es_username, es_password), request_timeout=500)\n",
    "    data_q =[]\n",
    "    # Query definition\n",
    "    if knesset_number is not None:\n",
    "        query = {\n",
    "            \"query\": {\n",
    "                \"bool\": {\n",
    "                    \"must\": [\n",
    "                        {\"match\": {\"speaker_name\": KNS_name}},\n",
    "                        {\"match\": {\"knesset_number\": knesset_number}}\n",
    "                    ],\n",
    "                    \"filter\": {\n",
    "                        \"script\": {\n",
    "                            \"script\": {\n",
    "                                \"source\": \"doc['sentence_text.keyword'].size() > 0 && doc['sentence_text.keyword'].value.length() > 30\"\n",
    "                            }\n",
    "                        }\n",
    "                    }\n",
    "                }\n",
    "            }\n",
    "        }\n",
    "    else:\n",
    "        query = {\n",
    "            \"query\": {\n",
    "                \"bool\": {\n",
    "                    \"must\": [\n",
    "                        {\"match\": {\"speaker_name\": KNS_name}}\n",
    "                    ],\n",
    "                    \"filter\": {\n",
    "                        \"script\": {\n",
    "                            \"script\": {\n",
    "                                \"source\": \"doc['sentence_text.keyword'].size() > 0 && doc['sentence_text.keyword'].value.length() > 30\"\n",
    "                            }\n",
    "                        }\n",
    "                    }\n",
    "                }\n",
    "            }\n",
    "        }\n",
    "\n",
    "    # Initialize scroll\n",
    "    resp = es.search(index=\"all_features_sentences\", body=query, size=8000)\n",
    "    hits = resp['hits']['hits']\n",
    "\n",
    "    for hit in hits:\n",
    "        sentence = hit[\"_source\"].get(\"sentence_text\", \"\")\n",
    "        data_q.append(sentence)\n",
    "\n",
    "    print(f\"Total results retrieved: {len(data_q)}\")\n",
    "\n",
    "    # Clean sentences\n",
    "    for i in range(len(data_q)):\n",
    "        data_q[i] = re.sub(r'[^א-ת ]', '', data_q[i]).strip()\n",
    "\n",
    "    return data_q"
   ]
  },
  {
   "cell_type": "code",
   "execution_count": null,
   "metadata": {},
   "outputs": [],
   "source": [
    "x = retrive_quotes(\"משה אבוטבול\", 1)"
   ]
  },
  {
   "cell_type": "code",
   "execution_count": null,
   "metadata": {},
   "outputs": [],
   "source": [
    "x"
   ]
  },
  {
   "cell_type": "code",
   "execution_count": null,
   "metadata": {},
   "outputs": [],
   "source": [
    "import csv\n",
    "\n",
    "# Write the list to a CSV file\n",
    "with open('quotes.csv', 'w', newline='', encoding='utf-8') as csvfile:\n",
    "  writer = csv.writer(csvfile)\n",
    "  writer.writerow(['Quote'])  # Add a header\n",
    "  for quote in d:\n",
    "    writer.writerow([quote])\n",
    "\n",
    "print(\"List has been written to quotes.csv\")"
   ]
  }
 ],
 "metadata": {
  "kernelspec": {
   "display_name": "venv",
   "language": "python",
   "name": "python3"
  },
  "language_info": {
   "codemirror_mode": {
    "name": "ipython",
    "version": 3
   },
   "file_extension": ".py",
   "mimetype": "text/x-python",
   "name": "python",
   "nbconvert_exporter": "python",
   "pygments_lexer": "ipython3",
   "version": "3.11.5"
  }
 },
 "nbformat": 4,
 "nbformat_minor": 2
}
