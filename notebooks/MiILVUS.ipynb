{
 "cells": [
  {
   "cell_type": "code",
   "execution_count": null,
   "metadata": {},
   "outputs": [],
   "source": [
    "%pip install pymilvus==2.4.13"
   ]
  },
  {
   "cell_type": "code",
   "execution_count": 4,
   "metadata": {},
   "outputs": [
    {
     "name": "stdout",
     "output_type": "stream",
     "text": [
      "Connection successful!\n"
     ]
    }
   ],
   "source": [
    "from pymilvus import connections\n",
    "\n",
    "try:\n",
    "    connections.connect(alias=\"default\", host=\"127.0.0.1\", port=\"19530\")\n",
    "    print(\"Connection successful!\")\n",
    "except Exception as e:\n",
    "    print(f\"Connection failed: {e}\")\n"
   ]
  },
  {
   "cell_type": "code",
   "execution_count": 31,
   "metadata": {},
   "outputs": [
    {
     "name": "stdout",
     "output_type": "stream",
     "text": [
      "Available collections: ['Yinon_Azulai_25', 'Karine_Elharrar_21', 'Michal_Veldigar_25', 'Israel_Katz_18', 'Miki_Levy_21', 'Aida_Sliman_25', 'Yuli_Edelstein_16', 'Sheshon_Guetta_24', 'Danny_Danon_19', 'Moshe_Abutbul_24', 'Ram_Ben_Barak_21', 'Avigdor_Lieberman_20', 'Pnina_Tamno_25', 'Walid_Al_Huashla_25', 'Karine_Elharrar_22', 'Michael_Biton_23', 'Yosef_Tayeb_25', 'Hili_Trooper_21', 'Miri_Regev_25', 'Eli_Dallal_21', 'Nissim_Wattoori_25', 'Ron_Katz_23', 'Yariv_Levin_25', 'Avi_Dichter_23', 'Aryeh_Deri_23', 'Yevgeny_Sova_25', 'Gadi_Eisenkot_25', 'Zeev_Elkin_21', 'Yair_Lapid_24', 'Zeev_Elkin_22', 'Merav_Cohen_23', 'Shlomo_Karai_25', 'Moshe_Gafni_17', 'Sharon_Haskel_20', 'Merav_Michaeli_24', 'Oded_Forer_23', 'Aryeh_Deri_22', 'Avigdor_Lieberman_17', 'Moshe_Saada_25', 'Yuli_Edelstein_22', 'Michael_Biton_24', 'Yitzhak_Vserloff_25', 'Smicha_Rothman_25', 'Elazar_Stern_22', 'Sheshon_Guetta_25', 'Moshe_Gafni_19', 'Tsega_Maleko_25', 'Zeev_Elkin_18', 'Matan_Kahane_25', 'Miki_Levy_18', 'Orna_Barbivai_22', 'Ofer_Katz_22', 'Israel_Katz_19', 'Miri_Regev_21', 'Gila_Gamliel_21', 'Iman_Yassin_25', 'Israel_Katz_21', 'Hamad_Amar_23', 'Danny_Danon_20', 'Elazar_Stern_24', 'Meir_Cohen_21', 'Matan_Kahane_22', 'Orit_Struk_24', 'Hamad_Amar_20', 'Osher_Shkalim_25', 'David_Bitan_20', 'Vladimir_Beliak_25', 'Nir_Barkat_20', 'Hili_Trooper_23', 'Amir_Ohana_21', 'Tali_Gottlieb_25', 'Ofer_Kasif_22', 'Avigdor_Lieberman_18', 'Micha_Malchieli_22', 'Hili_Trooper_22', 'Moshe_Arbel_24', 'Yaakov_Asher_19', 'David_Bitan_22', 'Yoav_Gallant_25', 'Sheshon_Guetta_23', 'Ahmed_Tibi_19', 'Oded_Forer_20', 'Amir_Ohana_20', 'Avi_Dichter_22', 'Mai_Golan_24', 'Micha_Malchieli_24', 'Hava_Atiya_25', 'Benjamin_Netanyahu', 'Elazar_Stern_20', 'Yinon_Azulai_20', 'Ofer_Katz_23', 'Yariv_Levin_22', 'Micha_Malchieli_25', 'Benjamin_Netanyahu_16', 'Ariel_Kalner_25', 'Yifat_Shasha_Biton_20', 'Ayman_Odeh_18', 'Yuli_Edelstein_17', 'Benny_Gantz_24', 'Walid_Taha_24', 'Miki_Levy_20', 'Yair_Lapid_20', 'Benjamin_Netanyahu_17', 'Gideon_Saar_18', 'Miri_Regev_20', 'Merav_Ben_Ari_24', 'Aryeh_Deri_17', 'Ahmed_Tibi_24', 'Alon_Shuster_25', 'Ram_Ben_Barak_20', 'Bezalel_Smotrich_23', 'Moshe_Gafni_22', 'Yisrael_Eichler_21', 'Karine_Elharrar_25', 'Orna_Barbivai_24', 'Ahmed_Tibi_21', 'Aida_Sliman_24', 'Avigdor_Lieberman_24', 'Ayman_Odeh_20', 'Moshe_Arbel_21', 'Yaakov_Tesler_25', 'Ron_Katz_21', 'Ayman_Odeh_24', 'Mati_Herchevi_25', 'Yifat_Shasha_Biton_25', 'David_Bitan_25', 'Gila_Gamliel_17', 'Gideon_Saar_23', 'Aida_Sliman_23', 'Zeev_Elkin_24', 'Orna_Barbivai_23', 'Yoav_Gallant_20', 'Gila_Gamliel_22', 'Merav_Michaeli_21', 'Moshe_Arbel_25', 'David_Bitan_23', 'Israel_Katz_23', 'Moshe_Arbel_22', 'Yaakov_Asher_20', 'Eliahu_Ravivo_25', 'Yifat_Shasha_Biton_23', 'Ram_Ben_Barak_23', 'Aryeh_Deri_13', 'Matan_Kahane_24', 'David_Bitan_19', 'Orna_Barbivai_20', 'Moshe_Gafni_23', 'Aryeh_Deri_24', 'Yoav_Gallant_18', 'Yoav_Gallant_21', 'Moshe_Gafni_16', 'Moshe_Gafni_25', 'Merav_Michaeli_25', 'Yinon_Azulai_23', 'Itamar_Ben_Gvir_20', 'Benny_Gantz_25', 'Merav_Michaeli_20', 'Micha_Malchieli_20', 'Aryeh_Deri_25', 'Yariv_Levin_20', 'Avi_Maoz_25', 'Yoav_Gallant_22', 'Ron_Katz_20', 'Merav_Cohen_22', 'Eli_Dallal_20', 'Yulia_Malinovsky_25', 'Orit_Struk_20', 'Merav_Ben_Ari_23', 'Ohad_Tal_25', 'Yariv_Levin_24', 'Tatyana_Mazerski_25', 'Ayman_Odeh_23', 'Yisrael_Eichler_23', 'Gideon_Saar_20', 'Mai_Golan_25', 'Aryeh_Deri_21', 'Aryeh_Deri_18', 'Yinon_Azulai_22', 'Yisrael_Eichler_20', 'Yisrael_Eichler_22', 'Oded_Forer_24', 'Yisrael_Eichler_16', 'Ram_Ben_Barak_22', 'Benjamin_Netanyahu_21', 'Naor_Shiri_25', 'Aida_Sliman_21', 'Merav_Ben_Ari_22', 'Danny_Danon_18', 'Ahmed_Tibi_23', 'Hili_Trooper_25', 'Mansour_Abbas_25', 'Uriel_Buso_25', 'Danny_Danon_21', 'Sharon_Haskel_21', 'Merav_Cohen_21', 'Micha_Malchieli_21', 'Merav_Ben_Ari_25', 'Nir_Barkat_22', 'Amit_Halevi_25', 'Merav_Cohen_25', 'Miki_Levy_23', 'Efrat_Marom_25', 'Merav_Ben_Ari_20', 'Avi_Dichter_21', 'Danny_Danon_23', 'Israel_Katz_25', 'Simon_Moshiashvili_25', 'Aida_Sliman_22', 'Yuli_Edelstein_19', 'Mai_Golan_23', 'Avi_Dichter_18', 'Micha_Malchieli_23', 'Oded_Forer_22', 'Michael_Biton_25', 'Itamar_Ben_Gvir_21', 'Moshe_Fassel_25', 'Ram_Ben_Barak_25', 'Itamar_Ben_Gvir_22', 'Nir_Barkat_25', 'Gila_Gamliel_19', 'Eli_Dallal_22', 'Meir_Cohen_24', 'Limor_Son_Har_Melech_25', 'Yasmin_Friedman_25', 'Merav_Ben_Ari_21', 'Benjamin_Netanyahu_20', 'Gila_Gamliel_25', 'Moshe_Gafni_20', 'Danny_Danon_17', 'Sharon_Haskel_22', 'Yariv_Levin_23', 'Chanoch_Melibitzki_25', 'Avigdor_Lieberman_22', 'Gila_Gamliel_23', 'Meir_Cohen_22', 'Hamad_Amar_22', 'Miri_Regev_18', 'Orna_Barbivai_21', 'Merav_Michaeli_23', 'Zeev_Elkin_25', 'Mai_Golan_21', 'Ofer_Katz_25', 'Yaakov_Asher_24', 'Itamar_Ben_Gvir_25', 'Boaz_Toporovsky_25', 'Israel_Katz_22', 'Avi_Dichter_25', 'Aryeh_Deri_14', 'Aryeh_Deri_20', 'Tzvi_Sukkot_25', 'Orit_Struk_23', 'Yifat_Shasha_Biton_24', 'Miri_Regev_23', 'Moshe_Gafni_21', 'Eli_Dallal_24', 'Matan_Kahane_20', 'Yair_Lapid_22', 'Eli_Dallal_25', 'Walid_Taha_23', 'Sharon_Nir_25', 'Youssef_Atauna_25', 'Elazar_Stern_25', 'Zeev_Elkin_19', 'Nir_Barkat_23', 'Avigdor_Lieberman_19', 'Benjamin_Netanyahu_23', 'Orit_Struk_25', 'Debbie_Biton_25', 'Ron_Katz_22', 'Gideon_Saar_21', 'Itamar_Ben_Gvir', 'Yuli_Edelstein_15', 'Elazar_Stern_21', 'Ahmed_Tibi_18', 'Israel_Katz_20', 'Ron_Katz_25', 'Yair_Lapid_25', 'Ayman_Odeh_19', 'Mai_Golan_22', 'Yoav_Gallant_19', 'Avi_Dichter_24', 'Eli_Dallal_23', 'Walid_Taha_20', 'Almog_Cohen_25', 'Gideon_Saar_25', 'Yitzhak_Pindros_25', 'Yoav_Gallant_24', 'Benny_Gantz_23', 'Avigdor_Lieberman_16', 'Erez_Malul_25', 'Benny_Gantz_21', 'Miki_Levy_25', 'Yuli_Edelstein_21', 'Amir_Ohana_23', 'Nir_Barkat_21', 'Gideon_Saar_22', 'Miri_Regev_24', 'Yaakov_Asher_23', 'Benny_Gantz_22', 'Avigdor_Lieberman_25', 'Nir_Barkat_24', 'Danny_Danon_24', 'Shalom_Danino_25', 'Naama_Lazimi_25', 'Karine_Elharrar_24', 'Yinon_Azulai_24', 'Itamar_Ben_Gvir_23', 'Bezalel_Smotrich_20', 'Simon_Davidson_25', 'Yonatan_Mishraki_25', 'Benjamin_Netanyahu_25', 'Ayman_Odeh_22', 'Hamad_Amar_25', 'Yifat_Shasha_Biton_21', 'Yuli_Edelstein_14', 'Bezalel_Smotrich_21', 'Miki_Levy_22', 'Yisrael_Eichler_17', 'Gila_Gamliel_24', 'Moshe_Solomon_25', 'Idan_Rol_25', 'Yuli_Edelstein_25', 'Yinon_Azulai_21', 'Yisrael_Eichler_19', 'Karine_Elharrar_23', 'Miki_Levy_24', 'Ofer_Katz_20', 'Yurai_Herzan_25', 'Moshe_Roth_25', 'Amir_Ohana_25', 'Bezalel_Smotrich_22', 'Yoav_Gallant_23', 'Ofer_Kasif_21', 'Merav_Michaeli_22', 'Michal_Shir_Sagman_25', 'Aryeh_Deri_19', 'Ofer_Kasif_25', 'Orit_Prakash_Cohen_25', 'Bezalel_Smotrich_24', 'Oded_Forer_21', 'Amir_Ohana_24', 'Yisrael_Eichler_25', 'Moshe_Arbel_23', 'Avi_Dichter_19', 'Avi_Dichter_20', 'Ahmed_Tibi_22', 'Benjamin_Netanyahu_15', 'Gila_Gamliel_20', 'Moshe_Gafni_24', 'Gideon_Saar_24', 'Hamad_Amar_24', 'Ayman_Odeh_21', 'Zeev_Elkin_23', 'Ayman_Odeh_25', 'Bezalel_Smotrich_25', 'Ofer_Kasif_23', 'Avigdor_Lieberman_23', 'Yair_Lapid_21', 'Gideon_Saar_19', 'Meir_Cohen_17', 'Karine_Elharrar_19', 'Yaakov_Asher_22', 'Moshe_Tor_Paz_25', 'Avichay_Buaron_25', 'Benjamin_Netanyahu_19', 'Yair_Lapid', 'Yaakov_Asher_25', 'Moshe_Abutbul_23', 'Dan_Illouz_25', 'Benny_Gantz_20', 'Merav_Cohen_24', 'Matan_Kahane_23', 'Ofer_Kasif_20', 'Mansour_Abbas_24', 'Yifat_Shasha_Biton_22', 'Danny_Danon_25', 'Yoav_Segalovitz_25', 'Orit_Struk_21', 'Meir_Cohen_19', 'Meir_Cohen_25', 'Israel_Katz_24', 'Tzvika_Fogel_25', 'Elazar_Stern_23', 'Uriel_Buso_23', 'Uriel_Buso_24', 'Itamar_Ben_Gvir_24', 'Moshe_Gafni_18', 'David_Bitan_21', 'Hili_Trooper_20', 'Israel_Katz_17', 'Zeev_Elkin_20', 'Orna_Barbivai_25', 'Sharon_Haskel_23', 'Yariv_Levin_21', 'Gideon_Saar_17', 'Yuli_Edelstein_23', 'Aryeh_Deri_16', 'Sharon_Haskel_25', 'Ahmed_Tibi_25', 'Miri_Regev_19', 'Yuli_Edelstein_20', 'Yuli_Edelstein_24', 'Meir_Cohen_23', 'Ofer_Katz_24', 'Ron_Katz_24', 'Avigdor_Lieberman_21', 'Orit_Struk_22', 'Hili_Trooper_24', 'Benjamin_Netanyahu_18', 'Oded_Forer_25', 'Aida_Sliman_20', 'Yisrael_Eichler_24', 'Ofer_Kasif_24', 'Shelly_Tal_Miron_25', 'Walid_Taha_25', 'Kati_Shtrit_25', 'Moshe_Abutbul_25', 'Ram_Ben_Barak_24', 'Mai_Golan_20', 'Ofer_Katz_21', 'Benjamin_Netanyahu_24', 'Miri_Regev_22', 'David_Bitan_24', 'Meir_Cohen_20', 'Yitzhak_Kreiser_25', 'Gilad_Kriv_25', 'Benny_Gantz', 'Boaz_Bismuth_25', 'Sheshon_Guetta_22', 'Sharon_Haskel_24', 'Walid_Taha_22', 'Yair_Lapid_19', 'Yair_Lapid_23', 'Miri_Regev', 'Yaakov_Asher_21', 'Gila_Gamliel_18', 'Aryeh_Deri_15', 'Miki_Levy_19', 'Karine_Elharrar_20', 'Meir_Cohen_18', 'Amir_Ohana_22', 'Eliyahu_Beruchi_25', 'Ahmed_Tibi_20', 'Merav_Cohen_20', 'Benjamin_Netanyahu_22', 'Ofer_Super_25']\n"
     ]
    }
   ],
   "source": [
    "from pymilvus import utility\n",
    "collections = utility.list_collections()\n",
    "print(\"Available collections:\", collections)\n",
    "\n",
    "# for collection_name in collections:\n",
    "#   utility.drop_collection(collection_name)\n",
    "# print(\"All collections have been dropped.\")\n",
    "\n",
    "# collections = utility.list_collections()\n",
    "# print(\"Available collections:\", collections)"
   ]
  },
  {
   "cell_type": "code",
   "execution_count": 32,
   "metadata": {},
   "outputs": [
    {
     "data": {
      "text/plain": [
       "446"
      ]
     },
     "execution_count": 32,
     "metadata": {},
     "output_type": "execute_result"
    }
   ],
   "source": [
    "len(collections)"
   ]
  },
  {
   "cell_type": "code",
   "execution_count": null,
   "metadata": {},
   "outputs": [],
   "source": [
    "elastic_ip = '34.0.64.248:9200'\n",
    "kibana_ip = '34.0.64.248:5601'\n",
    "es_username = 'user'\n",
    "es_password = 'knesset'\n",
    "\n",
    "from elasticsearch import Elasticsearch\n",
    "\n",
    "# es = Elasticsearch(f'http://{elastic_ip}',http_auth=(es_username, es_password), timeout=1000000)\n",
    "# resp = es.search(index=\"all_features_sentences\", body={\"query\":{\"match_all\": {}}})\n",
    "# print(\"Got %d Hits:\" % resp['hits']['total']['value'])\n",
    "# for hit in resp['hits']['hits']:\n",
    "#    print(\"id: %(sentence_id)s: speaker_name: %(speaker_name)s: sentence_text: %(sentence_text)s\" % hit[\"_source\"])\n"
   ]
  },
  {
   "cell_type": "code",
   "execution_count": null,
   "metadata": {},
   "outputs": [],
   "source": [
    "from elasticsearch import Elasticsearch\n",
    "\n",
    "es = Elasticsearch(f'http://{elastic_ip}', basic_auth=(es_username, es_password), request_timeout=500)\n",
    "data_q =[]\n",
    "# Query definition\n",
    "query = {\n",
    "    \"query\": {\n",
    "        \"bool\": {\n",
    "            \"must\": [\n",
    "                {\"match\": {\"speaker_name\": \"איתמר בן גביר\"}}\n",
    "            ],\n",
    "            \"filter\": {\n",
    "                \"script\": {\n",
    "                    \"script\": {\n",
    "                        \"source\": \"doc['sentence_text.keyword'].size() > 0 && doc['sentence_text.keyword'].value.length() > 10\"\n",
    "                    }\n",
    "                }\n",
    "            }\n",
    "        }\n",
    "    }\n",
    "}\n",
    "\n",
    "# Initialize scroll\n",
    "resp = es.search(index=\"all_features_sentences\", body=query, scroll=\"2m\", size=1000)\n",
    "\n",
    "# Retrieve the scroll ID and first batch of hits\n",
    "scroll_id = resp['_scroll_id']\n",
    "hits = resp['hits']['hits']\n",
    "\n",
    "total_hits = 0\n",
    "while total_hits<4000:\n",
    "    for hit in hits:\n",
    "      data_q.append(\"%(sentence_text)s\" % hit[\"_source\"])\n",
    "      #print(\"%(sentence_text)s\" % hit[\"_source\"])\n",
    "\n",
    "    total_hits += len(hits)\n",
    "\n",
    "    # Fetch the next batch\n",
    "    resp = es.scroll(scroll_id=scroll_id, scroll=\"2m\")\n",
    "    scroll_id = resp['_scroll_id']\n",
    "    hits = resp['hits']['hits']\n",
    "\n",
    "print(f\"Total results retrieved: {total_hits}\")\n",
    "\n",
    "# Clear the scroll to free resources\n",
    "es.clear_scroll(scroll_id=scroll_id)\n"
   ]
  },
  {
   "cell_type": "code",
   "execution_count": null,
   "metadata": {},
   "outputs": [],
   "source": [
    "import re\n",
    "\n",
    "# for i in range(len(data_q)):\n",
    "#     data_q[i] = re.sub(r'[^א-ת ]', '', data_q[i]).strip()\n"
   ]
  },
  {
   "cell_type": "code",
   "execution_count": null,
   "metadata": {},
   "outputs": [],
   "source": [
    "from sentence_transformers import SentenceTransformer\n",
    "\n",
    "# Initialize the embedding model\n",
    "embedding_fn = SentenceTransformer(\"paraphrase-multilingual-MiniLM-L12-v2\")\n",
    "\n",
    "# Encode the documents\n",
    "docs = data_q.copy()\n",
    "vectors = embedding_fn.encode(docs)  # Encode into vectors\n",
    "print(\"Dim:\", len(vectors[0]), vectors[0].shape)  # Dim: 768\n"
   ]
  },
  {
   "cell_type": "code",
   "execution_count": null,
   "metadata": {},
   "outputs": [],
   "source": [
    "data = [\n",
    "    {\"id\": i, \"vector\": vectors[i], \"text\": docs[i]}\n",
    "    for i in range(len(vectors))\n",
    "]\n",
    "print(\"Data has\", len(data), \"entities, each with fields:\", data[0].keys())\n",
    "print(\"Vector dim:\", len(data[0][\"vector\"]))\n"
   ]
  },
  {
   "cell_type": "code",
   "execution_count": null,
   "metadata": {},
   "outputs": [],
   "source": [
    "from pymilvus import FieldSchema, CollectionSchema, DataType, Collection\n",
    "\n",
    "# Define the collection schema\n",
    "fields = [\n",
    "    FieldSchema(name=\"id\", dtype=DataType.INT64, is_primary=True),\n",
    "    FieldSchema(name=\"vector\", dtype=DataType.FLOAT_VECTOR, dim=len(vectors[0])),\n",
    "    FieldSchema(name=\"text\", dtype=DataType.VARCHAR, max_length=512),\n",
    "]\n",
    "schema = CollectionSchema(fields, description=\"Demo collection for quotes of Miri Regev\")\n",
    "\n",
    "# Create or load the collection\n",
    "collection_name = \"Miri_Regev\"\n",
    "collection = Collection(name=collection_name, schema=schema)\n"
   ]
  },
  {
   "cell_type": "code",
   "execution_count": null,
   "metadata": {},
   "outputs": [],
   "source": [
    "# Milvus expects the data in columns (field-wise)\n",
    "field_data = [\n",
    "    [entity[\"id\"] for entity in data],  # IDs\n",
    "    [entity[\"vector\"] for entity in data],  # Vectors\n",
    "    [entity[\"text\"] for entity in data],  # Text\n",
    "]\n",
    "\n",
    "# Insert the data\n",
    "res = collection.insert(field_data)\n",
    "print(f\"Inserted {len(field_data[0])} entities into {collection_name}.\")\n"
   ]
  },
  {
   "cell_type": "code",
   "execution_count": null,
   "metadata": {},
   "outputs": [],
   "source": [
    "# Create an index\n",
    "\n",
    "index_params = {\n",
    "    \"index_type\": \"IVF_FLAT\",\n",
    "    \"metric_type\": \"L2\",\n",
    "    \"params\": {\"nlist\": 128},\n",
    "}\n",
    "collection.create_index(field_name=\"vector\", index_params=index_params)\n",
    "print(\"Index created.\")\n"
   ]
  },
  {
   "cell_type": "code",
   "execution_count": null,
   "metadata": {},
   "outputs": [],
   "source": [
    "from pymilvus import list_collections\n",
    "\n",
    "collections = list_collections()\n",
    "print(\"Collections in Milvus:\", collections)\n"
   ]
  },
  {
   "cell_type": "code",
   "execution_count": null,
   "metadata": {},
   "outputs": [],
   "source": [
    "collection = Collection(name=\"Miri_Regev_quotes\")\n"
   ]
  },
  {
   "cell_type": "code",
   "execution_count": null,
   "metadata": {},
   "outputs": [],
   "source": [
    "collection.load()\n",
    "\n",
    "# Define a query vector (e.g., embedding for a new query)\n",
    "query_vector = embedding_fn.encode([\"מה דעתה תחבורה ציבורית?\"])[0]\n",
    "\n",
    "# Perform the search\n",
    "search_params = {\"metric_type\": \"L2\", \"params\": {\"nprobe\": 10}}\n",
    "results = collection.search(\n",
    "    data=[query_vector],  # Query vector\n",
    "    anns_field=\"vector\",\n",
    "    param=search_params,\n",
    "    limit=15,  # Number of top matches\n",
    "    output_fields=[\"text\"],  # Include the text field in results\n",
    ")\n",
    "\n",
    "# Display results\n",
    "for result in results:\n",
    "    for hit in result:\n",
    "        print(f\"Text: {hit.entity.get('text')}\")\n",
    "\n",
    "\n"
   ]
  },
  {
   "cell_type": "code",
   "execution_count": null,
   "metadata": {},
   "outputs": [],
   "source": [
    "def retrive_quotes(KNS_name, knesset_number):\n",
    "    es = Elasticsearch(f'http://{elastic_ip}', basic_auth=(es_username, es_password), request_timeout=500)\n",
    "    data_q = []\n",
    "\n",
    "    query = {\n",
    "        \"query\": {\n",
    "            \"bool\": {\n",
    "                \"must\": [\n",
    "                    {\"match\": {\"speaker_name\": KNS_name}},\n",
    "                    {\"match\": {\"knesset_number\": knesset_number}}\n",
    "                ],\n",
    "                \"filter\": {\n",
    "                    \"script\": {\n",
    "                        \"script\": {\n",
    "                            \"source\": \"doc['sentence_text.keyword'].size() > 0 && doc['sentence_text.keyword'].value.length() > 30\"\n",
    "                        }\n",
    "                    }\n",
    "                }\n",
    "            }\n",
    "        }\n",
    "    }\n",
    "\n",
    "    # Initialize scroll\n",
    "    resp = es.search(index=\"all_features_sentences\", body=query, scroll=\"2m\", size=4000)\n",
    "\n",
    "    # Retrieve the scroll ID and first batch of hits\n",
    "    scroll_id = resp['_scroll_id']\n",
    "    hits = resp['hits']['hits']\n",
    "\n",
    "    while hits:\n",
    "        for hit in hits:\n",
    "            data_q.append(\"%(sentence_text)s\" % hit[\"_source\"])\n",
    "        # Fetch the next batch\n",
    "        resp = es.scroll(scroll_id=scroll_id, scroll=\"2m\")\n",
    "        scroll_id = resp['_scroll_id']\n",
    "        hits = resp['hits']['hits']\n",
    "\n",
    "    print(f\"Total results retrieved: {len(data_q)}\")\n",
    "\n",
    "    # Clear the scroll to free resources\n",
    "    es.clear_scroll(scroll_id=scroll_id)\n",
    "\n",
    "    for i in range(len(data_q)):\n",
    "        data_q[i] = re.sub(r'[^א-ת ]', '', data_q[i]).strip()\n",
    "\n",
    "    return data_q\n"
   ]
  },
  {
   "cell_type": "code",
   "execution_count": null,
   "metadata": {},
   "outputs": [],
   "source": [
    "retrive_quotes(\"מירי רגב\", \"23\")"
   ]
  },
  {
   "cell_type": "code",
   "execution_count": null,
   "metadata": {},
   "outputs": [],
   "source": [
    "from elasticsearch import Elasticsearch\n",
    "import re\n",
    "\n",
    "def retrive_quotes(KNS_name, knesset_number):\n",
    "\n",
    "    es = Elasticsearch(f'http://{elastic_ip}', basic_auth=(es_username, es_password), request_timeout=500)\n",
    "    data_q =[]\n",
    "    # Query definition\n",
    "    if knesset_number is not None:\n",
    "        query = {\n",
    "            \"query\": {\n",
    "                \"bool\": {\n",
    "                    \"must\": [\n",
    "                        {\"match\": {\"speaker_name\": KNS_name}},\n",
    "                        {\"match\": {\"knesset_number\": knesset_number}}\n",
    "                    ],\n",
    "                    \"filter\": {\n",
    "                        \"script\": {\n",
    "                            \"script\": {\n",
    "                                \"source\": \"doc['sentence_text.keyword'].size() > 0 && doc['sentence_text.keyword'].value.length() > 30\"\n",
    "                            }\n",
    "                        }\n",
    "                    }\n",
    "                }\n",
    "            }\n",
    "        }\n",
    "    else:\n",
    "        query = {\n",
    "            \"query\": {\n",
    "                \"bool\": {\n",
    "                    \"must\": [\n",
    "                        {\"match\": {\"speaker_name\": KNS_name}}\n",
    "                    ],\n",
    "                    \"filter\": {\n",
    "                        \"script\": {\n",
    "                            \"script\": {\n",
    "                                \"source\": \"doc['sentence_text.keyword'].size() > 0 && doc['sentence_text.keyword'].value.length() > 30\"\n",
    "                            }\n",
    "                        }\n",
    "                    }\n",
    "                }\n",
    "            }\n",
    "        }\n",
    "\n",
    "    # Initialize scroll\n",
    "    resp = es.search(index=\"all_features_sentences\", body=query, size=8000)\n",
    "    hits = resp['hits']['hits']\n",
    "\n",
    "    for hit in hits:\n",
    "        sentence = hit[\"_source\"].get(\"sentence_text\", \"\")\n",
    "        data_q.append(sentence)\n",
    "\n",
    "    print(f\"Total results retrieved: {len(data_q)}\")\n",
    "\n",
    "    # Clean sentences\n",
    "    for i in range(len(data_q)):\n",
    "        data_q[i] = re.sub(r'[^א-ת ]', '', data_q[i]).strip()\n",
    "\n",
    "    return data_q"
   ]
  },
  {
   "cell_type": "code",
   "execution_count": null,
   "metadata": {},
   "outputs": [],
   "source": [
    "x = retrive_quotes(\"משה אבוטבול\", 1)"
   ]
  },
  {
   "cell_type": "code",
   "execution_count": null,
   "metadata": {},
   "outputs": [],
   "source": [
    "x"
   ]
  },
  {
   "cell_type": "code",
   "execution_count": null,
   "metadata": {},
   "outputs": [],
   "source": [
    "import csv\n",
    "\n",
    "# Write the list to a CSV file\n",
    "with open('quotes.csv', 'w', newline='', encoding='utf-8') as csvfile:\n",
    "  writer = csv.writer(csvfile)\n",
    "  writer.writerow(['Quote'])  # Add a header\n",
    "  for quote in d:\n",
    "    writer.writerow([quote])\n",
    "\n",
    "print(\"List has been written to quotes.csv\")"
   ]
  }
 ],
 "metadata": {
  "kernelspec": {
   "display_name": "venv",
   "language": "python",
   "name": "python3"
  },
  "language_info": {
   "codemirror_mode": {
    "name": "ipython",
    "version": 3
   },
   "file_extension": ".py",
   "mimetype": "text/x-python",
   "name": "python",
   "nbconvert_exporter": "python",
   "pygments_lexer": "ipython3",
   "version": "3.11.5"
  }
 },
 "nbformat": 4,
 "nbformat_minor": 2
}
