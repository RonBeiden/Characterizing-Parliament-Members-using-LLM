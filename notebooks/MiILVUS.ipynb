{
 "cells": [
  {
   "cell_type": "code",
   "execution_count": null,
   "metadata": {},
   "outputs": [],
   "source": [
    "%pip install \"pymilvus==2.2.11\""
   ]
  },
  {
   "cell_type": "code",
   "execution_count": 10,
   "metadata": {},
   "outputs": [
    {
     "name": "stdout",
     "output_type": "stream",
     "text": [
      "Connection successful!\n"
     ]
    }
   ],
   "source": [
    "from pymilvus import connections\n",
    "\n",
    "try:\n",
    "    connections.connect(alias=\"default\", host=\"127.0.0.1\", port=\"19530\")\n",
    "    print(\"Connection successful!\")\n",
    "except Exception as e:\n",
    "    print(f\"Connection failed: {e}\")\n"
   ]
  },
  {
   "cell_type": "code",
   "execution_count": 11,
   "metadata": {},
   "outputs": [
    {
     "name": "stdout",
     "output_type": "stream",
     "text": [
      "Available collections: ['Yuli_Edelstein_25', 'Orna_Barbivai_20', 'Ron_Katz_24', 'Benjamin_Netanyahu_24', 'Ariel_Kalner', 'Aryeh_Deri_20', 'Aryeh_Deri_25', 'Yaakov_Tesler_25', 'Matan_Kahane_23', 'Moshe_Fassel', 'Merav_Michaeli_25', 'Mansour_Abbas_24', 'Miri_Regev_18', 'Gila_Gamliel_25', 'Moshe_Gafni_24', 'Walid_Taha_25', 'Matan_Kahane_20', 'Avigdor_Lieberman_25', 'Limor_Son_Har_Melech', 'Chaim_Katz_25', 'Gideon_Saar_18', 'Ayman_Odeh_22', 'Moshe_Arbel_24', 'Eli_Dallal_21', 'Moshe_Tor_Paz_25', 'Eli_Cohen_20', 'Miki_Zohar_22', 'Ron_Katz', 'Gideon_Saar_24', 'Yifat_Shasha_Biton_22', 'Sheshon_Guetta', 'Nir_Barkat_25', 'Yitzhak_Kreiser_25', 'Yosef_Tayeb', 'Yoav_Segalovitz', 'Yifat_Shasha_Biton_23', 'Yinon_Azulai_22', 'Yisrael_Eichler_25', 'Walid_Al_Huashla_25', 'Aryeh_Deri_14', 'Merav_Cohen_21', 'Karine_Elharrar', 'Meir_Porush_24', 'Yoav_Ben_Tzur_22', 'Elazar_Stern_20', 'Mai_Golan', 'Miri_Regev', 'Uri_Maklev_20', 'Miki_Levy_19', 'Benjamin_Netanyahu_23', 'Bezalel_Smotrich_24', 'Yoav_Gallant_20', 'Avi_Dichter_22', 'Meir_Cohen_23', 'Chaim_Katz_15', 'Itamar_Ben_Gvir_23', 'Yoav_Kisch_23', 'Benjamin_Netanyahu_25', 'Amit_Halevi_25', 'Uri_Maklev_24', 'Benjamin_Netanyahu_21', 'Yisrael_Eichler_20', 'Ram_Ben_Barak_23', 'Nir_Barkat_24', 'Sheshon_Guetta_22', 'Benny_Gantz_22', 'Gideon_Saar_19', 'Yitzhak_Pindros', 'Zeev_Elkin_22', 'Itamar_Ben_Gvir_22', 'Almog_Cohen_25', 'Yitzhak_Goldknopf_25', 'Yifat_Shasha_Biton_20', 'Micha_Malchieli_24', 'Zeev_Elkin', 'Avi_Dichter_19', 'Aryeh_Deri_19', 'Meir_Cohen_18', 'Ofer_Kasif_24', 'Eliahu_Ravivo_25', 'Amir_Ohana_21', 'Zeev_Elkin_21', 'Eli_Dallal_23', 'Simon_Moshiashvili', 'Avi_Maoz', 'Yitzhak_Kreiser', 'Amir_Ohana_25', 'Yaakov_Margi_19', 'Israel_Katz_19', 'Aida_Sliman_24', 'Yoav_Ben_Tzur', 'Gilad_Kriv', 'Orna_Barbivai_22', 'Yoav_Gallant_24', 'Eli_Cohen_25', 'Meir_Porush_16', 'Yevgeny_Sova_25', 'Moshe_Arbel_21', 'Moshe_Gafni_19', 'Ohad_Tal_25', 'Bezalel_Smotrich', 'Merav_Michaeli', 'Shlomo_Karai', 'Gila_Gamliel_17', 'Yoav_Kisch_20', 'Yoav_Ben_Tzur_25', 'Uri_Maklev_21', 'Amichai_Chikli', 'Miri_Regev_22', 'Yitzhak_Vserloff', 'Miki_Zohar', 'Merav_Ben_Ari_22', 'Mai_Golan_20', 'Merav_Cohen_20', 'Eli_Cohen_24', 'Uri_Maklev_17', 'Yisrael_Eichler_19', 'Gideon_Saar_22', 'Yinon_Azulai_20', 'Yinon_Azulai_21', 'Mai_Golan_23', 'Merav_Michaeli_20', 'Pnina_Tamno_25', 'Uriel_Buso_25', 'Yair_Lapid_20', 'Tsega_Maleko_25', 'Benjamin_Netanyahu_18', 'Elazar_Stern_22', 'Ofir_Akunis_19', 'Yoel_Razvozov_25', 'Erez_Malul_25', 'Yisrael_Eichler_24', 'Karine_Elharrar_21', 'Michael_Biton_25', 'David_Bitan_24', 'Mai_Golan_22', 'David_Bitan', 'Nissim_Wattoori', 'Benny_Gantz_21', 'Avi_Dichter_18', 'Eli_Dallal_22', 'Ariel_Kalner_25', 'Avi_Dichter', 'Ram_Ben_Barak_22', 'Eli_Cohen_21', 'Efrat_Marom_25', 'Chanoch_Melibitzki', 'Yifat_Shasha_Biton', 'Sharon_Haskel_21', 'Israel_Katz_18', 'Israel_Katz_21', 'Almog_Cohen', 'Ofer_Katz', 'Youssef_Atauna', 'Naor_Shiri', 'Moshe_Arbel_22', 'Danny_Danon_20', 'Yoel_Razvozov_19', 'Yurai_Herzan_25', 'Tsega_Maleko', 'Avraham_Betzalel_25', 'Chaim_Katz_16', 'Matan_Kahane', 'Yisrael_Eichler', 'Yoav_Gallant', 'Tali_Gottlieb_25', 'Amichai_Chikli_24', 'Amichai_Chikli_25', 'Avigdor_Lieberman_23', 'Tatyana_Mazerski_25', 'Uri_Maklev_19', 'Israel_Katz_24', 'Miri_Regev_19', 'Moshe_Abutbul_23', 'Ram_Ben_Barak_21', 'Gila_Gamliel_21', 'Sharon_Haskel_24', 'Walid_Taha_22', 'Miri_Regev_24', 'Chaim_Katz', 'Nir_Barkat', 'Yuli_Edelstein_16', 'Meir_Porush_17', 'Yulia_Malinovsky_25', 'Orit_Struk_24', 'Aida_Sliman_22', 'Benny_Gantz', 'Hamad_Amar', 'Karine_Elharrar_23', 'Orna_Barbivai_21', 'Ofer_Kasif_20', 'Ofir_Akunis_18', 'Ofir_Akunis_23', 'Bezalel_Smotrich_25', 'Miki_Levy_22', 'Mansour_Abbas', 'Kati_Shtrit', 'Aryeh_Deri_15', 'Hili_Trooper_25', 'Yoel_Razvozov_17', 'Alon_Shuster_25', 'Yitzhak_Goldknopf', 'Ofir_Akunis', 'Pnina_Tamno', 'Amir_Ohana_20', 'Gadi_Eisenkot_25', 'Moshe_Gafni_20', 'Yoav_Kisch_22', 'Gideon_Saar_23', 'Yaakov_Asher_23', 'Meir_Cohen_17', 'Haim_Biton_25', 'Israel_Katz_17', 'Tzvika_Fogel_25', 'Yisrael_Eichler_21', 'David_Amsalem_22', 'Meir_Porush_19', 'Matan_Kahane_22', 'Shlomo_Karai_25', 'Zeev_Elkin_19', 'Yaakov_Asher_20', 'Yaakov_Asher_21', 'Aryeh_Deri_22', 'Orit_Prakash_Cohen_25', 'Miki_Zohar_24', 'Yoel_Razvozov_18', 'Ron_Katz_20', 'David_Bitan_19', 'Walid_Taha_20', 'Hili_Trooper_24', 'Merav_Cohen_24', 'Meir_Porush_18', 'Yariv_Levin_20', 'Ayman_Odeh_23', 'Ofer_Kasif', 'Yair_Lapid', 'Boaz_Toporovsky', 'David_Amsalem_25', 'Ofir_Akunis_20', 'Miki_Levy_23', 'Avigdor_Lieberman_21', 'Gilad_Kriv_25', 'Sheshon_Guetta_25', 'Yifat_Shasha_Biton_21', 'Yariv_Levin_22', 'Benjamin_Netanyahu_19', 'Debbie_Biton_25', 'Bezalel_Smotrich_20', 'Aryeh_Deri_13', 'Orit_Struk_21', 'Ayman_Odeh_20', 'Bezalel_Smotrich_23', 'Eli_Dallal_20', 'Chaim_Katz_19', 'Miki_Levy_24', 'Yifat_Shasha_Biton_24', 'David_Amsalem', 'Itamar_Ben_Gvir_20', 'Miki_Zohar_20', 'Hamad_Amar_20', 'Aida_Sliman_23', 'Simon_Davidson', 'Yuli_Edelstein_14', 'Simon_Moshiashvili_25', 'Ayman_Odeh_24', 'Ron_Dermer', 'Naama_Lazimi_25', 'Yonatan_Mishraki_25', 'Miri_Regev_23', 'Moshe_Roth', 'Yaakov_Asher_25', 'Avigdor_Lieberman_22', 'Ahmed_Tibi_19', 'Ahmed_Tibi_21', 'Chaim_Katz_23', 'Avi_Dichter_25', 'David_Amsalem_20', 'Yair_Lapid_22', 'Benjamin_Netanyahu_16', 'Moshe_Abutbul', 'Bezalel_Smotrich_21', 'Merav_Cohen_25', 'Micha_Malchieli_25', 'Itamar_Ben_Gvir_25', 'Sharon_Haskel_20', 'Yoav_Kisch_25', 'Yoav_Ben_Tzur_21', 'Avi_Dichter_24', 'Merav_Cohen_23', 'Yoav_Ben_Tzur_19', 'Yaakov_Margi_22', 'Yaakov_Margi_25', 'David_Amsalem_24', 'Avigdor_Lieberman_16', 'Gideon_Saar_20', 'Karine_Elharrar_19', 'David_Bitan_22', 'Itamar_Ben_Gvir_21', 'Benny_Gantz_25', 'Aryeh_Deri_23', 'Hamad_Amar_23', 'Iman_Yassin', 'Orna_Barbivai_25', 'Ram_Ben_Barak', 'Micha_Malchieli', 'Yuli_Edelstein_17', 'Yoav_Ben_Tzur_23', 'Yair_Lapid_23', 'Michael_Biton', 'Michal_Veldigar', 'Yoel_Razvozov_23', 'Micha_Malchieli_21', 'Gideon_Saar_21', 'Oded_Forer_24', 'Gila_Gamliel', 'Yaakov_Margi', 'Michael_Biton_24', 'Ahmed_Tibi_23', 'Miki_Zohar_25', 'Moshe_Solomon_25', 'Aida_Sliman_25', 'Zeev_Elkin_24', 'David_Bitan_25', 'Eli_Dallal_25', 'Yoav_Segalovitz_25', 'Tali_Gottlieb', 'Karine_Elharrar_25', 'Eli_Cohen_22', 'Chaim_Katz_20', 'Yaakov_Margi_24', 'Moshe_Saada_25', 'Yisrael_Eichler_23', 'Nir_Barkat_21', 'Yoav_Gallant_18', 'Yoav_Gallant_19', 'Hili_Trooper', 'Elazar_Stern_21', 'Hava_Atiya', 'Karine_Elharrar_24', 'Yoav_Gallant_21', 'Benny_Gantz_20', 'Idit_Silman_25', 'Yariv_Levin_25', 'Ofir_Akunis_24', 'Uri_Maklev_18', 'Orit_Struk', 'Tzvika_Fogel', 'Aryeh_Deri_24', 'Israel_Katz_22', 'Naor_Shiri_25', 'Shalom_Danino', 'Yuli_Edelstein_24', 'Uriel_Buso_23', 'Gila_Gamliel_20', 'Merav_Michaeli_21', 'Itamar_Ben_Gvir', 'Eliahu_Ravivo', 'Benny_Gantz_23', 'Merav_Cohen_22', 'Yariv_Levin_23', 'Shelly_Tal_Miron_25', 'Smicha_Rothman_25', 'Miri_Regev_21', 'Osher_Shkalim', 'Aida_Sliman', 'Yinon_Azulai_25', 'Nir_Barkat_22', 'Meir_Porush_23', 'Yair_Lapid_21', 'Micha_Malchieli_22', 'Moshe_Gafni_17', 'Danny_Danon_21', 'Shelly_Tal_Miron', 'Gadi_Eisenkot', 'Sheshon_Guetta_23', 'Danny_Danon_17', 'Danny_Danon_19', 'Ofer_Kasif_22', 'Ofer_Katz_20', 'Avi_Dichter_21', 'Yoel_Razvozov_24', 'Benjamin_Netanyahu_20', 'Orit_Struk_25', 'Erez_Malul', 'Tatyana_Mazerski', 'Merav_Ben_Ari_23', 'Ahmed_Tibi_20', 'Meir_Cohen_22', 'Ofer_Kasif_21', 'Miri_Regev_20', 'Yuli_Edelstein_23', 'Yaakov_Margi_23', 'Benjamin_Netanyahu_15', 'Yuli_Edelstein', 'Yaakov_Asher', 'Sharon_Haskel', 'Moshe_Arbel_23', 'Simon_Davidson_25', 'David_Amsalem_23', 'Meir_Porush_21', 'Chanoch_Melibitzki_25', 'Alon_Shuster', 'Yisrael_Eichler_16', 'Micha_Malchieli_23', 'Oded_Forer_21', 'Yasmin_Friedman', 'David_Bitan_20', 'Ram_Ben_Barak_20', 'Ram_Ben_Barak_24', 'Benjamin_Netanyahu_17', 'Ohad_Tal', 'Moshe_Fassel_25', 'Zeev_Elkin_18', 'Ron_Katz_25', 'Limor_Son_Har_Melech_25', 'Oded_Forer_20', 'Oded_Forer_23', 'Yair_Lapid_19', 'Gideon_Saar_25', 'Yonatan_Mishraki', 'Yisrael_Eichler_17', 'Yaakov_Asher_19', 'Gila_Gamliel_24', 'Moshe_Gafni_18', 'Moshe_Gafni_23', 'Ron_Katz_22', 'Yuli_Edelstein_19', 'Nir_Barkat_23', 'Matan_Kahane_24', 'Ofir_Akunis_25', 'Ofer_Katz_24', 'Benny_Gantz_24', 'Hili_Trooper_23', 'Oded_Forer_22', 'Yoav_Kisch', 'David_Bitan_21', 'Yitzhak_Vserloff_25', 'Meir_Porush_25', 'Miki_Zohar_21', 'Eliyahu_Beruchi', 'Sharon_Nir_25', 'Oded_Forer_25', 'Debbie_Biton', 'Merav_Ben_Ari', 'Sharon_Haskel_22', 'Meir_Cohen_21', 'Mati_Herchevi_25', 'Ahmed_Tibi', 'Hamad_Amar_25', 'Sheshon_Guetta_24', 'Ofir_Akunis_22', 'Chaim_Katz_22', 'Avigdor_Lieberman_18', 'Mansour_Abbas_25', 'Zeev_Elkin_25', 'Merav_Ben_Ari_24', 'Eliyahu_Beruchi_25', 'Yoav_Kisch_24', 'Moshe_Gafni', 'Avraham_Betzalel', 'Yoel_Razvozov', 'Moshe_Saada', 'Nir_Barkat_20', 'Meir_Porush_14', 'Avraham_Betzalel_23', 'Uri_Maklev_22', 'Youssef_Atauna_25', 'Yinon_Azulai_23', 'Smicha_Rothman', 'Orna_Barbivai', 'Moshe_Tor_Paz', 'Karine_Elharrar_20', 'Gila_Gamliel_22', 'Moshe_Gafni_16', 'Miri_Regev_25', 'Moshe_Roth_25', 'Amir_Ohana_24', 'Orna_Barbivai_24', 'Nissim_Wattoori_25', 'Meir_Porush_15', 'Moshe_Arbel', 'Yuli_Edelstein_15', 'Yoav_Gallant_25', 'Avraham_Betzalel_24', 'Merav_Michaeli_24', 'Yasmin_Friedman_25', 'Danny_Danon_25', 'Meir_Cohen_19', 'Gideon_Saar_17', 'Vladimir_Beliak', 'Efrat_Marom', 'Miki_Levy_18', 'Merav_Michaeli_23', 'Danny_Danon', 'Yinon_Azulai_24', 'Itamar_Ben_Gvir_24', 'Mai_Golan_21', 'Walid_Taha_23', 'Chaim_Katz_21', 'Michal_Veldigar_25', 'Meir_Cohen_24', 'Amichai_Eliyahu_25', 'Israel_Katz_23', 'Hamad_Amar_24', 'Yuli_Edelstein_20', 'Miki_Levy_20', 'Idit_Silman', 'Yurai_Herzan', 'Yariv_Levin', 'Aryeh_Deri_18', 'Iman_Yassin_25', 'Idit_Silman_24', 'Avigdor_Lieberman_19', 'Avichay_Buaron', 'Idan_Rol', 'Yoel_Razvozov_22', 'Ron_Katz_23', 'Elazar_Stern_25', 'Dan_Illouz', 'Amichai_Eliyahu', 'Yevgeny_Sova', 'Gila_Gamliel_19', 'Sharon_Haskel_23', 'Matan_Kahane_25', 'Ofer_Katz_22', 'Ofer_Katz_23', 'Yuli_Edelstein_21', 'Yaakov_Asher_24', 'Aryeh_Deri', 'Moshe_Gafni_21', 'Danny_Danon_18', 'Eli_Cohen_23', 'Avigdor_Lieberman_24', 'Vladimir_Beliak_25', 'Aryeh_Deri_16', 'Ahmed_Tibi_25', 'Avigdor_Lieberman', 'Amir_Ohana_22', 'Boaz_Bismuth_25', 'Mati_Herchevi', 'Yifat_Shasha_Biton_25', 'Michal_Shir_Sagman_25', 'Eli_Cohen', 'Karine_Elharrar_22', 'Moshe_Gafni_25', 'Danny_Danon_24', 'Benjamin_Netanyahu_22', 'Hamad_Amar_22', 'Oded_Forer', 'Michal_Shir_Sagman', 'Orit_Struk_22', 'Hava_Atiya_25', 'Moshe_Abutbul_25', 'Yoav_Gallant_22', 'Hili_Trooper_22', 'Meir_Cohen_20', 'Yoav_Kisch_21', 'Ayman_Odeh_18', 'Ayman_Odeh_25', 'Osher_Shkalim_25', 'Yoav_Gallant_23', 'Ahmed_Tibi_18', 'Meir_Porush_20', 'Miki_Zohar_23', 'Ofer_Katz_25', 'Yulia_Malinovsky', 'Walid_Taha_24', 'Israel_Katz_20', 'Tzvi_Sukkot_25', 'Ron_Dermer_25', 'Yoel_Razvozov_20', 'Yariv_Levin_21', 'Kati_Shtrit_25', 'Ofer_Super', 'Ofer_Super_25', 'Yitzhak_Pindros_25', 'Yisrael_Eichler_22', 'Ram_Ben_Barak_25', 'Boaz_Toporovsky_25', 'Hili_Trooper_20', 'Yair_Lapid_24', 'Yoav_Ben_Tzur_20', 'Elazar_Stern_24', 'Uriel_Buso', 'Amit_Halevi', 'Meir_Cohen', 'Israel_Katz', 'Tzvi_Sukkot', 'Gideon_Saar', 'Dan_Illouz_25', 'Zeev_Elkin_20', 'Yoav_Ben_Tzur_24', 'Micha_Malchieli_20', 'Haim_Biton', 'Ahmed_Tibi_22', 'Ayman_Odeh_21', 'Sharon_Nir', 'Moshe_Solomon', 'Zeev_Elkin_23', 'Yaakov_Asher_22', 'Yaakov_Margi_20', 'Moshe_Abutbul_24', 'Moshe_Arbel_25', 'Eli_Dallal_24', 'Orit_Struk_20', 'Naama_Lazimi', 'Amir_Ohana_23', 'Uriel_Buso_24', 'Israel_Katz_25', 'Eli_Dallal', 'Benjamin_Netanyahu', 'Ofir_Akunis_21', 'Idan_Rol_25', 'Aida_Sliman_20', 'Miki_Levy', 'Yaakov_Tesler', 'Elazar_Stern', 'Yuli_Edelstein_22', 'Bezalel_Smotrich_22', 'Ahmed_Tibi_24', 'Ron_Katz_21', 'Miki_Levy_25', 'David_Bitan_23', 'Merav_Ben_Ari_21', 'Danny_Danon_23', 'Yaakov_Margi_21', 'Avichay_Buaron_25', 'Ofer_Kasif_23', 'Ofer_Katz_21', 'Chaim_Katz_18', 'Amir_Ohana', 'Merav_Cohen', 'Michael_Biton_23', 'Avi_Dichter_20', 'Aryeh_Deri_21', 'Hili_Trooper_21', 'Ofer_Kasif_25', 'Gila_Gamliel_18', 'Aryeh_Deri_17', 'Avigdor_Lieberman_20', 'Aida_Sliman_21', 'Ayman_Odeh', 'Orna_Barbivai_23', 'Moshe_Gafni_22', 'Miki_Levy_21', 'Boaz_Bismuth', 'Meir_Porush', 'Sharon_Haskel_25', 'Uri_Maklev_23', 'Ayman_Odeh_19', 'Yinon_Azulai', 'Walid_Al_Huashla', 'Avigdor_Lieberman_17', 'Yair_Lapid_25', 'Mai_Golan_24', 'Gila_Gamliel_23', 'David_Amsalem_21', 'Yoel_Razvozov_21', 'Yariv_Levin_24', 'Merav_Ben_Ari_20', 'Meir_Cohen_25', 'Merav_Michaeli_22', 'Orit_Struk_23', 'Uri_Maklev', 'Chaim_Katz_24', 'Uri_Maklev_25', 'Elazar_Stern_23', 'Merav_Ben_Ari_25', 'Mai_Golan_25', 'Avi_Dichter_23', 'Meir_Porush_22', 'Chaim_Katz_17', 'Walid_Taha', 'Shalom_Danino_25', 'Yosef_Tayeb_25', 'Avi_Maoz_25', 'Orit_Prakash_Cohen']\n"
     ]
    }
   ],
   "source": [
    "from pymilvus import utility\n",
    "collections = utility.list_collections()\n",
    "print(\"Available collections:\", collections)\n",
    "\n",
    "# for collection_name in collections:\n",
    "#   utility.drop_collection(collection_name)\n",
    "# print(\"All collections have been dropped.\")\n",
    "\n",
    "# collections = utility.list_collections()\n",
    "# print(\"Available collections:\", collections)"
   ]
  },
  {
   "cell_type": "code",
   "execution_count": 12,
   "metadata": {},
   "outputs": [
    {
     "data": {
      "text/plain": [
       "677"
      ]
     },
     "execution_count": 12,
     "metadata": {},
     "output_type": "execute_result"
    }
   ],
   "source": [
    "len(collections)"
   ]
  },
  {
   "cell_type": "code",
   "execution_count": 13,
   "metadata": {},
   "outputs": [
    {
     "name": "stdout",
     "output_type": "stream",
     "text": [
      "Collection loaded:\n",
      "Collection info:\n",
      "  Entities: 100\n",
      "  Fields: [{'name': 'id', 'description': '', 'type': <DataType.INT64: 5>, 'is_primary': True, 'auto_id': False}, {'name': 'vector', 'description': '', 'type': <DataType.FLOAT_VECTOR: 101>, 'params': {'dim': 384}}, {'name': 'content', 'description': '', 'type': <DataType.VARCHAR: 21>, 'params': {'max_length': 500}}]\n",
      "  Indexes: [<pymilvus.orm.index.Index object at 0x00000142F92BF750>]\n"
     ]
    }
   ],
   "source": [
    "from pymilvus import connections, Collection\n",
    "\n",
    "col = Collection(\"Yair_Lapid_25\")\n",
    "print(\"Collection loaded:\")\n",
    "col.load()\n",
    "\n",
    "print(\"Collection info:\")\n",
    "print(\"  Entities:\", col.num_entities)\n",
    "print(\"  Fields:\", col.schema.fields)\n",
    "print(\"  Indexes:\", col.indexes)\n",
    "\n"
   ]
  },
  {
   "cell_type": "code",
   "execution_count": 26,
   "metadata": {},
   "outputs": [
    {
     "name": "stdout",
     "output_type": "stream",
     "text": [
      "Query results:\n",
      "['אדוני היושבראש כנסת נכבדה לפני יותר מעשר שנים כשהגענו הנה בפעם הראשונה הייתה לנו שאלה איפה הכסף איפה הכסף של מעמד הביניים הישראלי לאן הוא נעלם מי לקח אותו למה הוא משמש דווקא על השאלה הזו יש לנו היום תשובה  אנחנו רואים אותו בתקציב', 'אתם לוקחים את הכסף הזה מאנשים שקמים בבוקר עושים קפה ויוצאים לעבודה ועובדים קשה ועובדים הרבה שעות ונלחמים על כל אגורה וחוסכים כל אגורה וחושבים פעמיים על כל אגורה שהם מוציאים', 'האנשים האלה משלמים מיסים כי הם חושבים שהכסף הזה יצא על החינוך של הילדים שלהם ועל בתי חולים טובים ועל אפודים קרמיים וברכיות לילדים שלהם שהם לוחמים בצהל', 'היום בערב אתם מביאים הנה חוק שמעלה את המעמ מעלה את כל המוצרים הבסיסיים מעלה את יוקר המחיה של האנשים האלה בדיוק', 'מהם מהמקרר שלהם מהמכונית שהם לא יחליפו מהחוג של הילד שלהם שיעלה יותר מעוד שחיקה של המשכורת שלהם', 'אתם באים לוקחים את הכסף שלהם ומבזבזים אותו בלי חשבון ובלי מצפון ובלי למצמץ', 'אתם לא שואלים מאיפה הכסף כי לכם לא אכפת מהם הם לא מעניינים אתכם', 'מבחינתכם הם מעמד הביניים הישראלי שם רק למטרה אחת  כדי שיהיה לכם את מי לסחוט ויהיה לכם על חשבון מי לחיות', 'זה לא הולך להימשך זה לא יכול להימשך', 'אתם תלכו הביתה ותהיה פה ממשלה טובה שאכפת לה מאזרחי ישראל שמכבדת אנשים עובדים שלפני שהיא מוציאה את הכסף היא שואלת ברצינות מאיפה הכסף הזה מגיע', 'אני קורא לכנסת ישראל להצביע איאמון בממשלה ששודדת את כספו של מעמד הביניים הישראלי', 'אדוני היושבראש כנסת נכבדה', 'התקציב הזה שמונח היום על שולחנה של הכנסת קורע את המסכה מכל דיבורי האחדות של הממשלה', 'אתם לא רוצים אחדות אתם רוצים שישלמו עליכם אתם לא רוצים לחיות ביחד אתם רוצים לחיות על חשבון הציבור', 'זה כל מה שנשאר מדיבורי האחדות שלכם', 'אתם אומרים לציבור היצרני והעובד משמעות האחדות היא שאתם תשלמו  תשלמו בכספכם תשלמו בעסקיכם תשלמו בחשבונותיכם ותשלמו בחייכם', 'מה שמונח פה היום הוא לא תקציב זה חשבון', 'אתם פישלתם אתם הרסתם עכשיו אתם מגישים לנו את החשבון', 'הציבור ישלם את הכול  ישלם על המלחמה שאתם אשמים בה ישלם לחרדים כדי שלא יתגייסו ישלם להזיות המשיחיות של אורית סטרוק ישלם על השחיתות של אמסלם ישלם על הכישלונות של ממשלה לא מתפקדת וראש ממשלה הרסני ולא כשיר', 'התקציב הזה אומר שאתם לא תשלמו שום מחיר לא על המתים לא על הקונספציה לא על הכישלון הניהולי לא על ההתרסקות של הכלכלה שנובעת מהתרסקות של הביטחון שנובעת מההתרסקות שלכם כהנהגה לאומית', 'התקציב הזה אומר שהתנתקתם סופית', 'אתם כבר לא רואים את המצוקה ואת המועקה ואת הזעקה ואת המחיקה של מעמד הביניים הישראלי שהתקופה הזו גמרה אותו', 'אנשים נגמרים חוזרים הביתה מ ו ו ימי מילואים והטלפון הראשון הוא מהבנק', 'נכנסים לסופר לא מאמינים על המחירים', 'חמש דקות  חמש דקות זה מה שהחזיקו רגשות האשם שלכם אחרי  באוקטובר', 'חמש דקות שבהן הלמתם על חזכם ואמרתם בצדק גמור חטאנו עווינו פשענו הבאנו על עם ישראל את האסון הגדול ביותר מאז השואה', 'חזרתם לכל ההרגלים הרעים והמגונים שלכם והכפלתם', 'חזרתם על כל החטאים הישנים על סטרואידים', 'כאילו לא קרה כלום כאילו מתינו כבר לא מונחים לפנינו וכאילו הכלכלה לא מתפרקת לנגד עינינו', 'הרי אתם אומרים לעם ישראל ביחד ננצח אבל לחוד נשלם את המחיר', 'הנחת היסוד שלכם  הנחה מלאה בוז וזלזול  היא שהציבור לא מבין כלום', 'הוא לא מבין מה זה הורדת דירוג והוא לא מבין מה זה גירעון והוא לא מבין מה זה כספים קואליציוניים', 'אלה כל מיני מספרים מסובכים שהוא לא מבין אותם', 'כי יש מספרים שהוא כן רואה  הוא רואה את המחירים בסופר הוא רואה את השחיקה בשכר שלו הוא רואה את האוברדרפט שלו הוא רואה כמה הוא משלם על הצהרון של הילדים הוא רואה כמה הוא משלם על הדלק', 'יש משהו סמלי בזה ששר הכלכלה הציע לשים מדבקות שחורות על מוצרים שהמחירים שלהם עלו כי זו הדרך שבה אתם רואים את העולם', 'אם אתם מקלקלים משהו אתם לא צריכים לתקן אותו חלילה מספיק לשים עליו מדבקה שחורה', 'לא יעזרו לכם כל המדבקות השחורות הציבור רואה את החיים שלו מתכווצים ואת הממשלה הזו מתרחבת והוא מבין בדיוק מי אשם', 'והוא גם יודע מה זה גירעון  גירעון זה הלוואה שאתם לוקחים מהילדים שלו ואין לכם שום כוונה להחזיר', 'זה לא הוצאות המלחמה  בזה אנחנו יודעים לטפל זה הכישלון הניהולי זה חוסר האחריות זו הרשלנות והיוהרה שבה אתם מבזבזים בלי חשבון את הכסף של מעמד הביניים הישראלי', 'אני רוצה להגיד מפה לחברה הישראלית אל ייאוש', 'בגלל זה הם דחו את העלאת המעמ לשנה הבאה כדי שזה כבר יהיה בממשלה שלנו', 'בגלל שהם לא יעבירו עוד אחד עוד אפשר יהיה לתקן את זה ואנחנו נדע איך', 'הייתי שר אוצר הייתי ראש ממשלה העברתי לא מעט תקציבים בחיי', 'יש דבר אחד שצריך לעשות בשביל ליצור כלכלה יעילה מתפקדת ומצליחה  להשקיע במעמד הביניים ליצור  ברור חיבור ברור בין מה שאנשים נותנים למדינה לבין מה שהם מקבלים ממנה', 'כל האנשים האלה שהממשלה הזו זורקת ודוחקת לשולי הדרך בהם אנחנו נשקיע', 'נשקיע בציבור העובד נשקיע בציבור שמשרת במילואים נשקיע באנשים שמחזיקים את המדינה הזו בחיים', 'אני אומר מפה לכל האנשים שהתקציב הנורא והמושחת הזה ממלא אותם בייאוש אל תתייאשו', 'אדוני היושבראש כנסת נכבדה יותר מחמישה חודשים אחרי אסון  באוקטובר התרגלנו לטירוף', 'מדי פעם אנחנו נזכרים בו מדי פעם אנחנו אומרים זה לא נורמלי', 'יש יותר מטורף מזה כן יש השר לביטחון לאומי האחראי להר הבית שהורשע בתמיכה בטרור שלא שירת יום אחד בצבא והיה חבר בתנועה שנדרה לפוצץ את הר הבית', 'זה היה מטורף בעינינו בשבוע הראשון בחודש הראשון עכשיו זה כבר לא מטורף', 'ככה פועל המין האנושי  הוא מסתגל', 'אתה נזכר בזה רק כשאתה פוגש מנהיגים זרים מהעולם ורואה את הזעזוע שלהם את ההלם שלהם ממה שנהיה מאיתנו', 'התרגלנו לרעיון המטורף ההזוי שובר הלב שעשרות ישראלים יושבים בשבי החמאס', 'בטלוויזיה מקיימים על זה דיונים רציניים האם צריך לעשות עסקה או שביטחון ישראל מחייב שנשאיר אותם למות שם הקבינט לא התכנס בשבת האחרונה לדון בעסקת החטופים', 'הם אמרו אפשר לחכות למוצאי שבת', 'בעולם שהתרגל לטירוף אין אפילו דבר כזה פיקוח נפש', 'מעל הכול התרגלנו לרעיון המטורף המשונה העקום והמוזר שבנימין נתניהו הוא עדיין ראש ממשלת ישראל', 'יכולת למנוע את זה ולא מנעת את זה ואתה ממשיך כאילו כלום', 'עוד שבוע עובר ועוד שבוע עובר ועוד חודש ועוד חודש והטירוף הופך להרגל', 'אני רוצה להזכיר מפה לאזרחי ישראל לכנסת ישראל מה שקורה פה היום הוא לא נורמלי', 'הם צריכים ללכת אחרת כולנו נהפוך לאנורמליים', 'אני קורא לכנסת ישראל להצביע איאמון בממשלה המטורפת בתולדות המדינה', 'אנחנו מתכנסים פה היום כדי להעמיד פנים שאנחנו פותרים בעיה', 'אנחנו יוצרים עיוות שפוגע בביטחון ופוגע בחברה הישראלית ופוגע באחדות', 'אם אנחנו רוצים ביחד לנצח אז בואו נתחיל בזה שביחד נתגייס וביחד נשלם מיסים וביחד נעשה מילואים וביחד נציית לאותם חוקים', 'איאפשר להפריד את נושא השירות לסדיר ולמילואים משאלת גיוס החרדים', 'זה אותו נושא ביטחונית וכלכלית וניהולית וערכית', 'התנאי הראשון לחיים משותפים הוא שלכולם יש את אותן זכויות וגם את אותן חובות', 'אין דבר כזה אחדות בלי שוויון ואין דבר כזה אחדות אם כל העומס המבצעי והכלכלי נופל רק על קבוצה אחת בחברה הישראלית כי זה מה שאומר החוק הזה שכל העומס נופל רק על קבוצה אחת בחברה הישראלית', 'אותם אנשים מתגייסים אותם אנשים עושים מילואים', 'אותם אנשים מפעילים את ארגוני החברה האזרחית שהצילו את המדינה', 'ומהצד השני יש את אותם אנשים שלא עושים את כל זה', 'אותם אנשים שמעלים להם את הקצבאות', 'אותם אנשים שלא שוכבים ערים בלילות ומפחדים שתהיה דפיקה בדלת', 'צעירים חרדים נמצאים היום בגיל השירות', 'אם רק  מהם יתגייסו לא יהיה צריך להאריך את השירות הסדיר', 'אם רק רבע מהגברים החרדים בגילאי  עד  יעשו מילואים אפשר יהיה לצמצם את ימי המילואים לחודש אחד בשנה', 'זה לא קורה רק מסיבה אחת לחצים פוליטיים', 'מה שקורה פה עכשיו זה שעושים פוליטיקה בזמן שנהרגים לוחמים', 'אנחנו מנהלים את הדיון הזה בזמן שצמד המילים הכי מפחיד בשפה העברית הוא הותר לפרסום', 'אבל הממשלה אפילו לא מנסה להעמיד פנים שהיא רוצה לשנות את המצב', 'במקום זה מכנסים היום פה את הוועדה ואומרים לנו שאין ברירה', 'אנחנו יכולים לעשות את הדבר הנכון', 'הממשלה הזאת כבר לא תהיה לא אחראית ולא הגונה', 'אבל הוועדה יכולה להגיד שזה לא תפקידה להלבין בשביל הקואליציה בעיות פוליטיות', 'ואל תמכרו לנו שמדובר בהוראת שעה', 'החוק שמונח פה לפנינו הוא לא הוראת שעה הוא נועד לאפשר לקואליציה לדלג על התקופה הזו שבה זה לא פופולרי לעודד השתמטות וזה לא פופולרי לעודד אפליה בין דם לדם', 'אם אנחנו לא נשנה את המצב עכשיו אחרי מה שקרה פה ב באוקטובר אז המצב לא ישתנה לעולם', 'הוועדה יכולה להגיד לממשלה תפסיקי להסתתר מאחורי הצבא התפקיד שלנו הוא לראות את החברה הישראלית כולה', 'אנחנו רואים איך אנשי המילואים כורעים תחת הנטל', 'אנחנו רואים עסקים מתמוטטים ומשפחות מתפרקות', 'ואנחנו לא נהיה חותמת גומי לזה שיש פה ציבור עצום שמשתמט ומקבל בתור פרס קצבאות מוגדלות', 'הוועדה יכולה לדרוש מהממשלה להביא מתווה גיוס אמיתי שכולל את כל חלקי החברה הישראלית ואנחנו נתייצב עם אחינו החרדים ואחינו הם ונגיד להם אנחנו לא נגדכם אנחנו לא רודפים אתכם כל מה שאנחנו רוצים זה שלילדים שלנו ולילדים שלכם יהיה בדיוק את אותו גורל', 'כל מה שאנחנו רוצים הוא שנחיה פה ביחד בלי להרגיש שאנחנו הפראיירים הנצחיים של החברה הישראלית', 'אני קורא לוועדה לא לקבל את החוק כפי שהוא מנוסח', 'אדוני היושבראש כנסת נכבדה אני רוצה לפנות מפה לראש הממשלה האמיתי יריב לוין', 'היות שאתה מנהל את הממשלה הזאת באמת אתה צריך לזכור שעם הכוח באה אחריות', 'בעוד חצי שנה מעכשיו כשהכלכלה הישראלית תהיה מרוסקת לגמרי על הרצפה כי זה כבר מתרסק', 'בעוד חצי שנה כשהביטחון הישראלי יהיה על הרצפה כי הוא כבר מתרסק']\n"
     ]
    }
   ],
   "source": [
    "results = col.query(\n",
    "    expr=\"id >= 0\", \n",
    "    output_fields=[\"content\"]\n",
    ")\n",
    "results = [r[\"content\"] for r in results]\n",
    "print(\"Query results:\")\n",
    "print(results)"
   ]
  },
  {
   "cell_type": "code",
   "execution_count": null,
   "metadata": {},
   "outputs": [],
   "source": [
    "from sentence_transformers import SentenceTransformer, util\n",
    "\n",
    "# Load a pre-trained sentence embedding model\n",
    "model = SentenceTransformer('all-MiniLM-L6-v2')  # Small and fast, good for semantic tasks\n",
    "\n",
    "# Example answers\n",
    "answer_bot = \"We should focus on improving public health and education.\"\n",
    "answer_real = \"I believe that investing in healthcare and schools is vital for our future.\"\n",
    "\n",
    "# Get embeddings\n",
    "embedding_bot = model.encode(answer_bot, convert_to_tensor=True)\n",
    "embedding_real = model.encode(answer_real, convert_to_tensor=True)\n",
    "\n",
    "# Compute cosine similarity\n",
    "similarity = util.pytorch_cos_sim(embedding_bot, embedding_real).item()\n",
    "\n",
    "print(f\"Semantic similarity score: {similarity:.4f}\")\n"
   ]
  },
  {
   "cell_type": "code",
   "execution_count": null,
   "metadata": {},
   "outputs": [],
   "source": [
    "answer_real = \"אנחנו אומרים בצורה ברורה כל מה שקרה במסגרת הממשלה זאת אחריות הממשלה והמדינה, פרקטית זה אומר שתקום ועדת חקירה שתבחן מי אשם ומי הוביל למחדל הנורא הזה\"\n",
    "answer_bot = \"אני אומרת בבירור שהמחדל הוא תוצאה של כישלון קולקטיבי של הממשלה כולה. יש לנו חובה להילחם על ביטחון האזרחים ולא ניתן להאשים רק צד אחד. אנחנו נדרשים לחקור לעומק ולהבטיח שלא יחזור על עצמו.\"\n",
    "# Get embeddings\n",
    "embedding_bot = model.encode(answer_bot, convert_to_tensor=True)\n",
    "embedding_real = model.encode(answer_real, convert_to_tensor=True)\n",
    "\n",
    "# Compute cosine similarity\n",
    "similarity = util.pytorch_cos_sim(embedding_bot, embedding_real).item()\n",
    "\n",
    "print(f\"Semantic similarity score: {similarity:.4f}\")"
   ]
  },
  {
   "cell_type": "code",
   "execution_count": null,
   "metadata": {},
   "outputs": [],
   "source": [
    "from pymilvus import Collection\n",
    "\n",
    "def get_unindexed_collections():\n",
    "    return [name for name in utility.list_collections() if not Collection(name).has_index()]\n",
    "print(\"Unindexed collections:\", get_unindexed_collections())\n"
   ]
  },
  {
   "cell_type": "code",
   "execution_count": null,
   "metadata": {},
   "outputs": [],
   "source": [
    "def collection_exists(collection_name):\n",
    "    return utility.has_collection(collection_name)\n",
    "collection_exists(\"Yasser_Hujirat\")"
   ]
  },
  {
   "cell_type": "code",
   "execution_count": null,
   "metadata": {},
   "outputs": [],
   "source": [
    "lastic_ip = '34.0.64.248:9200'\n",
    "kibana_ip = '34.0.64.248:5601'\n",
    "es_username = 'user'\n",
    "es_password = 'knesset'\n",
    "\n",
    "from elasticsearch import Elasticsearch\n",
    "\n",
    "# es = Elasticsearch(f'http://{elastic_ip}',http_auth=(es_username, es_password), timeout=1000000)\n",
    "# resp = es.search(index=\"all_features_sentences\", body={\"query\":{\"match_all\": {}}})\n",
    "# print(\"Got %d Hits:\" % resp['hits']['total']['value'])\n",
    "# for hit in resp['hits']['hits']:\n",
    "#    print(\"id: %(sentence_id)s: speaker_name: %(speaker_name)s: sentence_text: %(sentence_text)s\" % hit[\"_source\"])\n"
   ]
  },
  {
   "cell_type": "code",
   "execution_count": null,
   "metadata": {},
   "outputs": [],
   "source": [
    "from elasticsearch import Elasticsearch\n",
    "\n",
    "es = Elasticsearch(f'http://{elastic_ip}', basic_auth=(es_username, es_password), request_timeout=500)\n",
    "data_q =[]\n",
    "# Query definition\n",
    "query = {\n",
    "    \"query\": {\n",
    "        \"bool\": {\n",
    "            \"must\": [\n",
    "                {\"match\": {\"speaker_name\": \"איתמר בן גביר\"}}\n",
    "            ],\n",
    "            \"filter\": {\n",
    "                \"script\": {\n",
    "                    \"script\": {\n",
    "                        \"source\": \"doc['sentence_text.keyword'].size() > 0 && doc['sentence_text.keyword'].value.length() > 10\"\n",
    "                    }\n",
    "                }\n",
    "            }\n",
    "        }\n",
    "    }\n",
    "}\n",
    "\n",
    "# Initialize scroll\n",
    "resp = es.search(index=\"all_features_sentences\", body=query, scroll=\"2m\", size=1000)\n",
    "\n",
    "# Retrieve the scroll ID and first batch of hits\n",
    "scroll_id = resp['_scroll_id']\n",
    "hits = resp['hits']['hits']\n",
    "\n",
    "total_hits = 0\n",
    "while total_hits<4000:\n",
    "    for hit in hits:\n",
    "      data_q.append(\"%(sentence_text)s\" % hit[\"_source\"])\n",
    "      #print(\"%(sentence_text)s\" % hit[\"_source\"])\n",
    "\n",
    "    total_hits += len(hits)\n",
    "\n",
    "    # Fetch the next batch\n",
    "    resp = es.scroll(scroll_id=scroll_id, scroll=\"2m\")\n",
    "    scroll_id = resp['_scroll_id']\n",
    "    hits = resp['hits']['hits']\n",
    "\n",
    "print(f\"Total results retrieved: {total_hits}\")\n",
    "\n",
    "# Clear the scroll to free resources\n",
    "es.clear_scroll(scroll_id=scroll_id)\n"
   ]
  },
  {
   "cell_type": "code",
   "execution_count": null,
   "metadata": {},
   "outputs": [],
   "source": [
    "import re\n",
    "\n",
    "# for i in range(len(data_q)):\n",
    "#     data_q[i] = re.sub(r'[^א-ת ]', '', data_q[i]).strip()\n"
   ]
  },
  {
   "cell_type": "code",
   "execution_count": null,
   "metadata": {},
   "outputs": [],
   "source": [
    "from sentence_transformers import SentenceTransformer\n",
    "\n",
    "# Initialize the embedding model\n",
    "embedding_fn = SentenceTransformer(\"paraphrase-multilingual-MiniLM-L12-v2\")\n",
    "\n",
    "# Encode the documents\n",
    "docs = data_q.copy()\n",
    "vectors = embedding_fn.encode(docs)  # Encode into vectors\n",
    "print(\"Dim:\", len(vectors[0]), vectors[0].shape)  # Dim: 768\n"
   ]
  },
  {
   "cell_type": "code",
   "execution_count": null,
   "metadata": {},
   "outputs": [],
   "source": [
    "data = [\n",
    "    {\"id\": i, \"vector\": vectors[i], \"text\": docs[i]}\n",
    "    for i in range(len(vectors))\n",
    "]\n",
    "print(\"Data has\", len(data), \"entities, each with fields:\", data[0].keys())\n",
    "print(\"Vector dim:\", len(data[0][\"vector\"]))\n"
   ]
  },
  {
   "cell_type": "code",
   "execution_count": null,
   "metadata": {},
   "outputs": [],
   "source": [
    "from pymilvus import FieldSchema, CollectionSchema, DataType, Collection\n",
    "\n",
    "# Define the collection schema\n",
    "fields = [\n",
    "    FieldSchema(name=\"id\", dtype=DataType.INT64, is_primary=True),\n",
    "    FieldSchema(name=\"vector\", dtype=DataType.FLOAT_VECTOR, dim=len(vectors[0])),\n",
    "    FieldSchema(name=\"text\", dtype=DataType.VARCHAR, max_length=512),\n",
    "]\n",
    "schema = CollectionSchema(fields, description=\"Demo collection for quotes of Miri Regev\")\n",
    "\n",
    "# Create or load the collection\n",
    "collection_name = \"Miri_Regev\"\n",
    "collection = Collection(name=collection_name, schema=schema)\n"
   ]
  },
  {
   "cell_type": "code",
   "execution_count": null,
   "metadata": {},
   "outputs": [],
   "source": [
    "# Milvus expects the data in columns (field-wise)\n",
    "field_data = [\n",
    "    [entity[\"id\"] for entity in data],  # IDs\n",
    "    [entity[\"vector\"] for entity in data],  # Vectors\n",
    "    [entity[\"text\"] for entity in data],  # Text\n",
    "]\n",
    "\n",
    "# Insert the data\n",
    "res = collection.insert(field_data)\n",
    "print(f\"Inserted {len(field_data[0])} entities into {collection_name}.\")\n"
   ]
  },
  {
   "cell_type": "code",
   "execution_count": null,
   "metadata": {},
   "outputs": [],
   "source": [
    "# Create an index\n",
    "\n",
    "index_params = {\n",
    "    \"index_type\": \"IVF_FLAT\",\n",
    "    \"metric_type\": \"L2\",\n",
    "    \"params\": {\"nlist\": 128},\n",
    "}\n",
    "collection.create_index(field_name=\"vector\", index_params=index_params)\n",
    "print(\"Index created.\")\n"
   ]
  },
  {
   "cell_type": "code",
   "execution_count": null,
   "metadata": {},
   "outputs": [],
   "source": [
    "from pymilvus import list_collections\n",
    "\n",
    "collections = list_collections()\n",
    "print(\"Collections in Milvus:\", collections)\n"
   ]
  },
  {
   "cell_type": "code",
   "execution_count": null,
   "metadata": {},
   "outputs": [],
   "source": [
    "collection = Collection(name=\"Miri_Regev_quotes\")\n"
   ]
  },
  {
   "cell_type": "code",
   "execution_count": null,
   "metadata": {},
   "outputs": [],
   "source": [
    "collection.load()\n",
    "\n",
    "# Define a query vector (e.g., embedding for a new query)\n",
    "query_vector = embedding_fn.encode([\"מה דעתה תחבורה ציבורית?\"])[0]\n",
    "\n",
    "# Perform the search\n",
    "search_params = {\"metric_type\": \"L2\", \"params\": {\"nprobe\": 10}}\n",
    "results = collection.search(\n",
    "    data=[query_vector],  # Query vector\n",
    "    anns_field=\"vector\",\n",
    "    param=search_params,\n",
    "    limit=15,  # Number of top matches\n",
    "    output_fields=[\"text\"],  # Include the text field in results\n",
    ")\n",
    "\n",
    "# Display results\n",
    "for result in results:\n",
    "    for hit in result:\n",
    "        print(f\"Text: {hit.entity.get('text')}\")\n",
    "\n",
    "\n"
   ]
  },
  {
   "cell_type": "code",
   "execution_count": null,
   "metadata": {},
   "outputs": [],
   "source": [
    "def retrive_quotes(KNS_name, knesset_number):\n",
    "    es = Elasticsearch(f'http://{elastic_ip}', basic_auth=(es_username, es_password), request_timeout=500)\n",
    "    data_q = []\n",
    "\n",
    "    query = {\n",
    "        \"query\": {\n",
    "            \"bool\": {\n",
    "                \"must\": [\n",
    "                    {\"match\": {\"speaker_name\": KNS_name}},\n",
    "                    {\"match\": {\"knesset_number\": knesset_number}}\n",
    "                ],\n",
    "                \"filter\": {\n",
    "                    \"script\": {\n",
    "                        \"script\": {\n",
    "                            \"source\": \"doc['sentence_text.keyword'].size() > 0 && doc['sentence_text.keyword'].value.length() > 30\"\n",
    "                        }\n",
    "                    }\n",
    "                }\n",
    "            }\n",
    "        }\n",
    "    }\n",
    "\n",
    "    # Initialize scroll\n",
    "    resp = es.search(index=\"all_features_sentences\", body=query, scroll=\"2m\", size=4000)\n",
    "\n",
    "    # Retrieve the scroll ID and first batch of hits\n",
    "    scroll_id = resp['_scroll_id']\n",
    "    hits = resp['hits']['hits']\n",
    "\n",
    "    while hits:\n",
    "        for hit in hits:\n",
    "            data_q.append(\"%(sentence_text)s\" % hit[\"_source\"])\n",
    "        # Fetch the next batch\n",
    "        resp = es.scroll(scroll_id=scroll_id, scroll=\"2m\")\n",
    "        scroll_id = resp['_scroll_id']\n",
    "        hits = resp['hits']['hits']\n",
    "\n",
    "    print(f\"Total results retrieved: {len(data_q)}\")\n",
    "\n",
    "    # Clear the scroll to free resources\n",
    "    es.clear_scroll(scroll_id=scroll_id)\n",
    "\n",
    "    for i in range(len(data_q)):\n",
    "        data_q[i] = re.sub(r'[^א-ת ]', '', data_q[i]).strip()\n",
    "\n",
    "    return data_q\n"
   ]
  },
  {
   "cell_type": "code",
   "execution_count": null,
   "metadata": {},
   "outputs": [],
   "source": [
    "retrive_quotes(\"מירי רגב\", \"23\")"
   ]
  },
  {
   "cell_type": "code",
   "execution_count": null,
   "metadata": {},
   "outputs": [],
   "source": [
    "from elasticsearch import Elasticsearch\n",
    "import re\n",
    "\n",
    "def retrive_quotes(KNS_name, knesset_number):\n",
    "\n",
    "    es = Elasticsearch(f'http://{elastic_ip}', basic_auth=(es_username, es_password), request_timeout=500)\n",
    "    data_q =[]\n",
    "    # Query definition\n",
    "    if knesset_number is not None:\n",
    "        query = {\n",
    "            \"query\": {\n",
    "                \"bool\": {\n",
    "                    \"must\": [\n",
    "                        {\"match\": {\"speaker_name\": KNS_name}},\n",
    "                        {\"match\": {\"knesset_number\": knesset_number}}\n",
    "                    ],\n",
    "                    \"filter\": {\n",
    "                        \"script\": {\n",
    "                            \"script\": {\n",
    "                                \"source\": \"doc['sentence_text.keyword'].size() > 0 && doc['sentence_text.keyword'].value.length() > 30\"\n",
    "                            }\n",
    "                        }\n",
    "                    }\n",
    "                }\n",
    "            }\n",
    "        }\n",
    "    else:\n",
    "        query = {\n",
    "            \"query\": {\n",
    "                \"bool\": {\n",
    "                    \"must\": [\n",
    "                        {\"match\": {\"speaker_name\": KNS_name}}\n",
    "                    ],\n",
    "                    \"filter\": {\n",
    "                        \"script\": {\n",
    "                            \"script\": {\n",
    "                                \"source\": \"doc['sentence_text.keyword'].size() > 0 && doc['sentence_text.keyword'].value.length() > 30\"\n",
    "                            }\n",
    "                        }\n",
    "                    }\n",
    "                }\n",
    "            }\n",
    "        }\n",
    "\n",
    "    # Initialize scroll\n",
    "    resp = es.search(index=\"all_features_sentences\", body=query, size=8000)\n",
    "    hits = resp['hits']['hits']\n",
    "\n",
    "    for hit in hits:\n",
    "        sentence = hit[\"_source\"].get(\"sentence_text\", \"\")\n",
    "        data_q.append(sentence)\n",
    "\n",
    "    print(f\"Total results retrieved: {len(data_q)}\")\n",
    "\n",
    "    # Clean sentences\n",
    "    for i in range(len(data_q)):\n",
    "        data_q[i] = re.sub(r'[^א-ת ]', '', data_q[i]).strip()\n",
    "\n",
    "    return data_q"
   ]
  },
  {
   "cell_type": "code",
   "execution_count": null,
   "metadata": {},
   "outputs": [],
   "source": [
    "x = retrive_quotes(\"משה אבוטבול\", 1)"
   ]
  },
  {
   "cell_type": "code",
   "execution_count": null,
   "metadata": {},
   "outputs": [],
   "source": [
    "x"
   ]
  },
  {
   "cell_type": "code",
   "execution_count": null,
   "metadata": {},
   "outputs": [],
   "source": [
    "import csv\n",
    "\n",
    "# Write the list to a CSV file\n",
    "with open('quotes.csv', 'w', newline='', encoding='utf-8') as csvfile:\n",
    "  writer = csv.writer(csvfile)\n",
    "  writer.writerow(['Quote'])  # Add a header\n",
    "  for quote in d:\n",
    "    writer.writerow([quote])\n",
    "\n",
    "print(\"List has been written to quotes.csv\")"
   ]
  }
 ],
 "metadata": {
  "kernelspec": {
   "display_name": "venv",
   "language": "python",
   "name": "python3"
  },
  "language_info": {
   "codemirror_mode": {
    "name": "ipython",
    "version": 3
   },
   "file_extension": ".py",
   "mimetype": "text/x-python",
   "name": "python",
   "nbconvert_exporter": "python",
   "pygments_lexer": "ipython3",
   "version": "3.11.5"
  }
 },
 "nbformat": 4,
 "nbformat_minor": 2
}
