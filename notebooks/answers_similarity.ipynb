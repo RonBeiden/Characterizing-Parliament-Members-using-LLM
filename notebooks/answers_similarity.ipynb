{
 "cells": [
  {
   "cell_type": "code",
   "execution_count": 2,
   "id": "df49ccf4",
   "metadata": {},
   "outputs": [
    {
     "name": "stderr",
     "output_type": "stream",
     "text": [
      "c:\\Users\\1\\Desktop\\Final Project\\venv\\Lib\\site-packages\\tqdm\\auto.py:21: TqdmWarning: IProgress not found. Please update jupyter and ipywidgets. See https://ipywidgets.readthedocs.io/en/stable/user_install.html\n",
      "  from .autonotebook import tqdm as notebook_tqdm\n",
      "c:\\Users\\1\\Desktop\\Final Project\\venv\\Lib\\site-packages\\torchvision\\datapoints\\__init__.py:12: UserWarning: The torchvision.datapoints and torchvision.transforms.v2 namespaces are still Beta. While we do not expect major breaking changes, some APIs may still change according to user feedback. Please submit any feedback you may have in this issue: https://github.com/pytorch/vision/issues/6753, and you can also check out https://github.com/pytorch/vision/issues/7319 to learn more about the APIs that we suspect might involve future changes. You can silence this warning by calling torchvision.disable_beta_transforms_warning().\n",
      "  warnings.warn(_BETA_TRANSFORMS_WARNING)\n",
      "c:\\Users\\1\\Desktop\\Final Project\\venv\\Lib\\site-packages\\torchvision\\transforms\\v2\\__init__.py:54: UserWarning: The torchvision.datapoints and torchvision.transforms.v2 namespaces are still Beta. While we do not expect major breaking changes, some APIs may still change according to user feedback. Please submit any feedback you may have in this issue: https://github.com/pytorch/vision/issues/6753, and you can also check out https://github.com/pytorch/vision/issues/7319 to learn more about the APIs that we suspect might involve future changes. You can silence this warning by calling torchvision.disable_beta_transforms_warning().\n",
      "  warnings.warn(_BETA_TRANSFORMS_WARNING)\n"
     ]
    }
   ],
   "source": [
    "from sentence_transformers import SentenceTransformer, util\n",
    "\n",
    "# Load a pre-trained sentence embedding model\n",
    "model = SentenceTransformer('all-MiniLM-L6-v2')"
   ]
  },
  {
   "cell_type": "code",
   "execution_count": 3,
   "id": "92421e4f",
   "metadata": {},
   "outputs": [],
   "source": [
    "SIM_SCORE = 0\n",
    "TOTAL_QUESTIONS = 0\n",
    "\n",
    "def calculate_accuracy(similarity_score):\n",
    "    global SIM_SCORE, TOTAL_QUESTIONS\n",
    "    SIM_SCORE += similarity_score\n",
    "    TOTAL_QUESTIONS += 1\n",
    "\n",
    "def get_average_similarity():\n",
    "    if TOTAL_QUESTIONS == 0:\n",
    "        return 0\n",
    "    return SIM_SCORE / TOTAL_QUESTIONS\n",
    "\n",
    "def compute_similarity(real_answer, bot_answer):\n",
    "    \"\"\"\n",
    "    Compute the cosine similarity between two sentences.\n",
    "    \n",
    "    Args:\n",
    "        real_answer (str): The real answer sentence.\n",
    "        bot_answer (str): The bot's answer sentence.\n",
    "    \n",
    "    Returns:\n",
    "        float: Cosine similarity score between the two sentences.\n",
    "    \"\"\"\n",
    "    # Encode the sentences to get their embeddings\n",
    "    embedding_bot = model.encode(bot_answer, convert_to_tensor=True)\n",
    "    embedding_real = model.encode(real_answer, convert_to_tensor=True)\n",
    "\n",
    "    # Compute cosine similarity\n",
    "    similarity = util.pytorch_cos_sim(embedding_bot, embedding_real).item()\n",
    "    print(f\"Semantic similarity score: {similarity:.4f}\")\n",
    "    return similarity\n"
   ]
  },
  {
   "cell_type": "markdown",
   "id": "4276ec6d",
   "metadata": {},
   "source": [
    "# Miri Regev"
   ]
  },
  {
   "cell_type": "code",
   "execution_count": 16,
   "id": "0fb19d18",
   "metadata": {},
   "outputs": [
    {
     "name": "stdout",
     "output_type": "stream",
     "text": [
      "Semantic similarity score: 0.7851\n"
     ]
    }
   ],
   "source": [
    "Question = \"מי אחראי למחדל ה7.10?\" # שאלה מתוך ראיון עם אופירה ולווינסון\n",
    "real_answer = \"אנחנו אומרים בצורה ברורה כל מה שקרה במסגרת הממשלה זאת אחריות הממשלה והמדינה, פרקטית זה אומר שתקום ועדת חקירה שתבחן מי אשם ומי הוביל למחדל הנורא הזה\"\n",
    "bot_answer = \"אני אומרת בבירור שהמחדל הוא תוצאה של כישלון קולקטיבי של הממשלה כולה. יש לנו חובה להילחם על ביטחון האזרחים ולא ניתן להאשים רק צד אחד. אנחנו נדרשים לחקור לעומק ולהבטיח שלא יחזור על עצמו.\"\n",
    "\n",
    "calculate_accuracy(compute_similarity(real_answer, bot_answer))"
   ]
  },
  {
   "cell_type": "code",
   "execution_count": 17,
   "id": "d9b24dbe",
   "metadata": {},
   "outputs": [
    {
     "name": "stdout",
     "output_type": "stream",
     "text": [
      "Semantic similarity score: 0.4409\n"
     ]
    }
   ],
   "source": [
    "Question = \"יאיר גולן הציל אנשים בשבעה באוקטובר, אמת או פייק?\" # שאלה מתוך ראיון עם רוני קובן\n",
    "bot_answer =\"אני אומרת בפירוש שזה פייק. אין מקום לשקר ושקרנים במערכת הביטחון שלנו. אנחנו צריכים לעמוד על עקרונותינו ולא לתת למי שמעוות את המציאות להשפיע על הציבור.\"\n",
    "real_answer = \"פייק\"\n",
    "\n",
    "calculate_accuracy(compute_similarity(real_answer, bot_answer))"
   ]
  },
  {
   "cell_type": "code",
   "execution_count": 18,
   "id": "851c5ea9",
   "metadata": {},
   "outputs": [
    {
     "name": "stdout",
     "output_type": "stream",
     "text": [
      "Semantic similarity score: 0.8220\n"
     ]
    }
   ],
   "source": [
    "Question = \"\"\"מה דעתך על ההדלפות מישיבות הקבינט של המלחמה?\"\"\" # שאלה מתוך ראיון עם אופירה ולווינסון\n",
    "bot_answer = \"\"\"אני מתנגדת להדלפות מישיבות הקבינט. מדובר בשערורייה שפוגעת בביטחון המדינה. הציבור חייב לדעת שההחלטות מתקבלות בצורה מסודרת ולא על בסיס מידע מודלף. אנחנו נדרשים לעמוד על עקרונותינו ולשמור על סודיות המידע כדי להגן על אזרחי ישראל.\"\"\"\n",
    "real_answer = \"ההדלפות מהקבינט הן בעיני חמורות ביותר, אסור לעשות את זה, זה פוגע בביטחון המדינה. ואני אומרת שכל ההדלפות האלה נועדו להשתיק אותי ולמנוע מממני לשאול שאלות ואני אמשיך לשאול שאלות קשות כדי לוודא שהצבא עושה את מה שהוא צריך לעשות\"\n",
    "\n",
    "calculate_accuracy(compute_similarity(real_answer, bot_answer))"
   ]
  },
  {
   "cell_type": "code",
   "execution_count": 19,
   "id": "e56bd916",
   "metadata": {},
   "outputs": [
    {
     "name": "stdout",
     "output_type": "stream",
     "text": [
      "Semantic similarity score: 0.6157\n"
     ]
    }
   ],
   "source": [
    "Question = \"\"\"\"את אומנם נמצאת הרבה בחו\"ל אבל את יודעת שהאזרחים נמצאים במצור אווירי?\"\"\" # שאלה מתוך ראיון עם אופירה ולווינסון\n",
    "\n",
    "bot_answer = \"\"\"אני מודעת היטב למצב הקשה של האזרחים ואני פועלת ללא הפסקה למען ביטחונם ורווחתם. אני מחויבת להילחם על האינטרסים של מדינת ישראל בכל מקום בו אני נמצאת. אנחנו לא ניתן לאף אחד לפגוע באזרחים שלנו.\"\"\"\n",
    "real_answer = \"\"\"אני צריכה להיות הרבה יותר בנסיעות עבודה ולצערי אני לא עושה את זה כי הזמן לא מותיר לנו את היכולת להמשיך ולפתח את קשרי העבודה בינינו לבין חו\"ל\"\"\"\n",
    "\n",
    "calculate_accuracy(compute_similarity(real_answer, bot_answer))"
   ]
  },
  {
   "cell_type": "code",
   "execution_count": 20,
   "id": "cad098d0",
   "metadata": {},
   "outputs": [
    {
     "name": "stdout",
     "output_type": "stream",
     "text": [
      "Semantic similarity score: 0.6913\n"
     ]
    }
   ],
   "source": [
    "Question = \"\"\"דברי איתי על רפורמת הצדק התחבורתי\"\"\" # שאלה מתוך ראיון עם אופירה ולווינסון \n",
    "\n",
    "bot_answer = \"\"\"אני גאה להציג את רפורמת הצדק התחבורתי שנועדה לשדרג את התחבורה הציבורית בישראל ולסייע לאזרחים בפריפריה. הרפורמה תספק נסיעות חינם למיליון אזרחים ותנחה מיליון וחצי נוספים. אנו פועלים לצמצם פערים חברתיים ולהבטיח שכל אזרח יוכל ליהנות מהתחבורה בצורה נוחה ומתקדמת. אני מאמינה ברפורמה זו כצעד משמעותי לעתיד טוב יותר לכולנו.\"\"\"\n",
    "real_answer = \"\"\"צדק תחבורתי היא תוכנית הדגל שאני אומרת דבר מאוד פשוט. הפריפריה לא אמורה לסבסד את  המרכז. בעצם מאפשר את הנסיעה מהפריפריה למרכז בחמישים אחוז הנחה וחיילים משוחררים לנסוע שנה חינם בתחבורה ציבורית. \"\"\"\n",
    "\n",
    "calculate_accuracy(compute_similarity(real_answer, bot_answer))"
   ]
  },
  {
   "cell_type": "code",
   "execution_count": null,
   "id": "06496403",
   "metadata": {},
   "outputs": [
    {
     "name": "stdout",
     "output_type": "stream",
     "text": [
      "Semantic similarity score: 0.7266\n"
     ]
    }
   ],
   "source": [
    "Question = \"\"\"מה עם הצדק התחבורתי של אנשים בשבת שאין להם איך להגיע בשבת לים כי אין להם אוטו?\"\"\" # שאלה מתוך ראיון עם אופירה ולווינסון\n",
    "bot_answer = \"\"\"אני מתנגדת להנעת תחבורה ציבורית בשבת. יום השבת הוא יום קדוש ואנחנו צריכים לשמור עליו. יש למצוא פתרונות אחרים המכבדים את המסורת שלנו. אני אמשיך להיאבק על הערכים החשובים הללו.\n",
    "\"\"\"\n",
    "real_answer =\"\"\"מדינת ישראל היא מדינה יהודית, יש סטטוס קוו. בשבת אין תחבורה ציבורית, לא עובדים בשבת.\"\"\"\n",
    "\n",
    "calculate_accuracy(compute_similarity(real_answer, bot_answer))"
   ]
  },
  {
   "cell_type": "code",
   "execution_count": null,
   "id": "16ab4a63",
   "metadata": {},
   "outputs": [
    {
     "data": {
      "text/plain": [
       "0.6802810380856196"
      ]
     },
     "execution_count": 22,
     "metadata": {},
     "output_type": "execute_result"
    }
   ],
   "source": [
    "get_average_similarity()"
   ]
  },
  {
   "cell_type": "markdown",
   "id": "b4af5c94",
   "metadata": {},
   "source": [
    "# Yair Lapid"
   ]
  },
  {
   "cell_type": "code",
   "execution_count": 4,
   "id": "ad2713cf",
   "metadata": {},
   "outputs": [],
   "source": [
    "SIM_SCORE = 0\n",
    "TOTAL_QUESTIONS = 0"
   ]
  },
  {
   "cell_type": "code",
   "execution_count": 8,
   "id": "1dc92446",
   "metadata": {},
   "outputs": [
    {
     "name": "stdout",
     "output_type": "stream",
     "text": [
      "Semantic similarity score: 0.9135\n"
     ]
    }
   ],
   "source": [
    "Question = \"איך המדינה תראה אחרי המלחמה?\"\n",
    "real_answer = \" אני חושב שאחד הדברים שקרו לנו שיש בעיות שהתחמקנו מהם הרבה מאוד זמן, כל תאוריית הסכסוך שאמרה שאין דבר כזה פלסטינים אז כן יש דבר כזה פלסטינים. יש דברים בתוך הכלכה והחברה הישראלית כמו נושא של יציאה לעבודה וגיוס חרדים לצבא שאי אפשר להתחמק מזה. ישראל תהיה מדינה כנה יותר כלפי הבעיות שלה\"\n",
    "bot_answer = \"המדינה תראה אחרת לגמרי אחרי המלחמה אנחנו נבנה ביטחון חזק בגבול עזה נחליף את שלטון חמאס בממשלת אזרחית ונשקם את עזה אנחנו נשאף להסכם דיפלומטי שיביא ליציבות באזור אני מאמין שבטחון אזרחי וציבורי יעמוד בראש סדר העדיפויות שלנו ונשקול את כל האפשרויות כדי להחזיר את החטופים הביתה\"\n",
    "calculate_accuracy(compute_similarity(real_answer, bot_answer))"
   ]
  }
 ],
 "metadata": {
  "kernelspec": {
   "display_name": "venv",
   "language": "python",
   "name": "python3"
  },
  "language_info": {
   "codemirror_mode": {
    "name": "ipython",
    "version": 3
   },
   "file_extension": ".py",
   "mimetype": "text/x-python",
   "name": "python",
   "nbconvert_exporter": "python",
   "pygments_lexer": "ipython3",
   "version": "3.11.5"
  }
 },
 "nbformat": 4,
 "nbformat_minor": 5
}
