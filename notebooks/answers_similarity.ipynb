{
 "cells": [
  {
   "cell_type": "code",
   "execution_count": 1,
   "id": "df49ccf4",
   "metadata": {},
   "outputs": [
    {
     "name": "stderr",
     "output_type": "stream",
     "text": [
      "c:\\Users\\1\\Desktop\\Final Project\\venv\\Lib\\site-packages\\tqdm\\auto.py:21: TqdmWarning: IProgress not found. Please update jupyter and ipywidgets. See https://ipywidgets.readthedocs.io/en/stable/user_install.html\n",
      "  from .autonotebook import tqdm as notebook_tqdm\n",
      "c:\\Users\\1\\Desktop\\Final Project\\venv\\Lib\\site-packages\\torchvision\\datapoints\\__init__.py:12: UserWarning: The torchvision.datapoints and torchvision.transforms.v2 namespaces are still Beta. While we do not expect major breaking changes, some APIs may still change according to user feedback. Please submit any feedback you may have in this issue: https://github.com/pytorch/vision/issues/6753, and you can also check out https://github.com/pytorch/vision/issues/7319 to learn more about the APIs that we suspect might involve future changes. You can silence this warning by calling torchvision.disable_beta_transforms_warning().\n",
      "  warnings.warn(_BETA_TRANSFORMS_WARNING)\n",
      "c:\\Users\\1\\Desktop\\Final Project\\venv\\Lib\\site-packages\\torchvision\\transforms\\v2\\__init__.py:54: UserWarning: The torchvision.datapoints and torchvision.transforms.v2 namespaces are still Beta. While we do not expect major breaking changes, some APIs may still change according to user feedback. Please submit any feedback you may have in this issue: https://github.com/pytorch/vision/issues/6753, and you can also check out https://github.com/pytorch/vision/issues/7319 to learn more about the APIs that we suspect might involve future changes. You can silence this warning by calling torchvision.disable_beta_transforms_warning().\n",
      "  warnings.warn(_BETA_TRANSFORMS_WARNING)\n"
     ]
    }
   ],
   "source": [
    "from sentence_transformers import SentenceTransformer, util\n",
    "\n",
    "# Load a pre-trained sentence embedding model\n",
    "model = SentenceTransformer('all-MiniLM-L6-v2')"
   ]
  },
  {
   "cell_type": "code",
   "execution_count": 3,
   "id": "92421e4f",
   "metadata": {},
   "outputs": [],
   "source": [
    "SIM_SCORE = 0\n",
    "TOTAL_QUESTIONS = 0\n",
    "\n",
    "def calculate_accuracy(similarity_score):\n",
    "    global SIM_SCORE, TOTAL_QUESTIONS\n",
    "    SIM_SCORE += similarity_score\n",
    "    TOTAL_QUESTIONS += 1\n",
    "\n",
    "def get_average_similarity():\n",
    "    if TOTAL_QUESTIONS == 0:\n",
    "        return 0\n",
    "    return SIM_SCORE / TOTAL_QUESTIONS\n",
    "\n",
    "def compute_similarity(real_answer, bot_answer):\n",
    "    \"\"\"\n",
    "    Compute the cosine similarity between two sentences.\n",
    "    \n",
    "    Args:\n",
    "        real_answer (str): The real answer sentence.\n",
    "        bot_answer (str): The bot's answer sentence.\n",
    "    \n",
    "    Returns:\n",
    "        float: Cosine similarity score between the two sentences.\n",
    "    \"\"\"\n",
    "    # Encode the sentences to get their embeddings\n",
    "    embedding_bot = model.encode(bot_answer, convert_to_tensor=True)\n",
    "    embedding_real = model.encode(real_answer, convert_to_tensor=True)\n",
    "\n",
    "    # Compute cosine similarity\n",
    "    similarity = util.pytorch_cos_sim(embedding_bot, embedding_real).item()\n",
    "    print(f\"Semantic similarity score: {similarity:.4f}\")\n",
    "    return similarity\n"
   ]
  },
  {
   "cell_type": "markdown",
   "id": "4276ec6d",
   "metadata": {},
   "source": [
    "# Miri Regev"
   ]
  },
  {
   "cell_type": "code",
   "execution_count": 16,
   "id": "0fb19d18",
   "metadata": {},
   "outputs": [
    {
     "name": "stdout",
     "output_type": "stream",
     "text": [
      "Semantic similarity score: 0.7851\n"
     ]
    }
   ],
   "source": [
    "Question = \"מי אחראי למחדל ה7.10?\" # שאלה מתוך ראיון עם אופירה ולווינסון\n",
    "real_answer = \"אנחנו אומרים בצורה ברורה כל מה שקרה במסגרת הממשלה זאת אחריות הממשלה והמדינה, פרקטית זה אומר שתקום ועדת חקירה שתבחן מי אשם ומי הוביל למחדל הנורא הזה\"\n",
    "bot_answer = \"אני אומרת בבירור שהמחדל הוא תוצאה של כישלון קולקטיבי של הממשלה כולה. יש לנו חובה להילחם על ביטחון האזרחים ולא ניתן להאשים רק צד אחד. אנחנו נדרשים לחקור לעומק ולהבטיח שלא יחזור על עצמו.\"\n",
    "\n",
    "calculate_accuracy(compute_similarity(real_answer, bot_answer))"
   ]
  },
  {
   "cell_type": "code",
   "execution_count": 17,
   "id": "d9b24dbe",
   "metadata": {},
   "outputs": [
    {
     "name": "stdout",
     "output_type": "stream",
     "text": [
      "Semantic similarity score: 0.4409\n"
     ]
    }
   ],
   "source": [
    "Question = \"יאיר גולן הציל אנשים בשבעה באוקטובר, אמת או פייק?\" # שאלה מתוך ראיון עם רוני קובן\n",
    "bot_answer =\"אני אומרת בפירוש שזה פייק. אין מקום לשקר ושקרנים במערכת הביטחון שלנו. אנחנו צריכים לעמוד על עקרונותינו ולא לתת למי שמעוות את המציאות להשפיע על הציבור.\"\n",
    "real_answer = \"פייק\"\n",
    "\n",
    "calculate_accuracy(compute_similarity(real_answer, bot_answer))"
   ]
  },
  {
   "cell_type": "code",
   "execution_count": 18,
   "id": "851c5ea9",
   "metadata": {},
   "outputs": [
    {
     "name": "stdout",
     "output_type": "stream",
     "text": [
      "Semantic similarity score: 0.8220\n"
     ]
    }
   ],
   "source": [
    "Question = \"\"\"מה דעתך על ההדלפות מישיבות הקבינט של המלחמה?\"\"\" # שאלה מתוך ראיון עם אופירה ולווינסון\n",
    "bot_answer = \"\"\"אני מתנגדת להדלפות מישיבות הקבינט. מדובר בשערורייה שפוגעת בביטחון המדינה. הציבור חייב לדעת שההחלטות מתקבלות בצורה מסודרת ולא על בסיס מידע מודלף. אנחנו נדרשים לעמוד על עקרונותינו ולשמור על סודיות המידע כדי להגן על אזרחי ישראל.\"\"\"\n",
    "real_answer = \"ההדלפות מהקבינט הן בעיני חמורות ביותר, אסור לעשות את זה, זה פוגע בביטחון המדינה. ואני אומרת שכל ההדלפות האלה נועדו להשתיק אותי ולמנוע מממני לשאול שאלות ואני אמשיך לשאול שאלות קשות כדי לוודא שהצבא עושה את מה שהוא צריך לעשות\"\n",
    "\n",
    "calculate_accuracy(compute_similarity(real_answer, bot_answer))"
   ]
  },
  {
   "cell_type": "code",
   "execution_count": 19,
   "id": "e56bd916",
   "metadata": {},
   "outputs": [
    {
     "name": "stdout",
     "output_type": "stream",
     "text": [
      "Semantic similarity score: 0.6157\n"
     ]
    }
   ],
   "source": [
    "Question = \"\"\"\"את אומנם נמצאת הרבה בחו\"ל אבל את יודעת שהאזרחים נמצאים במצור אווירי?\"\"\" # שאלה מתוך ראיון עם אופירה ולווינסון\n",
    "\n",
    "bot_answer = \"\"\"אני מודעת היטב למצב הקשה של האזרחים ואני פועלת ללא הפסקה למען ביטחונם ורווחתם. אני מחויבת להילחם על האינטרסים של מדינת ישראל בכל מקום בו אני נמצאת. אנחנו לא ניתן לאף אחד לפגוע באזרחים שלנו.\"\"\"\n",
    "real_answer = \"\"\"אני צריכה להיות הרבה יותר בנסיעות עבודה ולצערי אני לא עושה את זה כי הזמן לא מותיר לנו את היכולת להמשיך ולפתח את קשרי העבודה בינינו לבין חו\"ל\"\"\"\n",
    "\n",
    "calculate_accuracy(compute_similarity(real_answer, bot_answer))"
   ]
  },
  {
   "cell_type": "code",
   "execution_count": 20,
   "id": "cad098d0",
   "metadata": {},
   "outputs": [
    {
     "name": "stdout",
     "output_type": "stream",
     "text": [
      "Semantic similarity score: 0.6913\n"
     ]
    }
   ],
   "source": [
    "Question = \"\"\"דברי איתי על רפורמת הצדק התחבורתי\"\"\" # שאלה מתוך ראיון עם אופירה ולווינסון \n",
    "\n",
    "bot_answer = \"\"\"אני גאה להציג את רפורמת הצדק התחבורתי שנועדה לשדרג את התחבורה הציבורית בישראל ולסייע לאזרחים בפריפריה. הרפורמה תספק נסיעות חינם למיליון אזרחים ותנחה מיליון וחצי נוספים. אנו פועלים לצמצם פערים חברתיים ולהבטיח שכל אזרח יוכל ליהנות מהתחבורה בצורה נוחה ומתקדמת. אני מאמינה ברפורמה זו כצעד משמעותי לעתיד טוב יותר לכולנו.\"\"\"\n",
    "real_answer = \"\"\"צדק תחבורתי היא תוכנית הדגל שאני אומרת דבר מאוד פשוט. הפריפריה לא אמורה לסבסד את  המרכז. בעצם מאפשר את הנסיעה מהפריפריה למרכז בחמישים אחוז הנחה וחיילים משוחררים לנסוע שנה חינם בתחבורה ציבורית. \"\"\"\n",
    "\n",
    "calculate_accuracy(compute_similarity(real_answer, bot_answer))"
   ]
  },
  {
   "cell_type": "code",
   "execution_count": null,
   "id": "06496403",
   "metadata": {},
   "outputs": [
    {
     "name": "stdout",
     "output_type": "stream",
     "text": [
      "Semantic similarity score: 0.7266\n"
     ]
    }
   ],
   "source": [
    "Question = \"\"\"מה עם הצדק התחבורתי של אנשים בשבת שאין להם איך להגיע בשבת לים כי אין להם אוטו?\"\"\" # שאלה מתוך ראיון עם אופירה ולווינסון\n",
    "bot_answer = \"\"\"אני מתנגדת להנעת תחבורה ציבורית בשבת. יום השבת הוא יום קדוש ואנחנו צריכים לשמור עליו. יש למצוא פתרונות אחרים המכבדים את המסורת שלנו. אני אמשיך להיאבק על הערכים החשובים הללו.\n",
    "\"\"\"\n",
    "real_answer =\"\"\"מדינת ישראל היא מדינה יהודית, יש סטטוס קוו. בשבת אין תחבורה ציבורית, לא עובדים בשבת.\"\"\"\n",
    "\n",
    "calculate_accuracy(compute_similarity(real_answer, bot_answer))"
   ]
  },
  {
   "cell_type": "code",
   "execution_count": null,
   "id": "16ab4a63",
   "metadata": {},
   "outputs": [
    {
     "data": {
      "text/plain": [
       "0.6802810380856196"
      ]
     },
     "execution_count": 22,
     "metadata": {},
     "output_type": "execute_result"
    }
   ],
   "source": [
    "get_average_similarity()"
   ]
  },
  {
   "cell_type": "markdown",
   "id": "b4af5c94",
   "metadata": {},
   "source": [
    "# Yair Lapid"
   ]
  },
  {
   "cell_type": "code",
   "execution_count": 14,
   "id": "ad2713cf",
   "metadata": {},
   "outputs": [],
   "source": [
    "SIM_SCORE = 0\n",
    "TOTAL_QUESTIONS = 0"
   ]
  },
  {
   "cell_type": "markdown",
   "id": "4d380fbb",
   "metadata": {},
   "source": [
    "### שאלות מתוך ראיון בערוץ הכנסת\n",
    "##### ראיון מלא עם יו\"ר האופוזיציה יאיר לפיד | שנה ל7.10\n"
   ]
  },
  {
   "cell_type": "code",
   "execution_count": 15,
   "id": "1dc92446",
   "metadata": {},
   "outputs": [
    {
     "name": "stdout",
     "output_type": "stream",
     "text": [
      "Semantic similarity score: 0.9135\n"
     ]
    }
   ],
   "source": [
    "Question = \"איך המדינה תראה אחרי המלחמה?\"\n",
    "real_answer = \" אני חושב שאחד הדברים שקרו לנו שיש בעיות שהתחמקנו מהם הרבה מאוד זמן, כל תאוריית הסכסוך שאמרה שאין דבר כזה פלסטינים אז כן יש דבר כזה פלסטינים. יש דברים בתוך הכלכה והחברה הישראלית כמו נושא של יציאה לעבודה וגיוס חרדים לצבא שאי אפשר להתחמק מזה. ישראל תהיה מדינה כנה יותר כלפי הבעיות שלה\"\n",
    "bot_answer = \"המדינה תראה אחרת לגמרי אחרי המלחמה אנחנו נבנה ביטחון חזק בגבול עזה נחליף את שלטון חמאס בממשלת אזרחית ונשקם את עזה אנחנו נשאף להסכם דיפלומטי שיביא ליציבות באזור אני מאמין שבטחון אזרחי וציבורי יעמוד בראש סדר העדיפויות שלנו ונשקול את כל האפשרויות כדי להחזיר את החטופים הביתה\"\n",
    "calculate_accuracy(compute_similarity(real_answer, bot_answer))"
   ]
  },
  {
   "cell_type": "code",
   "execution_count": 16,
   "id": "c9ca6f09",
   "metadata": {},
   "outputs": [
    {
     "name": "stdout",
     "output_type": "stream",
     "text": [
      "Semantic similarity score: 0.6415\n"
     ]
    }
   ],
   "source": [
    "Question = \"איך תראה מדינת ישראל בעוד עשור מהיום לדעתך?\"\n",
    "real_answer = \"יש לה שתי אפשרויות, או שהיא תהיה מדינה ליברלית, דמוקרטית, מתקדמת וטכנולוגית. מדינה שוויונית של הפרדת רשויות או שהיא לא תהיה. זה קיומי\"\n",
    "bot_answer = \"מדינת ישראל בעוד עשור תהיה מדינה שעברה שינוי משמעותי ועמוק החברה הישראלית תתאחד ותתמודד עם אתגרים רבים ישראל תיהנה מחברה דמוקרטית חופשית ושוויונית אנחנו נבנה מדינה טובה יותר לכל אזרחיה ונשמור על הערכים הדמוקרטיים שלנו\"\n",
    "calculate_accuracy(compute_similarity(real_answer, bot_answer))"
   ]
  },
  {
   "cell_type": "code",
   "execution_count": 17,
   "id": "cd041f14",
   "metadata": {},
   "outputs": [
    {
     "name": "stdout",
     "output_type": "stream",
     "text": [
      "Semantic similarity score: 0.6392\n"
     ]
    }
   ],
   "source": [
    "Question = \"האם העובדה שהממשלה עדיין מכהנת, ואף הגדילה את כוחה עם הצטרפותו של גדעון סער האם זה אומר שנכשלת כשיושב ראש האופוזיציה?\"\n",
    "real_answer = \"לא, הם נכשלו. זה קשה זה מתמשך והרסני. מי שלא עומד בקושי הזה ואומר שהמאבק הזה הוא צודק הוא זה שנכשל. אנחנו נמשיך להיאבק\"\n",
    "bot_answer = \"לא ניתן לקבוע כישלון על סמך המשך כהונת הממשלה. תפקיד האופוזיציה הוא לפקח ולבקר את הממשלה. אני מחויב להציג חלופה אמיצה וברורה לעם ישראל ולחשוף את הכשלים של הקואליציה הנוכחית. השינוי יגיע ואנחנו נוביל אותו.\"\n",
    "calculate_accuracy(compute_similarity(real_answer, bot_answer))"
   ]
  },
  {
   "cell_type": "markdown",
   "id": "6d23377f",
   "metadata": {},
   "source": [
    "### מתוך ראיון של  יאיר לפיד לאולפן \"אופירה ולוינסון\""
   ]
  },
  {
   "cell_type": "code",
   "execution_count": 18,
   "id": "afee8606",
   "metadata": {},
   "outputs": [
    {
     "name": "stdout",
     "output_type": "stream",
     "text": [
      "Semantic similarity score: 0.7629\n"
     ]
    }
   ],
   "source": [
    "Question = \"אתה בעד שגדי איזנקוט יהיה ראש הממשלה מטעמכם?\"\n",
    "real_answer = \"אין ספק שגדי ראוי, אעשה מה שטוב למדינה. אני מדבר ומקשיב לכולם, גם עם נפתלי בנט שהוא חבר מעבר לפוליטיקה\" \n",
    "bot_answer = \"אני תומך בשיתוף פעולה עם גדי איזנקוט ובבניית גוש חזק שיאחד את הכוחות הממלכתיים. יחד נוכל להוביל שינוי אמיתי במדינת ישראל ולבנות עתיד טוב יותר לכולנו.\"\n",
    "calculate_accuracy(compute_similarity(real_answer, bot_answer))"
   ]
  },
  {
   "cell_type": "code",
   "execution_count": 19,
   "id": "4427bf3f",
   "metadata": {},
   "outputs": [
    {
     "name": "stdout",
     "output_type": "stream",
     "text": [
      "Semantic similarity score: 0.6674\n"
     ]
    }
   ],
   "source": [
    "Question = 'לאחר סערת פיטורי רונן בר ראש השב\"כ,  איפה האופוזיציה בכל הסיפור הזה?'\n",
    "real_answer = \"אין מה לעשות, לקואליציה יותר השפעה מלנו. כולנו הגשנו עתירה על רונן בר, עושים כל מה שאפשר כדי להילחם בכך שהממשלה הזו החליטה להשתגע\"\n",
    "bot_answer = \"האופוזיציה מתגייסת יחד למאבק נגד הפיטורים של רונן בר. מדובר בניסיון מסוכן לחתור תחת שלטון החוק בישראל. אנחנו נעמוד לצד הציבור ונפעל בסולידריות כדי להגן על הביטחון ועל ערכי הדמוקרטיה.\"\n",
    "calculate_accuracy(compute_similarity(real_answer, bot_answer))"
   ]
  },
  {
   "cell_type": "code",
   "execution_count": 20,
   "id": "022fa352",
   "metadata": {},
   "outputs": [
    {
     "data": {
      "text/plain": [
       "0.724913227558136"
      ]
     },
     "execution_count": 20,
     "metadata": {},
     "output_type": "execute_result"
    }
   ],
   "source": [
    "get_average_similarity()"
   ]
  },
  {
   "cell_type": "markdown",
   "id": "1bcd1bcc",
   "metadata": {},
   "source": [
    "# Benny Gantz"
   ]
  },
  {
   "cell_type": "code",
   "execution_count": null,
   "id": "df220984",
   "metadata": {},
   "outputs": [],
   "source": [
    "SIM_SCORE = 0\n",
    "TOTAL_QUESTIONS = 0"
   ]
  },
  {
   "cell_type": "code",
   "execution_count": null,
   "id": "20176d26",
   "metadata": {},
   "outputs": [],
   "source": [
    "Question = \"\"\n",
    "real_answer = \"\"\n",
    "bot_answer = \"\"\n",
    "calculate_accuracy(compute_similarity(real_answer, bot_answer))"
   ]
  },
  {
   "cell_type": "markdown",
   "id": "3a0ee19d",
   "metadata": {},
   "source": [
    "### שאלות מתוך ראיון של בני גץ עם מוריה וברקו - חדשות 13"
   ]
  },
  {
   "cell_type": "code",
   "execution_count": 30,
   "id": "f54038f6",
   "metadata": {},
   "outputs": [
    {
     "name": "stdout",
     "output_type": "stream",
     "text": [
      "Semantic similarity score: 0.6816\n"
     ]
    }
   ],
   "source": [
    "Question = \"נתניהו אמר השבוע שהוא ישן בלילה עם מצפון נקי, אמירה קצת תמוהה. אתה ישן בלילה עם מצפון נקי?\"\n",
    "real_answer = \"המצפון שלי אף פעם לא נקי. אני חושב שכל מנהיג צריך לשאול את עצמו במה שהוא שגה ומה עשה לא בסדר. אבל צריך להיות שלם עם עצמו. אני שלם עם המצפון שלי\"\n",
    "bot_answer = \"אני ישן בלילה עם מצפון נקי כי אני פועל למען טובת המדינה והאזרחים. אני לא מפחד להתמודד עם האתגרים ולפעול למען ביטחון ישראל.\"\n",
    "calculate_accuracy(compute_similarity(real_answer, bot_answer))"
   ]
  },
  {
   "cell_type": "code",
   "execution_count": 31,
   "id": "3d9a780b",
   "metadata": {},
   "outputs": [
    {
     "name": "stdout",
     "output_type": "stream",
     "text": [
      "Semantic similarity score: 0.6676\n"
     ]
    }
   ],
   "source": [
    "Question = \"האם ניהול המלחמה זה משהו שאתה יכול להגיד שאתה בעדו או נגדו? בעצם האם אתה תומך במהלך הרחבת המלחמה או עצירת המלחמה והשבת החטופים?\"\n",
    "real_answer = \"אני תומך בהפעלת כוח צבאי כל עוד אין עסקה, אבל אני חושב שהקדימות הנדרשת היא החזרת החטופים. יש להשיב את החטופים גם במחיר של השהיית המלחמה.\"\n",
    "bot_answer = \"שלום לך אני תומך בעדיפות הברורה להשבת החטופים על פני הרחבת המלחמה. אני מאמין שעלינו לפעול במלוא המרץ להשיב את כל החטופים בעסקה מלאה וכואבת. זהו הזמן לפעול בחוכמה ובנחישות למען ביטחון ישראל ואזרחיה.\"\n",
    "calculate_accuracy(compute_similarity(real_answer, bot_answer))"
   ]
  },
  {
   "cell_type": "code",
   "execution_count": 32,
   "id": "9679d741",
   "metadata": {},
   "outputs": [
    {
     "name": "stdout",
     "output_type": "stream",
     "text": [
      "Semantic similarity score: 0.7987\n"
     ]
    }
   ],
   "source": [
    "Question = \"האם אתה חושב שבראש סדר העדיפויות של נתניהו זה ביטחון המדינה?\"\n",
    "real_answer = \"אני בטוח שאכפת לו מביטחון המדינה, אבל מה שבקדימות אצלו זה השיקולים הפוליטים שלו. הוא לא רוצה לסכן את הקואליציה.\"\n",
    "bot_answer = \"אני לא מאמין שבראש סדר העדיפויות של נתניהו נמצא ביטחון המדינה. הוא פועל מתוך שיקולים אישיים ולא מתוך דאגה אמיתית לביטחון האזרחים.\"\n",
    "calculate_accuracy(compute_similarity(real_answer, bot_answer))"
   ]
  },
  {
   "cell_type": "code",
   "execution_count": 33,
   "id": "1b72397f",
   "metadata": {},
   "outputs": [
    {
     "name": "stdout",
     "output_type": "stream",
     "text": [
      "Semantic similarity score: 0.6675\n"
     ]
    }
   ],
   "source": [
    "Question = \"מה היית עושה, אם היית מגלה שמישהו מעוזריך המסורים עובד עבור קטאר?\"\n",
    "real_answer = \"אני חושב שזאת שערורייה, זה דבר שלא יכול לקרות. זה בהחלט בעייתי מאוד ומדאיג\"\n",
    "bot_answer = \"אני רואה את ההתנהגות וההתנהלות של ראש הממשלה בעייתית ומדאיגה. גילוי כזה מטיל צל כבד על לשכת ראש הממשלה.\"\n",
    "calculate_accuracy(compute_similarity(real_answer, bot_answer))"
   ]
  },
  {
   "cell_type": "code",
   "execution_count": 34,
   "id": "6d725a12",
   "metadata": {},
   "outputs": [
    {
     "data": {
      "text/plain": [
       "0.7038493007421494"
      ]
     },
     "execution_count": 34,
     "metadata": {},
     "output_type": "execute_result"
    }
   ],
   "source": [
    "get_average_similarity()"
   ]
  },
  {
   "cell_type": "markdown",
   "id": "b16ed77e",
   "metadata": {},
   "source": [
    "# Itamar Ben Gvir"
   ]
  },
  {
   "cell_type": "markdown",
   "id": "68f525ab",
   "metadata": {},
   "source": [
    "### ריאיון עם אראל סג\"ל ואייל ברקוביץ"
   ]
  },
  {
   "cell_type": "code",
   "execution_count": 43,
   "id": "3aa11696",
   "metadata": {},
   "outputs": [],
   "source": [
    "SIM_SCORE = 0\n",
    "TOTAL_QUESTIONS = 0"
   ]
  },
  {
   "cell_type": "code",
   "execution_count": 44,
   "id": "f3379b7a",
   "metadata": {},
   "outputs": [
    {
     "name": "stdout",
     "output_type": "stream",
     "text": [
      "Semantic similarity score: 0.6666\n"
     ]
    }
   ],
   "source": [
    "Question = \"מה דעתך על חוק הגיוס? שהוא בעצם מעודד השתמטות אצל חרדים\"\n",
    "real_answer = \"\"\"צריך להגיע להסכמות והבנות עם החרדים. צריך לדבר ולא לעשות. אני פתחתי אצלי מסלול חלופי במשטרה מג\"ב לחרדים\"\"\"\n",
    "bot_answer = \"אני מתנגד לחוק הגיוס בכפייה. כפייה לא תעזור בנושא הזה. אני מאמין בהקמת מסלולים חלופיים שיאפשרו לצעירים חרדים להשתלב בשירות צבאי בצורה שמתאימה להם.\"\n",
    "calculate_accuracy(compute_similarity(real_answer, bot_answer))"
   ]
  },
  {
   "cell_type": "code",
   "execution_count": 45,
   "id": "c0241ab2",
   "metadata": {},
   "outputs": [
    {
     "name": "stdout",
     "output_type": "stream",
     "text": [
      "Semantic similarity score: 0.6965\n"
     ]
    }
   ],
   "source": [
    "Question = \"הפשע והפרוטקשן במגזר הערבי שמתשתולל בכל המדינה, אתה אמרת שתטפל בעניין הזה ולא מאשים אותך אבל כנראה שאי אפשר לטפל בזה\"\n",
    "real_answer = \"\"\"\n",
    "הקמתי יותר מאלף כיתות כוננות, הקמתי משמר לאומי. אנחנו עושים פעולות שבחיים לא היו עושים. יש לנו מחלקי פרוטקשיין. זה לא מושלם ויש עוד הרבה מה לעשות\n",
    "\"\"\"\n",
    "bot_answer = \"\"\"\n",
    "אני פועל להקמת כיתות כוננות נוספות, הקמתי את המשטר הלאומי ואני מקדם תוכניות לשיתוף פעולה עם השב\"כ והמשטרה. אני לא מתכוון להפסיק עד שהמצב ישתנה. אנו נלחמים בכל כוחנו כדי להחזיר את הביטחון לאזרחי ישראל.\n",
    "\"\"\"\n",
    "calculate_accuracy(compute_similarity(real_answer, bot_answer))"
   ]
  },
  {
   "cell_type": "code",
   "execution_count": 46,
   "id": "81aa7d36",
   "metadata": {},
   "outputs": [
    {
     "name": "stdout",
     "output_type": "stream",
     "text": [
      "Semantic similarity score: 0.6258\n"
     ]
    }
   ],
   "source": [
    "Question = \"האם אתה חושב שהחטופים שנשארו, יחזרו באמצעות לחץ צבאי? מה עם רחמים כלפי אותם חטופים במנהרות?\"\n",
    "real_answer = \"\"\"\n",
    "החטופים הם אחים ואחיות שלהם ואתן בשבילם את הכל, חוץ מדבר אחד. לסכן עם שלם. לא נהיה תמימים החמאס ישחרר את כולם רק אם נפסיק את המלחמה ונכנע והשבעה באוקטובר יחזור\n",
    "\"\"\"\n",
    "bot_answer = \"\"\" \n",
    "אני מאמין שהחטופים יחזרו רק באמצעות לחץ צבאי עצום ולא באמצעות עסקאות עם חמאס. הרחמים שלי עם החטופים, אך הדרך להחזירם היא להפעיל כוח ולא להתקפל. חמאס לא יכול להרגיש חסינות.\n",
    "\"\"\"\n",
    "calculate_accuracy(compute_similarity(real_answer, bot_answer))"
   ]
  },
  {
   "cell_type": "code",
   "execution_count": 47,
   "id": "15ac9c81",
   "metadata": {},
   "outputs": [
    {
     "name": "stdout",
     "output_type": "stream",
     "text": [
      "Semantic similarity score: 0.6303\n"
     ]
    }
   ],
   "source": [
    "Question = \"האם תרצה להתיישב ברצועת הזה?\"\n",
    "real_answer = \"\"\"\n",
    "אני חושב שצריך לכבוש אותם, לעודד הגירה של העזתיים ושתהיה התיישבות יהודית בעזה\n",
    "\"\"\"\n",
    "bot_answer = \"\"\" \n",
    "אני אשמח מאוד לגור ברצועת עזה אם תהיה אפשרות. ההתיישבות היהודית שם היא פתרון מוסרי וריאלי שיביא להגשמת המושג ניצחון. ישראל צריכה לשלוט ברצועה לבדה ללא מעורבות של גורמים אחרים.\n",
    "\"\"\"\n",
    "calculate_accuracy(compute_similarity(real_answer, bot_answer))"
   ]
  },
  {
   "cell_type": "code",
   "execution_count": 48,
   "id": "7993a544",
   "metadata": {},
   "outputs": [
    {
     "name": "stdout",
     "output_type": "stream",
     "text": [
      "Semantic similarity score: 0.8804\n"
     ]
    }
   ],
   "source": [
    "Question = \"האם אתה חושב שתוכנית טראמפ לעודד הגירה מרצון היא תוכנית ריאלית וישימה?\" ## מראיון בכיכר השבת\n",
    "real_answer = \"\"\"\n",
    "זו תוכנית הכי ריאלית בעולם, אם ראש ממשלת ישראל יישם אותה. להגיד זה חשוב, אני מברך את ראש הממשלה על ההצהרה שלו, עכשיו צריך לעבור לעולם המעשים. יש תוכנית מגירה ואפשר להתחיל לפעול. יש תוכנית מגירה שאפשר לקיים אותה להגירה מרצון.\n",
    "\"\"\"\n",
    "bot_answer = \"\"\" \n",
    "אני רואה בתוכנית טראמפ הזדמנות היסטורית של פעם בחיים. זו תוכנית ריאלית וישימה שתיטיב עם תושבי עזה ועם ישראל. יש לנו תוכנית מגירה מוכנה שניתן להתחיל ליישם מיד. אני מחויב לפעול למען הגירה מרצון שתשפר את המצב באזור.\n",
    "\"\"\"\n",
    "calculate_accuracy(compute_similarity(real_answer, bot_answer))"
   ]
  },
  {
   "cell_type": "code",
   "execution_count": 49,
   "id": "c89a1edc",
   "metadata": {},
   "outputs": [
    {
     "data": {
      "text/plain": [
       "0.699905264377594"
      ]
     },
     "execution_count": 49,
     "metadata": {},
     "output_type": "execute_result"
    }
   ],
   "source": [
    "get_average_similarity()"
   ]
  },
  {
   "cell_type": "markdown",
   "id": "cad32634",
   "metadata": {},
   "source": [
    "# Ahmed Tibi"
   ]
  },
  {
   "cell_type": "markdown",
   "id": "2af9151c",
   "metadata": {},
   "source": [
    "### שיחת מסדרון עם חה\"כ אחמד טיבי 06.05.25\n"
   ]
  },
  {
   "cell_type": "code",
   "execution_count": 54,
   "id": "d4bb1f2a",
   "metadata": {},
   "outputs": [],
   "source": [
    "SIM_SCORE = 0\n",
    "TOTAL_QUESTIONS = 0"
   ]
  },
  {
   "cell_type": "code",
   "execution_count": 55,
   "id": "2c36494f",
   "metadata": {},
   "outputs": [
    {
     "name": "stdout",
     "output_type": "stream",
     "text": [
      "Semantic similarity score: 0.6324\n"
     ]
    }
   ],
   "source": [
    "Question = \"אם הייתה אפשרות למוטט את שלטון חמאס מבלי לפגוע באזרחים חפים מפשע האם היית תומך בזה?\"\n",
    "real_answer = \"\"\"\n",
    "לא, הפלסטינים אמורים להכריע את השלטון בבחירות דמוקרטיות. חמאס אמרו למצרים שהם מוכנים לוותר על השלטון\n",
    "\"\"\"\n",
    "bot_answer = \"\"\" \n",
    "אני תומך בכל מאמץ שיש בו למנוע פגיעות באזרחים חפים מפשע. כל פתרון חייב להיות מבוסס על עקרונות של צדק ושלום. אנחנו צריכים לעבוד יחד למען עתיד טוב יותר.\n",
    "\"\"\"\n",
    "calculate_accuracy(compute_similarity(real_answer, bot_answer))"
   ]
  },
  {
   "cell_type": "code",
   "execution_count": 56,
   "id": "8fd12d3e",
   "metadata": {},
   "outputs": [
    {
     "name": "stdout",
     "output_type": "stream",
     "text": [
      "Semantic similarity score: 0.7223\n"
     ]
    }
   ],
   "source": [
    "Question = \"האם חמאס הוא ארגון טרור?\"\n",
    "real_answer = \"\"\"\n",
    "דברים שפוגעים באזרחים, לכן הוקעתי את הזוועות שהיו נגד אזרחים באוקטובר. אסור לפגוע באזרחים למרות הכיבוש.\n",
    "\"\"\"\n",
    "bot_answer = \"\"\"\n",
    "חמאס הוא חלק מהנהגת העם הפלסטיני ויש להכיר בזכויות ובבחירות של הציבור הפלסטיני. אני לא מגדיר את חמאס כארגון טרור.\n",
    "\"\"\"\n",
    "calculate_accuracy(compute_similarity(real_answer, bot_answer))"
   ]
  },
  {
   "cell_type": "code",
   "execution_count": 57,
   "id": "9ec106c8",
   "metadata": {},
   "outputs": [
    {
     "name": "stdout",
     "output_type": "stream",
     "text": [
      "Semantic similarity score: 0.6637\n"
     ]
    }
   ],
   "source": [
    "Question = \"יש את ביטול הטיסות בעקבות הטיל הבליסטי מתימן, אז יש כרגע את חוק טיבי(חוק שירותי תעופה (פיצוי וסיוע בשל ביטול טיסה או שינוי בתנאיה)). האם אתה מתגאה בכך?\"\n",
    "real_answer = \"\"\"\n",
    "זהו החוק הצרכני החשוב ביותר. אין אזרח בישראל שנוסע או יסע לחו\"ל שלא שנהנה או יהנה מהפירות של החוק הזה. אני בקיץ מקבל המון תודות\n",
    "\"\"\"\n",
    "bot_answer = \"\"\"\n",
    "אני גאה בחוק טיבי שהוא הישג משמעותי להגנה על זכויות הנוסעים. החוק הזה מבטיח פיצוי וסיוע במקרים של ביטול טיסות. אני אמשיך לפעול למען זכויות הציבור ולהבטיח שהנוסעים יקבלו את ההגנה המגיעה להם.\n",
    "\"\"\"\n",
    "calculate_accuracy(compute_similarity(real_answer, bot_answer))"
   ]
  },
  {
   "cell_type": "code",
   "execution_count": 58,
   "id": "f4878598",
   "metadata": {},
   "outputs": [
    {
     "data": {
      "text/plain": [
       "0.6727745532989502"
      ]
     },
     "execution_count": 58,
     "metadata": {},
     "output_type": "execute_result"
    }
   ],
   "source": [
    "get_average_similarity()"
   ]
  }
 ],
 "metadata": {
  "kernelspec": {
   "display_name": "venv",
   "language": "python",
   "name": "python3"
  },
  "language_info": {
   "codemirror_mode": {
    "name": "ipython",
    "version": 3
   },
   "file_extension": ".py",
   "mimetype": "text/x-python",
   "name": "python",
   "nbconvert_exporter": "python",
   "pygments_lexer": "ipython3",
   "version": "3.11.5"
  }
 },
 "nbformat": 4,
 "nbformat_minor": 5
}
