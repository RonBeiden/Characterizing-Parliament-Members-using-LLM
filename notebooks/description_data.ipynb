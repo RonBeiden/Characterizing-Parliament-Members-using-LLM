{
 "cells": [
  {
   "cell_type": "code",
   "execution_count": 22,
   "metadata": {},
   "outputs": [],
   "source": [
    "import pandas as pd\n",
    "import pyodbc\n",
    "\n",
    "# Define file path\n",
    "file_path = \"C:/Users/1/Desktop/Final Project/Characterizing-Parliament-Members-using-LLM/KNS_description.xlsx\"\n",
    "\n",
    "# Read the Excel file\n",
    "df = pd.read_excel(file_path, usecols=[\"Name\", \"Description\"])\n",
    "\n",
    "# Define database connection parameters\n",
    "server = \"DESKTOP-9LFS960\\SQLEXPRESS\"  # Change to your server name\n",
    "database = \"KNS_Description\"  # Change to your database name\n",
    "\n",
    "dsn = f'DRIVER={{SQL Server}};SERVER={server};DATABASE={database};Trusted_Connection=yes'\n",
    "\n",
    "# Establish connection\n",
    "conn = pyodbc.connect(dsn)\n",
    "cursor = conn.cursor()\n"
   ]
  },
  {
   "cell_type": "code",
   "execution_count": 18,
   "metadata": {},
   "outputs": [
    {
     "data": {
      "text/html": [
       "<div>\n",
       "<style scoped>\n",
       "    .dataframe tbody tr th:only-of-type {\n",
       "        vertical-align: middle;\n",
       "    }\n",
       "\n",
       "    .dataframe tbody tr th {\n",
       "        vertical-align: top;\n",
       "    }\n",
       "\n",
       "    .dataframe thead th {\n",
       "        text-align: right;\n",
       "    }\n",
       "</style>\n",
       "<table border=\"1\" class=\"dataframe\">\n",
       "  <thead>\n",
       "    <tr style=\"text-align: right;\">\n",
       "      <th></th>\n",
       "      <th>Name</th>\n",
       "      <th>Description</th>\n",
       "    </tr>\n",
       "  </thead>\n",
       "  <tbody>\n",
       "    <tr>\n",
       "      <th>0</th>\n",
       "      <td>Miri Regev</td>\n",
       "      <td>is a prominent and fiery figure in Israeli pol...</td>\n",
       "    </tr>\n",
       "    <tr>\n",
       "      <th>1</th>\n",
       "      <td>Yair Lapid</td>\n",
       "      <td>is a charismatic centrist leader celebrated fo...</td>\n",
       "    </tr>\n",
       "    <tr>\n",
       "      <th>2</th>\n",
       "      <td>Itamar Ben-Gvir</td>\n",
       "      <td>is an uncompromising and provocative figure, k...</td>\n",
       "    </tr>\n",
       "    <tr>\n",
       "      <th>3</th>\n",
       "      <td>Benjamin Netanyahu</td>\n",
       "      <td>is a veteran statesman and towering figure in ...</td>\n",
       "    </tr>\n",
       "    <tr>\n",
       "      <th>4</th>\n",
       "      <td>Benny Gantz</td>\n",
       "      <td>is a distinguished and methodical leader who s...</td>\n",
       "    </tr>\n",
       "  </tbody>\n",
       "</table>\n",
       "</div>"
      ],
      "text/plain": [
       "                 Name                                        Description\n",
       "0          Miri Regev  is a prominent and fiery figure in Israeli pol...\n",
       "1          Yair Lapid  is a charismatic centrist leader celebrated fo...\n",
       "2     Itamar Ben-Gvir  is an uncompromising and provocative figure, k...\n",
       "3  Benjamin Netanyahu  is a veteran statesman and towering figure in ...\n",
       "4         Benny Gantz  is a distinguished and methodical leader who s..."
      ]
     },
     "execution_count": 18,
     "metadata": {},
     "output_type": "execute_result"
    }
   ],
   "source": [
    "df"
   ]
  },
  {
   "cell_type": "code",
   "execution_count": 23,
   "metadata": {},
   "outputs": [
    {
     "name": "stdout",
     "output_type": "stream",
     "text": [
      "Data inserted successfully!\n"
     ]
    }
   ],
   "source": [
    "# Insert data into kns_history table\n",
    "for index, row in df.iterrows():\n",
    "    cursor.execute(\"\"\"\n",
    "        INSERT INTO KNS_Description.dbo.kns_history (KNS_name, Description)\n",
    "        VALUES (?, ?)\"\"\",\n",
    "        row[\"Name\"], row[\"Description\"]\n",
    "    )\n",
    "\n",
    "# Commit and close connection\n",
    "conn.commit()\n",
    "cursor.close()\n",
    "conn.close()\n",
    "\n",
    "print(\"Data inserted successfully!\")"
   ]
  }
 ],
 "metadata": {
  "kernelspec": {
   "display_name": "Python 3",
   "language": "python",
   "name": "python3"
  },
  "language_info": {
   "codemirror_mode": {
    "name": "ipython",
    "version": 3
   },
   "file_extension": ".py",
   "mimetype": "text/x-python",
   "name": "python",
   "nbconvert_exporter": "python",
   "pygments_lexer": "ipython3",
   "version": "3.10.0"
  }
 },
 "nbformat": 4,
 "nbformat_minor": 2
}
