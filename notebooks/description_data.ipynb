{
 "cells": [
  {
   "cell_type": "code",
   "execution_count": 1,
   "metadata": {},
   "outputs": [],
   "source": [
    "import pandas as pd\n",
    "import pyodbc\n",
    "\n",
    "# Define file path\n",
    "file_path = \"C:/Users/1/Desktop/Final Project/Characterizing-Parliament-Members-using-LLM/db_csv/KNS_members_description_3.xlsx\"\n",
    "\n",
    "# Read the Excel file\n",
    "df = pd.read_excel(file_path, usecols=[\"kns_name\", \"description\", \"kns_name_hebrew\", \"knesset_seat\"])\n",
    "\n",
    "# Define database connection parameters\n",
    "server = \"DESKTOP-9LFS960\\SQLEXPRESS\"  # Change to your server name\n",
    "database = \"KNS_Description\"  # Change to your database name\n",
    "\n",
    "dsn = f'DRIVER={{SQL Server}};SERVER={server};DATABASE={database};Trusted_Connection=yes'\n",
    "\n",
    "# Establish connection\n",
    "conn = pyodbc.connect(dsn)\n",
    "cursor = conn.cursor()\n"
   ]
  },
  {
   "cell_type": "code",
   "execution_count": 2,
   "metadata": {},
   "outputs": [
    {
     "data": {
      "text/html": [
       "<div>\n",
       "<style scoped>\n",
       "    .dataframe tbody tr th:only-of-type {\n",
       "        vertical-align: middle;\n",
       "    }\n",
       "\n",
       "    .dataframe tbody tr th {\n",
       "        vertical-align: top;\n",
       "    }\n",
       "\n",
       "    .dataframe thead th {\n",
       "        text-align: right;\n",
       "    }\n",
       "</style>\n",
       "<table border=\"1\" class=\"dataframe\">\n",
       "  <thead>\n",
       "    <tr style=\"text-align: right;\">\n",
       "      <th></th>\n",
       "      <th>kns_name</th>\n",
       "      <th>description</th>\n",
       "      <th>kns_name_hebrew</th>\n",
       "      <th>knesset_seat</th>\n",
       "    </tr>\n",
       "  </thead>\n",
       "  <tbody>\n",
       "    <tr>\n",
       "      <th>0</th>\n",
       "      <td>Amichai Eliyahu</td>\n",
       "      <td>Amichai Eliyahu is a National Religious and co...</td>\n",
       "      <td>אליהו עמיחי</td>\n",
       "      <td>25</td>\n",
       "    </tr>\n",
       "    <tr>\n",
       "      <th>1</th>\n",
       "      <td>Ofir Akunis</td>\n",
       "      <td>Ofir Akunis is a veteran Likud politician know...</td>\n",
       "      <td>אופיר אקוניס</td>\n",
       "      <td>18,19,20,21,22,23,24,25</td>\n",
       "    </tr>\n",
       "    <tr>\n",
       "      <th>2</th>\n",
       "      <td>Haim Biton</td>\n",
       "      <td>Haim Biton is a key figure in the Shas party, ...</td>\n",
       "      <td>חיים ביטון</td>\n",
       "      <td>25</td>\n",
       "    </tr>\n",
       "    <tr>\n",
       "      <th>3</th>\n",
       "      <td>Yoav Ben Tzur</td>\n",
       "      <td>Yoav Ben-Tzur is a senior Shas party member kn...</td>\n",
       "      <td>יואב בן צור</td>\n",
       "      <td>19,20,21,22,23,24,25</td>\n",
       "    </tr>\n",
       "    <tr>\n",
       "      <th>4</th>\n",
       "      <td>Avraham Betzalel</td>\n",
       "      <td>Avraham Betzalel is a Shas MK who focuses on h...</td>\n",
       "      <td>אברהם בצלאל</td>\n",
       "      <td>23,24,25</td>\n",
       "    </tr>\n",
       "    <tr>\n",
       "      <th>5</th>\n",
       "      <td>Chaim Katz</td>\n",
       "      <td>Chaim Katz is a senior Likud politician with a...</td>\n",
       "      <td>חיים כץ</td>\n",
       "      <td>15,16,17,18,19,20,21,22,23,24,25</td>\n",
       "    </tr>\n",
       "    <tr>\n",
       "      <th>6</th>\n",
       "      <td>Uri Maklev</td>\n",
       "      <td>Uri Maklev is a veteran Knesset member from th...</td>\n",
       "      <td>אורי מקלב</td>\n",
       "      <td>17,18,19,20,21,22,23,24,25</td>\n",
       "    </tr>\n",
       "    <tr>\n",
       "      <th>7</th>\n",
       "      <td>Yaakov Margi</td>\n",
       "      <td>Yaakov Margi is a senior Shas politician known...</td>\n",
       "      <td>יעקב מרגי</td>\n",
       "      <td>19,20,21,22,23,24,25</td>\n",
       "    </tr>\n",
       "    <tr>\n",
       "      <th>8</th>\n",
       "      <td>Yoel Razvozov</td>\n",
       "      <td>Yoel Razvozov is a former Olympic judoka turne...</td>\n",
       "      <td>יואל רזבוזוב</td>\n",
       "      <td>17,18,19,20,21,22,23,24,25</td>\n",
       "    </tr>\n",
       "  </tbody>\n",
       "</table>\n",
       "</div>"
      ],
      "text/plain": [
       "           kns_name                                        description  \\\n",
       "0   Amichai Eliyahu  Amichai Eliyahu is a National Religious and co...   \n",
       "1       Ofir Akunis  Ofir Akunis is a veteran Likud politician know...   \n",
       "2        Haim Biton  Haim Biton is a key figure in the Shas party, ...   \n",
       "3     Yoav Ben Tzur  Yoav Ben-Tzur is a senior Shas party member kn...   \n",
       "4  Avraham Betzalel  Avraham Betzalel is a Shas MK who focuses on h...   \n",
       "5        Chaim Katz  Chaim Katz is a senior Likud politician with a...   \n",
       "6        Uri Maklev  Uri Maklev is a veteran Knesset member from th...   \n",
       "7      Yaakov Margi  Yaakov Margi is a senior Shas politician known...   \n",
       "8     Yoel Razvozov  Yoel Razvozov is a former Olympic judoka turne...   \n",
       "\n",
       "  kns_name_hebrew                      knesset_seat  \n",
       "0     אליהו עמיחי                                25  \n",
       "1    אופיר אקוניס           18,19,20,21,22,23,24,25  \n",
       "2      חיים ביטון                                25  \n",
       "3     יואב בן צור              19,20,21,22,23,24,25  \n",
       "4     אברהם בצלאל                          23,24,25  \n",
       "5         חיים כץ  15,16,17,18,19,20,21,22,23,24,25  \n",
       "6       אורי מקלב        17,18,19,20,21,22,23,24,25  \n",
       "7       יעקב מרגי              19,20,21,22,23,24,25  \n",
       "8    יואל רזבוזוב        17,18,19,20,21,22,23,24,25  "
      ]
     },
     "execution_count": 2,
     "metadata": {},
     "output_type": "execute_result"
    }
   ],
   "source": [
    "df"
   ]
  },
  {
   "cell_type": "code",
   "execution_count": 3,
   "metadata": {},
   "outputs": [
    {
     "name": "stdout",
     "output_type": "stream",
     "text": [
      "Data inserted successfully!\n"
     ]
    }
   ],
   "source": [
    "# Insert data into kns_history table\n",
    "for index, row in df.iterrows():\n",
    "    cursor.execute(\"\"\"\n",
    "        INSERT INTO KNS_Description.dbo.kns_members (kns_name, description, kns_name_hebrew, knesset_seat)\n",
    "        VALUES (?, ?, ?, ?)\"\"\",\n",
    "        row[\"kns_name\"], row[\"description\"], row[\"kns_name_hebrew\"], row[\"knesset_seat\"]\n",
    "    )\n",
    "\n",
    "# Commit and close connection\n",
    "conn.commit()\n",
    "cursor.close()\n",
    "conn.close()\n",
    "\n",
    "print(\"Data inserted successfully!\")"
   ]
  },
  {
   "cell_type": "code",
   "execution_count": 21,
   "metadata": {},
   "outputs": [],
   "source": [
    "def get_knesset_numbers(name):\n",
    "    conn = pyodbc.connect(\n",
    "        'DRIVER={ODBC Driver 17 for SQL Server};'\n",
    "        'SERVER=DESKTOP-9LFS960\\SQLEXPRESS;'\n",
    "        'DATABASE=KNS_Description;'\n",
    "        'Trusted_Connection=yes'\n",
    "    )\n",
    "    cursor = conn.cursor()\n",
    "    query = \"SELECT knesset_seat FROM kns_members WHERE kns_name = ?\"\n",
    "    cursor.execute(query, name)\n",
    "    seats = [row[0] for row in cursor.fetchall()]\n",
    "    result = [int(x) for x in seats[0].split(',')]\n",
    "    result.insert(0, \"All\")\n",
    "    conn.close()\n",
    "    return result"
   ]
  },
  {
   "cell_type": "code",
   "execution_count": 22,
   "metadata": {},
   "outputs": [
    {
     "data": {
      "text/plain": [
       "['All', 18, 19, 20, 21, 22, 23, 24, 25]"
      ]
     },
     "execution_count": 22,
     "metadata": {},
     "output_type": "execute_result"
    }
   ],
   "source": [
    "get_knesset_numbers(\"Miri Regev\")  # Replace with actual name to test"
   ]
  },
  {
   "cell_type": "code",
   "execution_count": null,
   "metadata": {},
   "outputs": [],
   "source": [
    "def get_kns_names_and_hebrew():\n",
    "  conn = pyodbc.connect(\n",
    "      'DRIVER={ODBC Driver 17 for SQL Server};'\n",
    "      'SERVER=DESKTOP-9LFS960\\SQLEXPRESS;'\n",
    "      'DATABASE=KNS_Description;'\n",
    "      'Trusted_Connection=yes'\n",
    "  )\n",
    "  cursor = conn.cursor()\n",
    "  query = \"SELECT kns_name, kns_name_hebrew FROM kns_members\"\n",
    "  cursor.execute(query)\n",
    "  names = []\n",
    "  names_hebrew = []\n",
    "  for row in cursor.fetchall():\n",
    "    names.append(row[0])\n",
    "    names_hebrew.append(row[1])\n",
    "  conn.close()\n",
    "  return names, names_hebrew"
   ]
  },
  {
   "cell_type": "code",
   "execution_count": null,
   "metadata": {},
   "outputs": [],
   "source": [
    "get_kns_names_and_hebrew()"
   ]
  }
 ],
 "metadata": {
  "kernelspec": {
   "display_name": "Python 3",
   "language": "python",
   "name": "python3"
  },
  "language_info": {
   "codemirror_mode": {
    "name": "ipython",
    "version": 3
   },
   "file_extension": ".py",
   "mimetype": "text/x-python",
   "name": "python",
   "nbconvert_exporter": "python",
   "pygments_lexer": "ipython3",
   "version": "3.10.0"
  }
 },
 "nbformat": 4,
 "nbformat_minor": 2
}
