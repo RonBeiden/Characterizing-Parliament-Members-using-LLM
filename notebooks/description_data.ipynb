{
 "cells": [
  {
   "cell_type": "code",
   "execution_count": 3,
   "metadata": {},
   "outputs": [],
   "source": [
    "import pandas as pd\n",
    "import pyodbc\n",
    "\n",
    "# Define file path\n",
    "file_path = \"C:/Users/1/Desktop/Final Project/Characterizing-Parliament-Members-using-LLM/db_csv/KNS_members_description_2.xlsx\"\n",
    "\n",
    "# Read the Excel file\n",
    "df = pd.read_excel(file_path, usecols=[\"kns_name\", \"description\", \"kns_name_hebrew\", \"knesset_seat\"])\n",
    "\n",
    "# Define database connection parameters\n",
    "server = \"DESKTOP-9LFS960\\SQLEXPRESS\"  # Change to your server name\n",
    "database = \"KNS_Description\"  # Change to your database name\n",
    "\n",
    "dsn = f'DRIVER={{SQL Server}};SERVER={server};DATABASE={database};Trusted_Connection=yes'\n",
    "\n",
    "# Establish connection\n",
    "conn = pyodbc.connect(dsn)\n",
    "cursor = conn.cursor()\n"
   ]
  },
  {
   "cell_type": "code",
   "execution_count": 4,
   "metadata": {},
   "outputs": [
    {
     "data": {
      "text/html": [
       "<div>\n",
       "<style scoped>\n",
       "    .dataframe tbody tr th:only-of-type {\n",
       "        vertical-align: middle;\n",
       "    }\n",
       "\n",
       "    .dataframe tbody tr th {\n",
       "        vertical-align: top;\n",
       "    }\n",
       "\n",
       "    .dataframe thead th {\n",
       "        text-align: right;\n",
       "    }\n",
       "</style>\n",
       "<table border=\"1\" class=\"dataframe\">\n",
       "  <thead>\n",
       "    <tr style=\"text-align: right;\">\n",
       "      <th></th>\n",
       "      <th>kns_name</th>\n",
       "      <th>description</th>\n",
       "      <th>kns_name_hebrew</th>\n",
       "      <th>knesset_seat</th>\n",
       "    </tr>\n",
       "  </thead>\n",
       "  <tbody>\n",
       "    <tr>\n",
       "      <th>0</th>\n",
       "      <td>Eli Cohen</td>\n",
       "      <td>Eli Cohen is a senior Likud politician known f...</td>\n",
       "      <td>אלי כהן</td>\n",
       "      <td>20,21,22,23,24,25</td>\n",
       "    </tr>\n",
       "    <tr>\n",
       "      <th>1</th>\n",
       "      <td>David Amsalem</td>\n",
       "      <td>A combative and loyal Likud figure, David Amsa...</td>\n",
       "      <td>דוד אמסלם</td>\n",
       "      <td>20,21,22,23,24,25</td>\n",
       "    </tr>\n",
       "    <tr>\n",
       "      <th>2</th>\n",
       "      <td>Yoav Kisch</td>\n",
       "      <td>A former pilot turned politician, Yoav Kisch i...</td>\n",
       "      <td>יואב קיש</td>\n",
       "      <td>20,21,22,23,24,25</td>\n",
       "    </tr>\n",
       "    <tr>\n",
       "      <th>3</th>\n",
       "      <td>Yitzhak Goldknopf</td>\n",
       "      <td>A prominent Haredi leader and head of the Unit...</td>\n",
       "      <td>יצחק גולדקנופף</td>\n",
       "      <td>25</td>\n",
       "    </tr>\n",
       "    <tr>\n",
       "      <th>4</th>\n",
       "      <td>Meir Porush</td>\n",
       "      <td>A veteran Haredi politician, Meir Porush repre...</td>\n",
       "      <td>מאיר פרוש</td>\n",
       "      <td>14,15,16,17,18,19,20,21,22,23,24,25</td>\n",
       "    </tr>\n",
       "    <tr>\n",
       "      <th>5</th>\n",
       "      <td>Miki Zohar</td>\n",
       "      <td>Miki Zohar is a rising Likud figure and curren...</td>\n",
       "      <td>מיקי זוהר</td>\n",
       "      <td>20,21,22,23,24,25</td>\n",
       "    </tr>\n",
       "    <tr>\n",
       "      <th>6</th>\n",
       "      <td>Idit Silman</td>\n",
       "      <td>A former healthcare executive, Idit Silman tra...</td>\n",
       "      <td>עידית סילמן</td>\n",
       "      <td>24,25</td>\n",
       "    </tr>\n",
       "    <tr>\n",
       "      <th>7</th>\n",
       "      <td>Amichai Chikli</td>\n",
       "      <td>Amichai Chikli is a nationalist and outspoken ...</td>\n",
       "      <td>עמיחי שיקלי</td>\n",
       "      <td>24,25</td>\n",
       "    </tr>\n",
       "    <tr>\n",
       "      <th>8</th>\n",
       "      <td>Ron Dermer</td>\n",
       "      <td>A close adviser to Netanyahu and former Israel...</td>\n",
       "      <td>רון דרמר</td>\n",
       "      <td>25</td>\n",
       "    </tr>\n",
       "  </tbody>\n",
       "</table>\n",
       "</div>"
      ],
      "text/plain": [
       "            kns_name                                        description  \\\n",
       "0          Eli Cohen  Eli Cohen is a senior Likud politician known f...   \n",
       "1      David Amsalem  A combative and loyal Likud figure, David Amsa...   \n",
       "2         Yoav Kisch  A former pilot turned politician, Yoav Kisch i...   \n",
       "3  Yitzhak Goldknopf  A prominent Haredi leader and head of the Unit...   \n",
       "4        Meir Porush  A veteran Haredi politician, Meir Porush repre...   \n",
       "5         Miki Zohar  Miki Zohar is a rising Likud figure and curren...   \n",
       "6        Idit Silman  A former healthcare executive, Idit Silman tra...   \n",
       "7     Amichai Chikli  Amichai Chikli is a nationalist and outspoken ...   \n",
       "8         Ron Dermer  A close adviser to Netanyahu and former Israel...   \n",
       "\n",
       "  kns_name_hebrew                         knesset_seat  \n",
       "0         אלי כהן                    20,21,22,23,24,25  \n",
       "1       דוד אמסלם                    20,21,22,23,24,25  \n",
       "2        יואב קיש                    20,21,22,23,24,25  \n",
       "3  יצחק גולדקנופף                                   25  \n",
       "4       מאיר פרוש  14,15,16,17,18,19,20,21,22,23,24,25  \n",
       "5       מיקי זוהר                    20,21,22,23,24,25  \n",
       "6     עידית סילמן                                24,25  \n",
       "7     עמיחי שיקלי                                24,25  \n",
       "8        רון דרמר                                   25  "
      ]
     },
     "execution_count": 4,
     "metadata": {},
     "output_type": "execute_result"
    }
   ],
   "source": [
    "df"
   ]
  },
  {
   "cell_type": "code",
   "execution_count": 5,
   "metadata": {},
   "outputs": [
    {
     "name": "stdout",
     "output_type": "stream",
     "text": [
      "Data inserted successfully!\n"
     ]
    }
   ],
   "source": [
    "# Insert data into kns_history table\n",
    "for index, row in df.iterrows():\n",
    "    cursor.execute(\"\"\"\n",
    "        INSERT INTO KNS_Description.dbo.kns_members (kns_name, description, kns_name_hebrew, knesset_seat)\n",
    "        VALUES (?, ?, ?, ?)\"\"\",\n",
    "        row[\"kns_name\"], row[\"description\"], row[\"kns_name_hebrew\"], row[\"knesset_seat\"]\n",
    "    )\n",
    "\n",
    "# Commit and close connection\n",
    "conn.commit()\n",
    "cursor.close()\n",
    "conn.close()\n",
    "\n",
    "print(\"Data inserted successfully!\")"
   ]
  },
  {
   "cell_type": "code",
   "execution_count": 21,
   "metadata": {},
   "outputs": [],
   "source": [
    "def get_knesset_numbers(name):\n",
    "    conn = pyodbc.connect(\n",
    "        'DRIVER={ODBC Driver 17 for SQL Server};'\n",
    "        'SERVER=DESKTOP-9LFS960\\SQLEXPRESS;'\n",
    "        'DATABASE=KNS_Description;'\n",
    "        'Trusted_Connection=yes'\n",
    "    )\n",
    "    cursor = conn.cursor()\n",
    "    query = \"SELECT knesset_seat FROM kns_members WHERE kns_name = ?\"\n",
    "    cursor.execute(query, name)\n",
    "    seats = [row[0] for row in cursor.fetchall()]\n",
    "    result = [int(x) for x in seats[0].split(',')]\n",
    "    result.insert(0, \"All\")\n",
    "    conn.close()\n",
    "    return result"
   ]
  },
  {
   "cell_type": "code",
   "execution_count": 22,
   "metadata": {},
   "outputs": [
    {
     "data": {
      "text/plain": [
       "['All', 18, 19, 20, 21, 22, 23, 24, 25]"
      ]
     },
     "execution_count": 22,
     "metadata": {},
     "output_type": "execute_result"
    }
   ],
   "source": [
    "get_knesset_numbers(\"Miri Regev\")  # Replace with actual name to test"
   ]
  },
  {
   "cell_type": "code",
   "execution_count": null,
   "metadata": {},
   "outputs": [],
   "source": [
    "def get_kns_names_and_hebrew():\n",
    "  conn = pyodbc.connect(\n",
    "      'DRIVER={ODBC Driver 17 for SQL Server};'\n",
    "      'SERVER=DESKTOP-9LFS960\\SQLEXPRESS;'\n",
    "      'DATABASE=KNS_Description;'\n",
    "      'Trusted_Connection=yes'\n",
    "  )\n",
    "  cursor = conn.cursor()\n",
    "  query = \"SELECT kns_name, kns_name_hebrew FROM kns_members\"\n",
    "  cursor.execute(query)\n",
    "  names = []\n",
    "  names_hebrew = []\n",
    "  for row in cursor.fetchall():\n",
    "    names.append(row[0])\n",
    "    names_hebrew.append(row[1])\n",
    "  conn.close()\n",
    "  return names, names_hebrew"
   ]
  },
  {
   "cell_type": "code",
   "execution_count": null,
   "metadata": {},
   "outputs": [],
   "source": [
    "get_kns_names_and_hebrew()"
   ]
  }
 ],
 "metadata": {
  "kernelspec": {
   "display_name": "Python 3",
   "language": "python",
   "name": "python3"
  },
  "language_info": {
   "codemirror_mode": {
    "name": "ipython",
    "version": 3
   },
   "file_extension": ".py",
   "mimetype": "text/x-python",
   "name": "python",
   "nbconvert_exporter": "python",
   "pygments_lexer": "ipython3",
   "version": "3.10.0"
  }
 },
 "nbformat": 4,
 "nbformat_minor": 2
}
