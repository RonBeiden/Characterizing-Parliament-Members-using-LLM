{
 "cells": [
  {
   "cell_type": "code",
   "execution_count": 8,
   "id": "efcf32d9",
   "metadata": {},
   "outputs": [],
   "source": [
    "import pandas as pd\n",
    "law = \"חוק לתיקון פקודת המשטרה (מס' 37)\" \n",
    "file_path = law + \".csv\"\n",
    "description = law + \".txt\"\n",
    "# df = pd.read_csv(f\"../const/{file_path}\")\n",
    "df = pd.read_csv(\"../const/חוק לתיקון פקודת המשטרה (מס' 37).csv\")\n",
    "kns_names = df[\"english_name\"].tolist()\n",
    "kns_names = [name.replace(\" \", \"_\") for name in kns_names]\n",
    "with open(f\"../const/{description}\", \"r\", encoding=\"utf-8\") as file:\n",
    "    description_law = file.read()"
   ]
  },
  {
   "cell_type": "code",
   "execution_count": 9,
   "id": "622f42d7",
   "metadata": {},
   "outputs": [
    {
     "data": {
      "text/plain": [
       "'החוק מסדיר את כפיפות משטרת ישראל למרות הממשלה, ואת היותו של השר לביטחון פנים ממונה עליה מטעם הממשלה. כן עוגנה סמכותו של השר לביטחון פנים להתוות את מדיניות המשטרה ואת העקרונות הכלליים לפעילותה, ונקבעה חובת דיווח בעניין מדיניות זו לוועדת הפנים והגנת הסביבה של הכנסת אחת לכנס. בנוסף, נקבע כי בתחום החקירות, השר יהיה רשאי לקבוע מדיניות כללית לאחר ששמע את עמדת היועץ המשפטי לממשלה והתייעץ עם המפקח הכללי של משטרת ישראל ועם המופקדים במשטרה על תחום החקירות. בצד זאת, הובהר כי מדיניות השר לא תגרע מחובת המשטרה לפי כל דין בעניין חקירה או תיק, וכן לא תגרע מחובותיה אם נודע לה על ביצוע עבירה. עוד נקבע כי הוראות המשטרה שקובע המפקח הכללי של משטרת ישראל ייקבעו בהתאם למדיניות השר, וכן כי כלל פקודות המשטרה יפורסמו, אלא אם סבר המפקח הכללי באישור היועץ המשפטי לממשלה, כי אין לפרסם פקודה מסוימת.'"
      ]
     },
     "execution_count": 9,
     "metadata": {},
     "output_type": "execute_result"
    }
   ],
   "source": [
    "description_law"
   ]
  },
  {
   "cell_type": "code",
   "execution_count": 11,
   "id": "1b705e85",
   "metadata": {},
   "outputs": [
    {
     "data": {
      "text/plain": [
       "['Moshe_Abutbul',\n",
       " 'Yuli_Edelstein',\n",
       " 'Amir_Ohana',\n",
       " 'Yinon_Azulai',\n",
       " 'Gadi_Eisenkot',\n",
       " 'Yisrael_Eichler',\n",
       " 'Walid_Al_Huashla',\n",
       " 'Karine_Elharrar',\n",
       " 'Amichai_Eliyahu',\n",
       " 'Zeev_Elkin',\n",
       " 'David_Amsalem',\n",
       " 'Ofir_Akunis',\n",
       " 'Moshe_Arbel',\n",
       " 'Yaakov_Asher',\n",
       " 'Uriel_Buso',\n",
       " 'Debbie_Biton',\n",
       " 'Haim_Biton',\n",
       " 'Michael_Biton',\n",
       " 'David_Bitan',\n",
       " 'Boaz_Bismuth',\n",
       " 'Vladimir_Beliak',\n",
       " 'Merav_Ben_Ari',\n",
       " 'Ram_Ben_Barak',\n",
       " 'Itamar_Ben_Gvir',\n",
       " 'Yoav_Ben_Tzur',\n",
       " 'Avraham_Betzalel',\n",
       " 'Orna_Barbivai',\n",
       " 'Nir_Barkat',\n",
       " 'Tali_Gottlieb',\n",
       " 'Yitzhak_Goldknopf',\n",
       " 'Mai_Golan',\n",
       " 'Yoav_Gallant',\n",
       " 'Gila_Gamliel',\n",
       " 'Benny_Gantz',\n",
       " 'Moshe_Gafni',\n",
       " 'Simon_Davidson',\n",
       " 'Avi_Dichter',\n",
       " 'Eli_Dallal',\n",
       " 'Danny_Danon',\n",
       " 'Shalom_Danino',\n",
       " 'Aryeh_Deri',\n",
       " 'Sharon_Haskel',\n",
       " 'Michal_Veldigar',\n",
       " 'Yitzhak_Vserloff',\n",
       " 'Miki_Zohar',\n",
       " 'Yasser_Hujirat',\n",
       " 'Iman_Yassin',\n",
       " 'Boaz_Toporovsky',\n",
       " 'Moshe_Tor_Paz',\n",
       " 'Ahmed_Tibi',\n",
       " 'Yosef_Tayeb',\n",
       " 'Ohad_Tal',\n",
       " 'Hili_Trooper',\n",
       " 'Eli_Cohen',\n",
       " 'Almog_Cohen',\n",
       " 'Meir_Cohen',\n",
       " 'Merav_Cohen',\n",
       " 'Matan_Kahane',\n",
       " 'Ofer_Kasif',\n",
       " 'Ofer_Katz',\n",
       " 'Chaim_Katz',\n",
       " 'Israel_Katz',\n",
       " 'Ron_Katz',\n",
       " 'Yurai_Herzan',\n",
       " 'Miki_Levy',\n",
       " 'Yariv_Levin',\n",
       " 'Naama_Lazimi',\n",
       " 'Avigdor_Lieberman',\n",
       " 'Yair_Lapid',\n",
       " 'Tatyana_Mazerski',\n",
       " 'Merav_Michaeli',\n",
       " 'Chanoch_Melibitzki',\n",
       " 'Yulia_Malinovsky',\n",
       " 'Micha_Malchieli',\n",
       " 'Avi_Maoz',\n",
       " 'Uri_Maklev',\n",
       " 'Yaakov_Margi',\n",
       " 'Sharon_Nir',\n",
       " 'Benjamin_Netanyahu',\n",
       " 'Yoav_Segalovitz',\n",
       " 'Yevgeny_Sova',\n",
       " 'Moshe_Solomon',\n",
       " 'Limor_Son_Har_Melech',\n",
       " 'Ofer_Super',\n",
       " 'Orit_Struk',\n",
       " 'Idit_Silman',\n",
       " 'Bezalel_Smotrich',\n",
       " 'Moshe_Saada',\n",
       " 'Gideon_Saar',\n",
       " 'Mansour_Abbas',\n",
       " 'Ayman_Odeh',\n",
       " 'Youssef_Atauna',\n",
       " 'Hamad_Amar',\n",
       " 'Tzvika_Fogel',\n",
       " 'Oded_Forer',\n",
       " 'Meir_Porush',\n",
       " 'Yasmin_Friedman',\n",
       " 'Orit_Prakash_Cohen',\n",
       " 'Mati_Herchevi',\n",
       " 'Yoav_Kisch',\n",
       " 'Gilad_Kriv',\n",
       " 'Shlomo_Karai',\n",
       " 'Eliahu_Ravivo',\n",
       " 'Miri_Regev',\n",
       " 'Smicha_Rothman',\n",
       " 'Idan_Rol',\n",
       " 'Yoel_Razvozov',\n",
       " 'Efrat_Marom',\n",
       " 'Yifat_Shasha_Biton',\n",
       " 'Alon_Shuster',\n",
       " 'Elazar_Stern',\n",
       " 'Amichai_Chikli',\n",
       " 'Michal_Shir_Sagman',\n",
       " 'Naor_Shiri',\n",
       " 'Aida_Sliman',\n",
       " 'Pnina_Tamno']"
      ]
     },
     "execution_count": 11,
     "metadata": {},
     "output_type": "execute_result"
    }
   ],
   "source": [
    "kns_names"
   ]
  }
 ],
 "metadata": {
  "kernelspec": {
   "display_name": "venv",
   "language": "python",
   "name": "python3"
  },
  "language_info": {
   "codemirror_mode": {
    "name": "ipython",
    "version": 3
   },
   "file_extension": ".py",
   "mimetype": "text/x-python",
   "name": "python",
   "nbconvert_exporter": "python",
   "pygments_lexer": "ipython3",
   "version": "3.11.5"
  }
 },
 "nbformat": 4,
 "nbformat_minor": 5
}
