{
 "cells": [
  {
   "cell_type": "code",
   "execution_count": 1,
   "metadata": {},
   "outputs": [
    {
     "name": "stderr",
     "output_type": "stream",
     "text": [
      "WARNING: Ignoring invalid distribution -elenium (c:\\users\\1\\appdata\\local\\programs\\python\\python310\\lib\\site-packages)\n",
      "WARNING: Ignoring invalid distribution -elenium (c:\\users\\1\\appdata\\local\\programs\\python\\python310\\lib\\site-packages)\n",
      "\n",
      "[notice] A new release of pip is available: 24.0 -> 24.3.1\n",
      "[notice] To update, run: python.exe -m pip install --upgrade pip\n"
     ]
    }
   ],
   "source": [
    "!pip install -qU sentence-transformers langchain langchain_milvus langchain-huggingface ollama langchain-ollama pypdf langchainhub   \"pymilvus[model]\"\n"
   ]
  },
  {
   "cell_type": "code",
   "execution_count": 2,
   "metadata": {},
   "outputs": [
    {
     "name": "stderr",
     "output_type": "stream",
     "text": [
      "\u001b[?25lpulling manifest ⠋ \u001b[?25h\u001b[?25l\u001b[2K\u001b[1Gpulling manifest ⠙ \u001b[?25h\u001b[?25l\u001b[2K\u001b[1Gpulling manifest ⠹ \u001b[?25h\u001b[?25l\u001b[2K\u001b[1Gpulling manifest ⠸ \u001b[?25h\u001b[?25l\u001b[2K\u001b[1Gpulling manifest ⠼ \u001b[?25h\u001b[?25l\u001b[2K\u001b[1Gpulling manifest ⠴ \u001b[?25h\u001b[?25l\u001b[2K\u001b[1Gpulling manifest ⠦ \u001b[?25h\u001b[?25l\u001b[2K\u001b[1Gpulling manifest ⠧ \u001b[?25h\u001b[?25l\u001b[2K\u001b[1Gpulling manifest ⠇ \u001b[?25h\u001b[?25l\u001b[2K\u001b[1Gpulling manifest ⠏ \u001b[?25h\u001b[?25l\u001b[2K\u001b[1Gpulling manifest ⠋ \u001b[?25h\u001b[?25l\u001b[2K\u001b[1Gpulling manifest ⠙ \u001b[?25h\u001b[?25l\u001b[2K\u001b[1Gpulling manifest ⠹ \u001b[?25h\u001b[?25l\u001b[2K\u001b[1Gpulling manifest \n",
      "pulling dde5aa3fc5ff... 100% ▕████████████████▏ 2.0 GB                         \n",
      "pulling 966de95ca8a6... 100% ▕████████████████▏ 1.4 KB                         \n",
      "pulling fcc5a6bec9da... 100% ▕████████████████▏ 7.7 KB                         \n",
      "pulling a70ff7e570d9... 100% ▕████████████████▏ 6.0 KB                         \n",
      "pulling 56bb8bd477a5... 100% ▕████████████████▏   96 B                         \n",
      "pulling 34bb5ab01051... 100% ▕████████████████▏  561 B                         \n",
      "verifying sha256 digest \n",
      "writing manifest \n",
      "success \u001b[?25h\n"
     ]
    }
   ],
   "source": [
    "! ollama pull llama3.2\n"
   ]
  },
  {
   "cell_type": "code",
   "execution_count": 3,
   "metadata": {},
   "outputs": [
    {
     "name": "stderr",
     "output_type": "stream",
     "text": [
      "c:\\Users\\1\\AppData\\Local\\Programs\\Python\\Python310\\lib\\site-packages\\requests\\__init__.py:102: RequestsDependencyWarning: urllib3 (1.26.7) or chardet (5.2.0)/charset_normalizer (2.0.9) doesn't match a supported version!\n",
      "  warnings.warn(\"urllib3 ({}) or chardet ({})/charset_normalizer ({}) doesn't match a supported \"\n"
     ]
    }
   ],
   "source": [
    "import os\n",
    "from pymilvus import MilvusClient\n",
    "from langchain.text_splitter import RecursiveCharacterTextSplitter\n",
    "from langchain.chains import RetrievalQA\n",
    "from langchain_milvus import Milvus\n",
    "from langchain.callbacks.manager import CallbackManager\n",
    "from langchain.callbacks.streaming_stdout import StreamingStdOutCallbackHandler\n",
    "from langchain import hub"
   ]
  },
  {
   "cell_type": "code",
   "execution_count": 5,
   "metadata": {},
   "outputs": [
    {
     "name": "stdout",
     "output_type": "stream",
     "text": [
      "Connection successful!\n"
     ]
    }
   ],
   "source": [
    "from pymilvus import connections, FieldSchema, CollectionSchema, DataType, Collection, list_collections, utility\n",
    "\n",
    "try:\n",
    "    connections.connect(alias=\"default\", host=\"127.0.0.1\", port=\"19530\")\n",
    "    print(\"Connection successful!\")\n",
    "except Exception as e:\n",
    "    print(f\"Connection failed: {e}\")\n"
   ]
  },
  {
   "cell_type": "code",
   "execution_count": 6,
   "metadata": {},
   "outputs": [
    {
     "name": "stdout",
     "output_type": "stream",
     "text": [
      "Available collections: []\n"
     ]
    }
   ],
   "source": [
    "collections = utility.list_collections()\n",
    "print(\"Available collections:\", collections)"
   ]
  },
  {
   "cell_type": "code",
   "execution_count": null,
   "metadata": {},
   "outputs": [],
   "source": [
    "vectorstore = Collection(name=\"Miri_Regev_quotes\")"
   ]
  },
  {
   "cell_type": "code",
   "execution_count": 8,
   "metadata": {},
   "outputs": [
    {
     "name": "stderr",
     "output_type": "stream",
     "text": [
      "c:\\Users\\1\\AppData\\Local\\Programs\\Python\\Python310\\lib\\site-packages\\tqdm\\auto.py:21: TqdmWarning: IProgress not found. Please update jupyter and ipywidgets. See https://ipywidgets.readthedocs.io/en/stable/user_install.html\n",
      "  from .autonotebook import tqdm as notebook_tqdm\n"
     ]
    }
   ],
   "source": [
    "from sentence_transformers import SentenceTransformer\n",
    "\n",
    "# Initialize the embedding model\n",
    "embedding_fn = SentenceTransformer(\"paraphrase-multilingual-MiniLM-L12-v2\")"
   ]
  },
  {
   "cell_type": "code",
   "execution_count": 9,
   "metadata": {},
   "outputs": [],
   "source": [
    "vectorstore.load()\n",
    "\n",
    "# Define a query vector (e.g., embedding for a new query)\n",
    "query_vector = embedding_fn.encode([\"מה דעתך על השמאל במדינה?\"])[0]\n",
    "\n",
    "# Perform the search\n",
    "search_params = {\"metric_type\": \"L2\", \"params\": {\"nprobe\": 10}}\n",
    "results = vectorstore.search(\n",
    "    data=[query_vector],  # Query vector\n",
    "    anns_field=\"vector\",\n",
    "    param=search_params,\n",
    "    limit=15,  # Number of top matches\n",
    "    output_fields=[\"text\"],  # Include the text field in results\n",
    ")"
   ]
  },
  {
   "cell_type": "code",
   "execution_count": 10,
   "metadata": {},
   "outputs": [
    {
     "data": {
      "text/plain": [
       "pymilvus.client.abstract.SearchResult"
      ]
     },
     "execution_count": 10,
     "metadata": {},
     "output_type": "execute_result"
    }
   ],
   "source": [
    "type(results)"
   ]
  },
  {
   "cell_type": "code",
   "execution_count": 11,
   "metadata": {},
   "outputs": [
    {
     "name": "stdout",
     "output_type": "stream",
     "text": [
      "[('כל זה תחת עמותות השמאל', 9.164164543151855), ('לצערי כשהשמאל עותר הם לא מתערבים', 10.9467134475708), ('כל זה תחת השמאל ועמותות השמאל הקיצוניות שמממנות אותם', 12.07800006866455), ('ברור לי כי מפלגת האולפנים והשמאל רוצה לשמור על עצמו', 12.471525192260742), ('הם אומרים מה נגיד לכם השמאל  הכול מותר להם', 12.707771301269531), ('גם זה חיקוי של ראש הממשלה לשעבר נתניהו שדיבר על השמאל כחמוצים', 13.196792602539062), ('כי הרי מה מכר לנו השמאל', 14.076105117797852), ('אלקין השאוויש של השמאל', 14.13370132446289), ('כל מרכיבי הגועליציה הזאת מכרו את הערכים שלהם  מרצ לא מתעסקת עם קהילת הלהטבים ימינה נותנת לאביתר לבעור אבתיסאם תומכת בחוק האזרחות רעמ תומכים בחוק האזרחות', 14.620149612426758), ('אני בעד    הקואליציה המתרפסת הזאת שהצביעה נגד', 14.683370590209961), ('עלה התאנה של השמאל    הפכו אותו לשאוויש שלהם', 14.70635986328125), ('וטוב עשו ראשי האופוזיציה שקיבלו החלטה', 14.707710266113281), ('לאיזה מצב הגענו תראו מה קורה כאן במדינה  איזו התנהלות מכוערת וחסרת אחריות של ראש אופוזיציה שמתחבא מאחורי אלה שמשלמים כל כך הרבה כספים כדי להביא לאנרכיה שלא באים ואומרים אסור לא ניתן יד לסרבנות', 14.730572700500488), ('קודם כול אני מברכת את הכנסת שהצביעה ברוב קולות אופוזיציה וקואליציה כדי לא לאפשר לאלגזירה להמשיך לשדר מכאן', 15.165355682373047), ('איזה שאוויש של השמאל הפכת להיות אלקין', 15.369691848754883)]\n"
     ]
    }
   ],
   "source": [
    "import json\n",
    "\n",
    "# Extract text and distance from search results\n",
    "retrieved_lines_with_distances = [\n",
    "    (res.entity.get('text'), res.distance) for res in results[0]\n",
    "]\n",
    "\n",
    "# Print the results\n",
    "print(retrieved_lines_with_distances)"
   ]
  },
  {
   "cell_type": "code",
   "execution_count": 12,
   "metadata": {},
   "outputs": [],
   "source": [
    "context = \"\\nQuote:\".join(\n",
    "    [line_with_distance[0] for line_with_distance in retrieved_lines_with_distances]\n",
    ")\n"
   ]
  },
  {
   "cell_type": "code",
   "execution_count": 13,
   "metadata": {},
   "outputs": [],
   "source": [
    "question = \"מה דעתך על השמאל במדינה?\""
   ]
  },
  {
   "cell_type": "code",
   "execution_count": 14,
   "metadata": {},
   "outputs": [
    {
     "data": {
      "text/plain": [
       "'כל זה תחת עמותות השמאל\\nQuote:לצערי כשהשמאל עותר הם לא מתערבים\\nQuote:כל זה תחת השמאל ועמותות השמאל הקיצוניות שמממנות אותם\\nQuote:ברור לי כי מפלגת האולפנים והשמאל רוצה לשמור על עצמו\\nQuote:הם אומרים מה נגיד לכם השמאל  הכול מותר להם\\nQuote:גם זה חיקוי של ראש הממשלה לשעבר נתניהו שדיבר על השמאל כחמוצים\\nQuote:כי הרי מה מכר לנו השמאל\\nQuote:אלקין השאוויש של השמאל\\nQuote:כל מרכיבי הגועליציה הזאת מכרו את הערכים שלהם  מרצ לא מתעסקת עם קהילת הלהטבים ימינה נותנת לאביתר לבעור אבתיסאם תומכת בחוק האזרחות רעמ תומכים בחוק האזרחות\\nQuote:אני בעד    הקואליציה המתרפסת הזאת שהצביעה נגד\\nQuote:עלה התאנה של השמאל    הפכו אותו לשאוויש שלהם\\nQuote:וטוב עשו ראשי האופוזיציה שקיבלו החלטה\\nQuote:לאיזה מצב הגענו תראו מה קורה כאן במדינה  איזו התנהלות מכוערת וחסרת אחריות של ראש אופוזיציה שמתחבא מאחורי אלה שמשלמים כל כך הרבה כספים כדי להביא לאנרכיה שלא באים ואומרים אסור לא ניתן יד לסרבנות\\nQuote:קודם כול אני מברכת את הכנסת שהצביעה ברוב קולות אופוזיציה וקואליציה כדי לא לאפשר לאלגזירה להמשיך לשדר מכאן\\nQuote:איזה שאוויש של השמאל הפכת להיות אלקין'"
      ]
     },
     "execution_count": 14,
     "metadata": {},
     "output_type": "execute_result"
    }
   ],
   "source": [
    "context"
   ]
  },
  {
   "cell_type": "code",
   "execution_count": 15,
   "metadata": {},
   "outputs": [],
   "source": [
    "SYSTEM_PROMPT = \"\"\"\n",
    "Human: אתה כרגע בוט שמייצג את מירי רגב במדינת ישראל, הנה ציטוטים שנאמרו על ידך \n",
    "\"\"\"\n",
    "USER_PROMPT = f\"\"\"\n",
    "Use the following Quotes enclosed in <context> tags to provide an answer to the question enclosed in <question> tags, answer like you were Miri Regev use the tone you find in the context quotes. answer in Hebrew.\n",
    "<context>\n",
    "{context}\n",
    "</context>\n",
    "<question>\n",
    "{question}\n",
    "</question>\n",
    "\"\"\"\n"
   ]
  },
  {
   "cell_type": "code",
   "execution_count": 16,
   "metadata": {},
   "outputs": [],
   "source": [
    "# Load the model\n",
    "import ollama\n",
    "\n",
    "# The model is already pulled in CELL INDEX: 1, so you can directly use the chat function"
   ]
  },
  {
   "cell_type": "code",
   "execution_count": 17,
   "metadata": {},
   "outputs": [
    {
     "name": "stdout",
     "output_type": "stream",
     "text": [
      "השמאל?  אני, \"אל' כר\"  . \n",
      "\n",
      "בדרך היראה,  \"לצערי, כשהשמאל 'עותר\",  \"לא\"  ,  ''\".  \n",
      " '''.  \n",
      "\n",
      "'''.  \n",
      "\n",
      "'''.  \n",
      "\n",
      " '''.   \n",
      "\n",
      "'''.  \n",
      "\n",
      "'''.  \n",
      "\n",
      "'''.  \n",
      "\n",
      "'.' \n",
      "\n",
      " '''.   \n",
      "\n",
      " '''.   \n",
      "\n",
      " '''.   \n",
      "\n",
      " '''.   \n",
      "\n",
      "'''.  \n",
      "\n",
      "'.'\n"
     ]
    }
   ],
   "source": [
    "from ollama import chat\n",
    "from ollama import ChatResponse\n",
    "\n",
    "# Ensure the server is running and the correct host and port are being used\n",
    "try:\n",
    "    response: ChatResponse = chat(\n",
    "        model=\"llama3.2\",\n",
    "        messages=[\n",
    "            {\"role\": \"system\", \"content\": SYSTEM_PROMPT},\n",
    "            {\"role\": \"user\", \"content\": USER_PROMPT},\n",
    "        ],\n",
    "    )\n",
    "    print(response[\"message\"][\"content\"])\n",
    "except Exception as e:\n",
    "    print(f\"An error occurred: {e}\")\n"
   ]
  }
 ],
 "metadata": {
  "kernelspec": {
   "display_name": "Python 3",
   "language": "python",
   "name": "python3"
  },
  "language_info": {
   "codemirror_mode": {
    "name": "ipython",
    "version": 3
   },
   "file_extension": ".py",
   "mimetype": "text/x-python",
   "name": "python",
   "nbconvert_exporter": "python",
   "pygments_lexer": "ipython3",
   "version": "3.10.0"
  }
 },
 "nbformat": 4,
 "nbformat_minor": 2
}
