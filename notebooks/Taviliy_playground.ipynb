{
 "cells": [
  {
   "cell_type": "code",
   "execution_count": 1,
   "metadata": {},
   "outputs": [
    {
     "name": "stdout",
     "output_type": "stream",
     "text": [
      "Collecting tavily-python\n",
      "  Obtaining dependency information for tavily-python from https://files.pythonhosted.org/packages/2f/dd/63d1d2fddcaaee040745ea58d13b54c0b1483260ddae52eb59abf691f757/tavily_python-0.5.4-py3-none-any.whl.metadata\n",
      "  Downloading tavily_python-0.5.4-py3-none-any.whl.metadata (91 kB)\n",
      "     ---------------------------------------- 0.0/91.6 kB ? eta -:--:--\n",
      "     ---- ----------------------------------- 10.2/91.6 kB ? eta -:--:--\n",
      "     -------- ----------------------------- 20.5/91.6 kB 217.9 kB/s eta 0:00:01\n",
      "     ------------ ------------------------- 30.7/91.6 kB 217.9 kB/s eta 0:00:01\n",
      "     ------------ ------------------------- 30.7/91.6 kB 217.9 kB/s eta 0:00:01\n",
      "     ------------ ------------------------- 30.7/91.6 kB 217.9 kB/s eta 0:00:01\n",
      "     ------------ ------------------------- 30.7/91.6 kB 217.9 kB/s eta 0:00:01\n",
      "     ----------------- --------------------- 41.0/91.6 kB 93.7 kB/s eta 0:00:01\n",
      "     --------------------- ---------------- 51.2/91.6 kB 113.8 kB/s eta 0:00:01\n",
      "     ------------------------- ------------ 61.4/91.6 kB 130.9 kB/s eta 0:00:01\n",
      "     -------------------------------------- 91.6/91.6 kB 173.6 kB/s eta 0:00:00\n",
      "Requirement already satisfied: requests in c:\\users\\1\\desktop\\final project\\venv\\lib\\site-packages (from tavily-python) (2.32.3)\n",
      "Collecting tiktoken>=0.5.1 (from tavily-python)\n",
      "  Obtaining dependency information for tiktoken>=0.5.1 from https://files.pythonhosted.org/packages/6f/07/c67ad1724b8e14e2b4c8cca04b15da158733ac60136879131db05dda7c30/tiktoken-0.9.0-cp311-cp311-win_amd64.whl.metadata\n",
      "  Downloading tiktoken-0.9.0-cp311-cp311-win_amd64.whl.metadata (6.8 kB)\n",
      "Collecting httpx (from tavily-python)\n",
      "  Obtaining dependency information for httpx from https://files.pythonhosted.org/packages/2a/39/e50c7c3a983047577ee07d2a9e53faf5a69493943ec3f6a384bdc792deb2/httpx-0.28.1-py3-none-any.whl.metadata\n",
      "  Downloading httpx-0.28.1-py3-none-any.whl.metadata (7.1 kB)\n",
      "Requirement already satisfied: regex>=2022.1.18 in c:\\users\\1\\desktop\\final project\\venv\\lib\\site-packages (from tiktoken>=0.5.1->tavily-python) (2024.11.6)\n",
      "Requirement already satisfied: charset-normalizer<4,>=2 in c:\\users\\1\\desktop\\final project\\venv\\lib\\site-packages (from requests->tavily-python) (3.4.1)\n",
      "Requirement already satisfied: idna<4,>=2.5 in c:\\users\\1\\desktop\\final project\\venv\\lib\\site-packages (from requests->tavily-python) (3.10)\n",
      "Requirement already satisfied: urllib3<3,>=1.21.1 in c:\\users\\1\\desktop\\final project\\venv\\lib\\site-packages (from requests->tavily-python) (2.3.0)\n",
      "Requirement already satisfied: certifi>=2017.4.17 in c:\\users\\1\\desktop\\final project\\venv\\lib\\site-packages (from requests->tavily-python) (2024.12.14)\n",
      "Requirement already satisfied: anyio in c:\\users\\1\\desktop\\final project\\venv\\lib\\site-packages (from httpx->tavily-python) (3.7.1)\n",
      "Collecting httpcore==1.* (from httpx->tavily-python)\n",
      "  Obtaining dependency information for httpcore==1.* from https://files.pythonhosted.org/packages/18/8d/f052b1e336bb2c1fc7ed1aaed898aa570c0b61a09707b108979d9fc6e308/httpcore-1.0.8-py3-none-any.whl.metadata\n",
      "  Downloading httpcore-1.0.8-py3-none-any.whl.metadata (21 kB)\n",
      "Collecting h11<0.15,>=0.13 (from httpcore==1.*->httpx->tavily-python)\n",
      "  Obtaining dependency information for h11<0.15,>=0.13 from https://files.pythonhosted.org/packages/95/04/ff642e65ad6b90db43e668d70ffb6736436c7ce41fcc549f4e9472234127/h11-0.14.0-py3-none-any.whl.metadata\n",
      "  Downloading h11-0.14.0-py3-none-any.whl.metadata (8.2 kB)\n",
      "Requirement already satisfied: sniffio>=1.1 in c:\\users\\1\\desktop\\final project\\venv\\lib\\site-packages (from anyio->httpx->tavily-python) (1.3.1)\n",
      "Downloading tavily_python-0.5.4-py3-none-any.whl (44 kB)\n",
      "   ---------------------------------------- 0.0/44.4 kB ? eta -:--:--\n",
      "   --------------------------- ------------ 30.7/44.4 kB 660.6 kB/s eta 0:00:01\n",
      "   ---------------------------------------- 44.4/44.4 kB 727.2 kB/s eta 0:00:00\n",
      "Downloading tiktoken-0.9.0-cp311-cp311-win_amd64.whl (893 kB)\n",
      "   ---------------------------------------- 0.0/893.9 kB ? eta -:--:--\n",
      "   - ------------------------------------- 30.7/893.9 kB 660.6 kB/s eta 0:00:02\n",
      "   -- ------------------------------------ 61.4/893.9 kB 656.4 kB/s eta 0:00:02\n",
      "   --- ----------------------------------- 71.7/893.9 kB 491.5 kB/s eta 0:00:02\n",
      "   ---- --------------------------------- 112.6/893.9 kB 595.3 kB/s eta 0:00:02\n",
      "   ---- --------------------------------- 112.6/893.9 kB 595.3 kB/s eta 0:00:02\n",
      "   ---- --------------------------------- 112.6/893.9 kB 595.3 kB/s eta 0:00:02\n",
      "   ---- --------------------------------- 112.6/893.9 kB 595.3 kB/s eta 0:00:02\n",
      "   ----- -------------------------------- 122.9/893.9 kB 327.4 kB/s eta 0:00:03\n",
      "   ------- ------------------------------ 174.1/893.9 kB 403.5 kB/s eta 0:00:02\n",
      "   -------- ----------------------------- 194.6/893.9 kB 436.8 kB/s eta 0:00:02\n",
      "   --------- ---------------------------- 225.3/893.9 kB 430.1 kB/s eta 0:00:02\n",
      "   ---------- --------------------------- 235.5/893.9 kB 437.4 kB/s eta 0:00:02\n",
      "   ---------- --------------------------- 235.5/893.9 kB 437.4 kB/s eta 0:00:02\n",
      "   ---------- --------------------------- 235.5/893.9 kB 437.4 kB/s eta 0:00:02\n",
      "   ---------- --------------------------- 235.5/893.9 kB 437.4 kB/s eta 0:00:02\n",
      "   ------------ ------------------------- 286.7/893.9 kB 376.7 kB/s eta 0:00:02\n",
      "   -------------- ----------------------- 337.9/893.9 kB 419.6 kB/s eta 0:00:02\n",
      "   ----------------- -------------------- 419.8/893.9 kB 494.7 kB/s eta 0:00:01\n",
      "   -------------------- ----------------- 481.3/893.9 kB 538.3 kB/s eta 0:00:01\n",
      "   --------------------- ---------------- 501.8/893.9 kB 552.3 kB/s eta 0:00:01\n",
      "   --------------------- ---------------- 501.8/893.9 kB 552.3 kB/s eta 0:00:01\n",
      "   --------------------- ---------------- 501.8/893.9 kB 552.3 kB/s eta 0:00:01\n",
      "   ----------------------- -------------- 563.2/893.9 kB 520.7 kB/s eta 0:00:01\n",
      "   ---------------------------- --------- 665.6/893.9 kB 590.9 kB/s eta 0:00:01\n",
      "   --------------------------------- ---- 778.2/893.9 kB 664.4 kB/s eta 0:00:01\n",
      "   -------------------------------------- 893.9/893.9 kB 734.5 kB/s eta 0:00:00\n",
      "Downloading httpx-0.28.1-py3-none-any.whl (73 kB)\n",
      "   ---------------------------------------- 0.0/73.5 kB ? eta -:--:--\n",
      "   ---------------------------------------- 73.5/73.5 kB 4.0 MB/s eta 0:00:00\n",
      "Downloading httpcore-1.0.8-py3-none-any.whl (78 kB)\n",
      "   ---------------------------------------- 0.0/78.7 kB ? eta -:--:--\n",
      "   ---------------------------------------- 78.7/78.7 kB 4.3 MB/s eta 0:00:00\n",
      "Downloading h11-0.14.0-py3-none-any.whl (58 kB)\n",
      "   ---------------------------------------- 0.0/58.3 kB ? eta -:--:--\n",
      "   ---------------------------------------- 58.3/58.3 kB ? eta 0:00:00\n",
      "Installing collected packages: h11, tiktoken, httpcore, httpx, tavily-python\n",
      "Successfully installed h11-0.14.0 httpcore-1.0.8 httpx-0.28.1 tavily-python-0.5.4 tiktoken-0.9.0\n",
      "Note: you may need to restart the kernel to use updated packages.\n"
     ]
    },
    {
     "name": "stderr",
     "output_type": "stream",
     "text": [
      "\n",
      "[notice] A new release of pip is available: 23.2.1 -> 25.0.1\n",
      "[notice] To update, run: python.exe -m pip install --upgrade pip\n"
     ]
    }
   ],
   "source": [
    "%pip install tavily-python"
   ]
  },
  {
   "cell_type": "code",
   "execution_count": null,
   "metadata": {},
   "outputs": [
    {
     "name": "stdout",
     "output_type": "stream",
     "text": [
      "מירי רגב קידמה רפורמות בתחבורה ציבורית, כולל העלאת מחירים ב-33% ושינויים מדיניות. היא תומכת בהעברת סמכויות ניהול לרמות מטרופוליניות וערים. היא רואה בתחבורה ציבורית מרכיב חיוני לחיבוריות ולפיתוח אזורי.\n"
     ]
    }
   ],
   "source": [
    "from tavily import TavilyClient\n",
    "\n",
    "tavily_client = TavilyClient(api_key=\"CHANGE_ME\")\n",
    "response = tavily_client.search(\"מה דעתה של מירי רגב על תחבורה ציבורית?\", include_answer=True)\n",
    "\n",
    "print(response[\"answer\"])"
   ]
  },
  {
   "cell_type": "code",
   "execution_count": 5,
   "metadata": {},
   "outputs": [
    {
     "name": "stdout",
     "output_type": "stream",
     "text": [
      "Lionel Messi is an Argentine soccer player who has won multiple Ballon d'Or awards and the 2022 FIFA World Cup with Argentina. He played for FC Barcelona and Paris Saint-Germain before joining Inter Miami CF in the MLS. Messi is known for his prolific goal-scoring and playmaking abilities.\n"
     ]
    }
   ],
   "source": [
    "print(response[\"answer\"])"
   ]
  }
 ],
 "metadata": {
  "kernelspec": {
   "display_name": "venv",
   "language": "python",
   "name": "python3"
  },
  "language_info": {
   "codemirror_mode": {
    "name": "ipython",
    "version": 3
   },
   "file_extension": ".py",
   "mimetype": "text/x-python",
   "name": "python",
   "nbconvert_exporter": "python",
   "pygments_lexer": "ipython3",
   "version": "3.11.5"
  }
 },
 "nbformat": 4,
 "nbformat_minor": 2
}
