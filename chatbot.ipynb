{
 "cells": [
  {
   "cell_type": "code",
   "execution_count": 1,
   "metadata": {},
   "outputs": [
    {
     "name": "stderr",
     "output_type": "stream",
     "text": [
      "c:\\Users\\1\\AppData\\Local\\Programs\\Python\\Python310\\lib\\site-packages\\tqdm\\auto.py:21: TqdmWarning: IProgress not found. Please update jupyter and ipywidgets. See https://ipywidgets.readthedocs.io/en/stable/user_install.html\n",
      "  from .autonotebook import tqdm as notebook_tqdm\n"
     ]
    },
    {
     "name": "stdout",
     "output_type": "stream",
     "text": [
      "WARNING:tensorflow:From c:\\Users\\1\\AppData\\Local\\Programs\\Python\\Python310\\lib\\site-packages\\tf_keras\\src\\losses.py:2976: The name tf.losses.sparse_softmax_cross_entropy is deprecated. Please use tf.compat.v1.losses.sparse_softmax_cross_entropy instead.\n",
      "\n"
     ]
    }
   ],
   "source": [
    "from Milvus_db import *"
   ]
  },
  {
   "cell_type": "code",
   "execution_count": 8,
   "metadata": {},
   "outputs": [],
   "source": [
    "kns_name = 'Miri_Regev'\n",
    "query = 'איך תפעלי בנוגע לתחבורה הציבורית?'\n",
    "\n",
    "M = get_and_load_collection(kns_name)\n"
   ]
  },
  {
   "cell_type": "code",
   "execution_count": 9,
   "metadata": {},
   "outputs": [],
   "source": [
    "context = RAG(kns_name, query)"
   ]
  },
  {
   "cell_type": "code",
   "execution_count": 10,
   "metadata": {},
   "outputs": [
    {
     "data": {
      "text/plain": [
       "['לפני שאתם מחייבים את האנשים הפרטיים תחייבו גם את התחבורה הציבורית',\n",
       " 'עכשיו התפקיד שלנו זה להוסיף את התדירות של האוטובוסים רכבות בעזרת השם  הרכבת מקריית שמונה ועד אילת מתקדמת  רכבות קלות להביא עוד ועוד כלים של תחבורה ציבורית כדי באמת לשכנע את האזרח לוותר על הרכב ולנסוע בתחבורה הציבורית',\n",
       " 'אתם מעלים את מחיר הנסיעה בתחבורה הציבורית ב',\n",
       " 'אני נותן טיפים לשרת התחבורה',\n",
       " 'הוא אומר שזה המקום הכי מזוהם ובעקבות שלאת ההבהרה שלך נאמר שבעיקר יש שם תנועה של תחבורה ציבורית אבל הרפורמה לא מתעסקת בתחבורה ציבורית',\n",
       " 'ממשלה שאומרת שאכפת לה מהפריפריה ומהחלשים ובפועל מעלה ב את מחירי הנסיעה בתחבורה הציבורית',\n",
       " 'אם המזהם העיקרי הוא תחבורה ציבורית מדוע הרפורמה הזאת נוגעת רק לכלי רכב פרטיים',\n",
       " 'אנחנו רוצים שבכל מתחמי התחנות אדם יגיע מהבית שלו ברכב דוגלגלי יחנה בתחנה ייסע ליעדו על רכבת או על אוטובוס חשמלי או אוטובוס אחר ויחזור',\n",
       " 'בסוף האחריות האזרחית על התעופה היא של שרת התחבורה',\n",
       " 'יש כאן בעצם ראייה כוללת שמדברת על יכולת של הנגשה וזמינות לאזרח של תחבורה ציבורית  זמינה נגישה וכמובן גם ירוקה עד כמה שניתן',\n",
       " 'משרד התחבורה הוא משרד גדול משרד שיש לו אחריות אזרחית על אוויר ים ויבשה על כל הכניסה והיציאה אל הארץ ומהארץ החוצה',\n",
       " 'כל נושא הרכבים האוטונומיים ורכבים חשמליים ואוטובוסים חשמליים  כל הסוגיה הזאת מקבלת אצלנו משקל מאוד מאוד כבד בוודאי בכל מה שקשור בתחבורה הציבורית',\n",
       " 'הנחיתי הבוקר את מנהל רשות התחבורה הציבורית ורכבת ישראל לתגבר את התחבורה הציבורית לאזור ההלוויה ההמונית ולתגבר את הקווים הביןעירוניים לבני ברק כדי לאפשר להמונים להגיע ולקחת חלק בהלוויה',\n",
       " 'בזה שהוא מנע כסף מזומן לתחבורה הציבורית לפריפריה',\n",
       " 'נדבר על הרכבת הקלה וגם על הכבדה',\n",
       " 'העלאת מחירים רפורמות כלכליות חסרות אחריות משבר מול החקלאים בעיות בתחבורה הציבורית',\n",
       " 'בגלל שבחרישקציר יש כלי רכב כי יש תחבורה ציבורית רק פעמיים ביום העלו את הסטטוס הסוציואקונומי',\n",
       " 'מה נראה לך שעם שרת תחבורה כמוני הם לא יתקנו את התקלות',\n",
       " 'והעיקר  גברת מרבית נוסעת ברכבית אבל לתחבורה הציבורית היא לא דואגת ולפקקות היא לא דואגת',\n",
       " 'מצד שני ייקרתם גם מחירי התחבורה הציבורית  הוא אפילו לא יודע מה זה רבקו אדון ליברמן']"
      ]
     },
     "execution_count": 10,
     "metadata": {},
     "output_type": "execute_result"
    }
   ],
   "source": [
    "context"
   ]
  }
 ],
 "metadata": {
  "kernelspec": {
   "display_name": "Python 3",
   "language": "python",
   "name": "python3"
  },
  "language_info": {
   "codemirror_mode": {
    "name": "ipython",
    "version": 3
   },
   "file_extension": ".py",
   "mimetype": "text/x-python",
   "name": "python",
   "nbconvert_exporter": "python",
   "pygments_lexer": "ipython3",
   "version": "3.10.0"
  }
 },
 "nbformat": 4,
 "nbformat_minor": 2
}
